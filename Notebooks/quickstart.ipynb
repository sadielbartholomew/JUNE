{
 "cells": [
  {
   "cell_type": "code",
   "execution_count": 3,
   "metadata": {},
   "outputs": [],
   "source": [
    "%load_ext autoreload\n",
    "%autoreload 2"
   ]
  },
  {
   "cell_type": "code",
   "execution_count": 4,
   "metadata": {},
   "outputs": [],
   "source": [
    "import warnings\n",
    "warnings.filterwarnings('ignore')"
   ]
  },
  {
   "cell_type": "code",
   "execution_count": 5,
   "metadata": {},
   "outputs": [],
   "source": [
    "import numpy as np\n",
    "import time\n",
    "import matplotlib.pyplot as plt\n",
    "import seaborn as sns\n",
    "sns.set_context('notebook')"
   ]
  },
  {
   "cell_type": "code",
   "execution_count": 8,
   "metadata": {},
   "outputs": [],
   "source": [
    "from june import World \n",
    "from june.demography.geography import Geography\n",
    "from june.demography import Demography\n",
    "from june.interaction import ContactAveraging\n",
    "from june.infection import Infection\n",
    "from june.infection.symptoms import SymptomsConstant\n",
    "from june.infection.transmission import TransmissionConstant\n",
    "from june.groups import Hospitals, Schools, Companies, Households, CareHomes, Cemeteries\n",
    "from june.groups.leisure import Cinemas, Pubs, Groceries\n",
    "from june.simulator import Simulator\n",
    "from june.seed import Seed\n",
    "from june import paths\n",
    "from june.logger.read_logger import ReadLogger\n",
    "from june.infection.infection import InfectionSelector\n",
    "from june.world import generate_world_from_hdf5"
   ]
  },
  {
   "cell_type": "markdown",
   "metadata": {},
   "source": [
    "# Initialize world\n",
    "\n",
    "To initialize a certain world, we need to add the different components we want to have in it. First we specify what super areas (msoa) we want to create. We have included these ones, because they are known to contain hospitals, schools, care homes, and companies.\n",
    "\n",
    "After creating the geography, we create the different components the worlds need to have such as care homes, companies ..."
   ]
  },
  {
   "cell_type": "code",
   "execution_count": 9,
   "metadata": {},
   "outputs": [
    {
     "name": "stdout",
     "output_type": "stream",
     "text": [
      "2020-06-05 17:49:35,837 - june.demography.geography - INFO - There are 43 areas and 2 super_areas in the world.\n",
      "2020-06-05 17:49:35,845 - june.groups.hospital - INFO - There are 1 hospitals in this geography.\n",
      "2020-06-05 17:49:35,892 - june.groups.school - INFO - There are 5 schools in this geography.\n",
      "2020-06-05 17:49:35,908 - june.groups.school - INFO - No school for the age 0 in this world.\n",
      "2020-06-05 17:49:35,912 - june.groups.school - INFO - No school for the age 1 in this world.\n",
      "2020-06-05 17:49:35,918 - june.groups.school - INFO - No school for the age 2 in this world.\n",
      "2020-06-05 17:49:35,981 - june.groups.school - INFO - No school for the age 19 in this world.\n",
      "2020-06-05 17:49:36,260 - june.groups.carehome - INFO - There are 43 care_homes in this geography.\n",
      "populating the world's geography with the specified demography...\n",
      "2020-06-05 17:49:44,180 - june.distributors.worker_distributor - INFO - There are 0 who had to be told to stay real\n",
      "CPU times: user 8.89 s, sys: 1.02 s, total: 9.91 s\n",
      "Wall time: 10.4 s\n"
     ]
    }
   ],
   "source": [
    "%%time\n",
    "geography = Geography.from_file({\n",
    "                                \"msoa\":  [\"E02002512\", \"E02001697\"]\n",
    "                                          #[\"E02001720\",\n",
    "                                          #\"E00088544\", \n",
    "                                          #\"E02002560\", \n",
    "                                          #\"E02002559\"]\n",
    "                                }\n",
    "                                )\n",
    "\n",
    "geography.hospitals = Hospitals.for_geography(geography)\n",
    "geography.schools = Schools.for_geography(geography)\n",
    "geography.companies = Companies.for_geography(geography)\n",
    "geography.care_homes = CareHomes.for_geography(geography)\n",
    "demography = Demography.for_geography(geography)\n",
    "world = World(geography, demography, include_households=True)"
   ]
  },
  {
   "cell_type": "markdown",
   "metadata": {},
   "source": [
    "### If it took a long time to run the previous command, it might be a good idea to save the world to reuse it later."
   ]
  },
  {
   "cell_type": "code",
   "execution_count": 10,
   "metadata": {},
   "outputs": [],
   "source": [
    "#world.to_hdf5(\"world.hdf5\")"
   ]
  },
  {
   "cell_type": "markdown",
   "metadata": {},
   "source": [
    "If we would like to load the world we saved, we just do"
   ]
  },
  {
   "cell_type": "code",
   "execution_count": 11,
   "metadata": {},
   "outputs": [],
   "source": [
    "#world = generate_world_from_hdf5(\"world.hdf5\")"
   ]
  },
  {
   "cell_type": "markdown",
   "metadata": {},
   "source": [
    "you have now a beautiful pre-pandemic world. "
   ]
  },
  {
   "cell_type": "markdown",
   "metadata": {},
   "source": [
    "## Commute, travel and leisure"
   ]
  },
  {
   "cell_type": "markdown",
   "metadata": {},
   "source": [
    "We can add cinemas, pubs, groceries, etc. as well as commute in major cities with"
   ]
  },
  {
   "cell_type": "code",
   "execution_count": 12,
   "metadata": {},
   "outputs": [],
   "source": [
    "# leisure\n",
    "world.cinemas = Cinemas.for_geography(geography)\n",
    "world.pubs = Pubs.for_geography(geography)\n",
    "world.groceries = Groceries.for_super_areas(world.super_areas,\n",
    "                                            venues_per_capita=1/500)"
   ]
  },
  {
   "cell_type": "code",
   "execution_count": 13,
   "metadata": {},
   "outputs": [],
   "source": [
    "# commute\n",
    "world.initialise_commuting()"
   ]
  },
  {
   "cell_type": "markdown",
   "metadata": {},
   "source": [
    "We are also going to need some cemeteries...geography.cemeteries = Cemeteries()\n"
   ]
  },
  {
   "cell_type": "code",
   "execution_count": 14,
   "metadata": {},
   "outputs": [],
   "source": [
    "world.cemeteries = Cemeteries()"
   ]
  },
  {
   "cell_type": "markdown",
   "metadata": {},
   "source": [
    "# Adding the infection"
   ]
  },
  {
   "cell_type": "markdown",
   "metadata": {},
   "source": [
    "Now, you can play around with different models of infections. The building blocks for an infection are: Transmission and Symptoms. For now, only SymptomsConstant and TransmissionConstant are in a state to be used."
   ]
  },
  {
   "cell_type": "code",
   "execution_count": 15,
   "metadata": {},
   "outputs": [],
   "source": [
    "selector = InfectionSelector.from_file()"
   ]
  },
  {
   "cell_type": "code",
   "execution_count": 16,
   "metadata": {},
   "outputs": [
    {
     "data": {
      "text/plain": [
       "<june.infection.infection.InfectionSelector at 0x7f7e936fcca0>"
      ]
     },
     "execution_count": 16,
     "metadata": {},
     "output_type": "execute_result"
    }
   ],
   "source": [
    "selector"
   ]
  },
  {
   "cell_type": "markdown",
   "metadata": {},
   "source": [
    "# Adding the interaction"
   ]
  },
  {
   "cell_type": "code",
   "execution_count": 17,
   "metadata": {},
   "outputs": [],
   "source": [
    "interaction = ContactAveraging.from_file(selector=selector)\n",
    "#interaction = DefaultInteraction.from_file(selector=selector)"
   ]
  },
  {
   "cell_type": "markdown",
   "metadata": {},
   "source": [
    "Beta are the intensities of the interaction taking place at the different groups"
   ]
  },
  {
   "cell_type": "code",
   "execution_count": 18,
   "metadata": {},
   "outputs": [
    {
     "data": {
      "text/plain": [
       "{'box': 1,\n",
       " 'pub': 1,\n",
       " 'grocery': 0.1,\n",
       " 'cinema': 0.1,\n",
       " 'commute_unit': 1,\n",
       " 'commute_city_unit': 1,\n",
       " 'travel_unit': 1,\n",
       " 'hospital': 1,\n",
       " 'care_home': 1,\n",
       " 'company': 1,\n",
       " 'school': 1,\n",
       " 'household': 1}"
      ]
     },
     "execution_count": 18,
     "metadata": {},
     "output_type": "execute_result"
    }
   ],
   "source": [
    "interaction.beta"
   ]
  },
  {
   "cell_type": "markdown",
   "metadata": {},
   "source": [
    "to modify these, simply do"
   ]
  },
  {
   "cell_type": "code",
   "execution_count": 19,
   "metadata": {},
   "outputs": [],
   "source": [
    "interaction.beta['household'] *= 2"
   ]
  },
  {
   "cell_type": "code",
   "execution_count": 20,
   "metadata": {},
   "outputs": [
    {
     "data": {
      "text/plain": [
       "{'box': 1,\n",
       " 'pub': 1,\n",
       " 'grocery': 0.1,\n",
       " 'cinema': 0.1,\n",
       " 'commute_unit': 1,\n",
       " 'commute_city_unit': 1,\n",
       " 'travel_unit': 1,\n",
       " 'hospital': 1,\n",
       " 'care_home': 1,\n",
       " 'company': 1,\n",
       " 'school': 1,\n",
       " 'household': 2}"
      ]
     },
     "execution_count": 20,
     "metadata": {},
     "output_type": "execute_result"
    }
   ],
   "source": [
    "interaction.beta"
   ]
  },
  {
   "cell_type": "markdown",
   "metadata": {},
   "source": [
    "moreover this interaction module uses contact matrices, that are different for different groups. These contact matrices shouldnt be modified for now. However they are a combination of conversational contact matrices, and physical contact matrices (see the BBC pandemic paper, from where these matrices are extracted https://www.medrxiv.org/content/10.1101/2020.02.16.20023754v2)\n",
    "\n",
    "There is a parameter, ``alpha`` ($\\alpha$), that combines these two matrices in the following way,\n",
    "\n",
    "\n",
    "$\\beta M \\left(1 + (\\alpha -1) \\right) P$\n",
    "\n",
    "where $\\beta$ is the intensity of the interaction, and $P$ the physical contact matrix. A larger $\\alpha$ produces more physical contacts. It is an overall number, non dependent of the particular group.\n"
   ]
  },
  {
   "cell_type": "code",
   "execution_count": 21,
   "metadata": {},
   "outputs": [
    {
     "data": {
      "text/plain": [
       "2.0"
      ]
     },
     "execution_count": 21,
     "metadata": {},
     "output_type": "execute_result"
    }
   ],
   "source": [
    "interaction.alpha_physical"
   ]
  },
  {
   "cell_type": "code",
   "execution_count": 22,
   "metadata": {},
   "outputs": [],
   "source": [
    "interaction.alpha_physical /= 2"
   ]
  },
  {
   "cell_type": "code",
   "execution_count": 23,
   "metadata": {},
   "outputs": [
    {
     "data": {
      "text/plain": [
       "1.0"
      ]
     },
     "execution_count": 23,
     "metadata": {},
     "output_type": "execute_result"
    }
   ],
   "source": [
    "interaction.alpha_physical"
   ]
  },
  {
   "cell_type": "markdown",
   "metadata": {},
   "source": [
    "# Seed the disease"
   ]
  },
  {
   "cell_type": "markdown",
   "metadata": {},
   "source": [
    "There are two options implemented in the seed at the moment, either you specify the number of cases and these are then homogeneously distributed by population to the different areas, or you use UK data on cases per region. For now use the first case."
   ]
  },
  {
   "cell_type": "code",
   "execution_count": 24,
   "metadata": {},
   "outputs": [],
   "source": [
    "seed = Seed(world.super_areas, selector,)"
   ]
  },
  {
   "cell_type": "code",
   "execution_count": 25,
   "metadata": {},
   "outputs": [],
   "source": [
    "n_cases = 50\n",
    "seed.unleash_virus(n_cases) # play around with the initial number of cases"
   ]
  },
  {
   "cell_type": "markdown",
   "metadata": {},
   "source": [
    "# Run the simulation"
   ]
  },
  {
   "cell_type": "markdown",
   "metadata": {},
   "source": [
    "Since the timer configuration is a bit cumbersome, it is read from the config file at ``configs/config_example.yaml``"
   ]
  },
  {
   "cell_type": "code",
   "execution_count": 26,
   "metadata": {},
   "outputs": [],
   "source": [
    "CONFIG_PATH = \"../configs/config_example.yaml\"\n",
    "\n",
    "simulator = Simulator.from_file(\n",
    "     world, interaction, selector, \n",
    "    config_filename = CONFIG_PATH\n",
    ")"
   ]
  },
  {
   "cell_type": "code",
   "execution_count": 27,
   "metadata": {
    "scrolled": true
   },
   "outputs": [
    {
     "name": "stdout",
     "output_type": "stream",
     "text": [
      "2020-06-05 17:50:00,851 - june.simulator - INFO - Starting group_dynamics for 120 days at day 0\n",
      "2020-06-05 17:50:00,852 - june.simulator - INFO - starting the loop ..., at 0 days, to run for 120 days\n",
      "2020-06-05 17:50:00,944 - june.simulator - INFO - number of deaths =  0\n",
      "2020-06-05 17:50:02,829 - june.simulator - INFO - number of deaths =  0\n",
      "2020-06-05 17:50:03,182 - june.simulator - INFO - number of deaths =  0\n",
      "2020-06-05 17:50:03,397 - june.simulator - INFO - number of deaths =  0\n",
      "2020-06-05 17:50:03,500 - june.simulator - INFO - number of deaths =  0\n",
      "2020-06-05 17:50:03,708 - june.simulator - INFO - number of deaths =  0\n",
      "2020-06-05 17:50:03,936 - june.simulator - INFO - number of deaths =  0\n",
      "2020-06-05 17:50:04,086 - june.simulator - INFO - number of deaths =  0\n",
      "2020-06-05 17:50:04,289 - june.simulator - INFO - number of deaths =  0\n",
      "2020-06-05 17:50:04,528 - june.simulator - INFO - number of deaths =  0\n",
      "2020-06-05 17:50:04,694 - june.simulator - INFO - number of deaths =  0\n",
      "2020-06-05 17:50:04,875 - june.simulator - INFO - number of deaths =  0\n",
      "2020-06-05 17:50:05,054 - june.simulator - INFO - number of deaths =  0\n",
      "2020-06-05 17:50:05,187 - june.simulator - INFO - number of deaths =  0\n",
      "2020-06-05 17:50:05,371 - june.simulator - INFO - number of deaths =  0\n",
      "2020-06-05 17:50:05,633 - june.simulator - INFO - number of deaths =  0\n",
      "2020-06-05 17:50:05,774 - june.simulator - INFO - number of deaths =  0\n",
      "2020-06-05 17:50:05,923 - june.simulator - INFO - number of deaths =  0\n",
      "2020-06-05 17:50:06,358 - june.simulator - INFO - number of deaths =  0\n",
      "2020-06-05 17:50:06,492 - june.simulator - INFO - number of deaths =  0\n",
      "2020-06-05 17:50:06,892 - june.simulator - INFO - number of deaths =  0\n",
      "2020-06-05 17:50:07,029 - june.simulator - INFO - number of deaths =  0\n",
      "2020-06-05 17:50:07,272 - june.simulator - INFO - number of deaths =  0\n",
      "2020-06-05 17:50:07,660 - june.simulator - INFO - number of deaths =  0\n",
      "2020-06-05 17:50:07,903 - june.simulator - INFO - number of deaths =  0\n",
      "2020-06-05 17:50:08,128 - june.simulator - INFO - number of deaths =  0\n",
      "2020-06-05 17:50:08,493 - june.simulator - INFO - number of deaths =  0\n",
      "2020-06-05 17:50:08,662 - june.simulator - INFO - number of deaths =  0\n",
      "2020-06-05 17:50:08,835 - june.simulator - INFO - number of deaths =  0\n",
      "2020-06-05 17:50:09,004 - june.simulator - INFO - number of deaths =  0\n",
      "2020-06-05 17:50:09,160 - june.simulator - INFO - number of deaths =  0\n",
      "2020-06-05 17:50:09,345 - june.simulator - INFO - number of deaths =  0\n",
      "2020-06-05 17:50:09,537 - june.simulator - INFO - number of deaths =  0\n",
      "2020-06-05 17:50:09,719 - june.simulator - INFO - number of deaths =  0\n",
      "2020-06-05 17:50:09,912 - june.simulator - INFO - number of deaths =  0\n",
      "2020-06-05 17:50:10,099 - june.simulator - INFO - number of deaths =  0\n",
      "2020-06-05 17:50:10,274 - june.simulator - INFO - number of deaths =  0\n",
      "2020-06-05 17:50:10,603 - june.simulator - INFO - number of deaths =  0\n",
      "2020-06-05 17:50:10,760 - june.simulator - INFO - number of deaths =  0\n",
      "2020-06-05 17:50:11,050 - june.simulator - INFO - number of deaths =  0\n",
      "2020-06-05 17:50:11,194 - june.simulator - INFO - number of deaths =  0\n",
      "2020-06-05 17:50:11,397 - june.simulator - INFO - number of deaths =  0\n",
      "2020-06-05 17:50:11,642 - june.simulator - INFO - number of deaths =  0\n",
      "2020-06-05 17:50:11,816 - june.simulator - INFO - number of deaths =  0\n",
      "2020-06-05 17:50:12,052 - june.simulator - INFO - number of deaths =  0\n",
      "2020-06-05 17:50:12,300 - june.simulator - INFO - number of deaths =  0\n",
      "2020-06-05 17:50:12,470 - june.simulator - INFO - number of deaths =  0\n",
      "2020-06-05 17:50:12,658 - june.simulator - INFO - number of deaths =  0\n",
      "2020-06-05 17:50:12,863 - june.simulator - INFO - number of deaths =  0\n",
      "2020-06-05 17:50:13,038 - june.simulator - INFO - number of deaths =  0\n",
      "2020-06-05 17:50:13,216 - june.simulator - INFO - number of deaths =  0\n",
      "2020-06-05 17:50:13,416 - june.simulator - INFO - number of deaths =  0\n",
      "2020-06-05 17:50:13,580 - june.simulator - INFO - number of deaths =  0\n",
      "2020-06-05 17:50:13,757 - june.simulator - INFO - number of deaths =  0\n",
      "2020-06-05 17:50:13,928 - june.simulator - INFO - number of deaths =  0\n",
      "2020-06-05 17:50:14,093 - june.simulator - INFO - number of deaths =  0\n",
      "2020-06-05 17:50:14,335 - june.simulator - INFO - number of deaths =  0\n",
      "2020-06-05 17:50:14,492 - june.simulator - INFO - number of deaths =  0\n",
      "2020-06-05 17:50:14,724 - june.simulator - INFO - number of deaths =  0\n",
      "2020-06-05 17:50:14,888 - june.simulator - INFO - number of deaths =  0\n",
      "2020-06-05 17:50:15,073 - june.simulator - INFO - number of deaths =  0\n",
      "2020-06-05 17:50:15,244 - june.simulator - INFO - number of deaths =  0\n",
      "2020-06-05 17:50:15,413 - june.simulator - INFO - number of deaths =  0\n",
      "2020-06-05 17:50:15,592 - june.simulator - INFO - number of deaths =  0\n",
      "2020-06-05 17:50:15,787 - june.simulator - INFO - number of deaths =  0\n",
      "2020-06-05 17:50:15,953 - june.simulator - INFO - number of deaths =  0\n",
      "2020-06-05 17:50:16,140 - june.simulator - INFO - number of deaths =  0\n",
      "2020-06-05 17:50:16,342 - june.simulator - INFO - number of deaths =  0\n",
      "2020-06-05 17:50:16,525 - june.simulator - INFO - number of deaths =  0\n",
      "2020-06-05 17:50:16,709 - june.simulator - INFO - number of deaths =  0\n",
      "2020-06-05 17:50:16,895 - june.simulator - INFO - number of deaths =  0\n",
      "2020-06-05 17:50:17,073 - june.simulator - INFO - number of deaths =  0\n",
      "2020-06-05 17:50:17,295 - june.simulator - INFO - number of deaths =  0\n",
      "2020-06-05 17:50:17,482 - june.simulator - INFO - number of deaths =  0\n",
      "2020-06-05 17:50:17,674 - june.simulator - INFO - number of deaths =  0\n",
      "2020-06-05 17:50:17,898 - june.simulator - INFO - number of deaths =  0\n",
      "2020-06-05 17:50:18,100 - june.simulator - INFO - number of deaths =  1\n",
      "2020-06-05 17:50:18,309 - june.simulator - INFO - number of deaths =  1\n",
      "2020-06-05 17:50:18,503 - june.simulator - INFO - number of deaths =  2\n",
      "2020-06-05 17:50:18,658 - june.simulator - INFO - number of deaths =  2\n",
      "2020-06-05 17:50:18,833 - june.simulator - INFO - number of deaths =  2\n",
      "2020-06-05 17:50:19,029 - june.simulator - INFO - number of deaths =  3\n",
      "2020-06-05 17:50:19,277 - june.simulator - INFO - number of deaths =  5\n",
      "2020-06-05 17:50:19,463 - june.simulator - INFO - number of deaths =  6\n",
      "2020-06-05 17:50:19,657 - june.simulator - INFO - number of deaths =  6\n",
      "2020-06-05 17:50:19,882 - june.simulator - INFO - number of deaths =  6\n",
      "2020-06-05 17:50:20,088 - june.simulator - INFO - number of deaths =  7\n",
      "2020-06-05 17:50:20,252 - june.simulator - INFO - number of deaths =  7\n",
      "2020-06-05 17:50:20,439 - june.simulator - INFO - number of deaths =  8\n",
      "2020-06-05 17:50:20,603 - june.simulator - INFO - number of deaths =  10\n",
      "2020-06-05 17:50:20,852 - june.simulator - INFO - number of deaths =  10\n",
      "2020-06-05 17:50:21,101 - june.simulator - INFO - number of deaths =  13\n",
      "2020-06-05 17:50:21,354 - june.simulator - INFO - number of deaths =  13\n",
      "2020-06-05 17:50:21,536 - june.simulator - INFO - number of deaths =  13\n",
      "2020-06-05 17:50:21,741 - june.simulator - INFO - number of deaths =  13\n",
      "2020-06-05 17:50:21,880 - june.simulator - INFO - number of deaths =  15\n",
      "2020-06-05 17:50:22,059 - june.simulator - INFO - number of deaths =  16\n",
      "2020-06-05 17:50:22,191 - june.simulator - INFO - number of deaths =  23\n",
      "2020-06-05 17:50:22,351 - june.simulator - INFO - number of deaths =  28\n",
      "2020-06-05 17:50:22,498 - june.simulator - INFO - number of deaths =  29\n",
      "2020-06-05 17:50:22,624 - june.simulator - INFO - number of deaths =  31\n",
      "2020-06-05 17:50:22,750 - june.simulator - INFO - number of deaths =  35\n",
      "2020-06-05 17:50:22,884 - june.simulator - INFO - number of deaths =  41\n",
      "2020-06-05 17:50:23,008 - june.simulator - INFO - number of deaths =  42\n",
      "2020-06-05 17:50:23,155 - june.simulator - INFO - number of deaths =  44\n",
      "2020-06-05 17:50:23,273 - june.simulator - INFO - number of deaths =  46\n",
      "2020-06-05 17:50:23,396 - june.simulator - INFO - number of deaths =  47\n",
      "2020-06-05 17:50:23,525 - june.simulator - INFO - number of deaths =  51\n",
      "2020-06-05 17:50:23,632 - june.simulator - INFO - number of deaths =  55\n",
      "2020-06-05 17:50:23,743 - june.simulator - INFO - number of deaths =  56\n",
      "2020-06-05 17:50:23,869 - june.simulator - INFO - number of deaths =  62\n"
     ]
    },
    {
     "name": "stdout",
     "output_type": "stream",
     "text": [
      "2020-06-05 17:50:23,984 - june.simulator - INFO - number of deaths =  63\n",
      "2020-06-05 17:50:24,088 - june.simulator - INFO - number of deaths =  63\n",
      "2020-06-05 17:50:24,282 - june.simulator - INFO - number of deaths =  69\n",
      "2020-06-05 17:50:24,388 - june.simulator - INFO - number of deaths =  71\n",
      "2020-06-05 17:50:24,543 - june.simulator - INFO - number of deaths =  72\n",
      "2020-06-05 17:50:24,630 - june.simulator - INFO - number of deaths =  77\n",
      "2020-06-05 17:50:24,731 - june.simulator - INFO - number of deaths =  79\n",
      "2020-06-05 17:50:24,844 - june.simulator - INFO - number of deaths =  80\n",
      "2020-06-05 17:50:24,947 - june.simulator - INFO - number of deaths =  80\n",
      "2020-06-05 17:50:25,052 - june.simulator - INFO - number of deaths =  81\n",
      "2020-06-05 17:50:25,138 - june.simulator - INFO - number of deaths =  82\n",
      "2020-06-05 17:50:25,242 - june.simulator - INFO - number of deaths =  82\n",
      "2020-06-05 17:50:25,342 - june.simulator - INFO - number of deaths =  84\n",
      "2020-06-05 17:50:25,458 - june.simulator - INFO - number of deaths =  85\n",
      "2020-06-05 17:50:25,546 - june.simulator - INFO - number of deaths =  85\n",
      "2020-06-05 17:50:25,634 - june.simulator - INFO - number of deaths =  87\n",
      "2020-06-05 17:50:25,718 - june.simulator - INFO - number of deaths =  88\n",
      "2020-06-05 17:50:25,803 - june.simulator - INFO - number of deaths =  88\n",
      "2020-06-05 17:50:25,886 - june.simulator - INFO - number of deaths =  90\n",
      "2020-06-05 17:50:25,971 - june.simulator - INFO - number of deaths =  90\n",
      "2020-06-05 17:50:26,053 - june.simulator - INFO - number of deaths =  90\n",
      "2020-06-05 17:50:26,223 - june.simulator - INFO - number of deaths =  93\n",
      "2020-06-05 17:50:26,303 - june.simulator - INFO - number of deaths =  94\n",
      "2020-06-05 17:50:26,435 - june.simulator - INFO - number of deaths =  96\n",
      "2020-06-05 17:50:26,503 - june.simulator - INFO - number of deaths =  96\n",
      "2020-06-05 17:50:26,587 - june.simulator - INFO - number of deaths =  97\n",
      "2020-06-05 17:50:26,667 - june.simulator - INFO - number of deaths =  98\n",
      "2020-06-05 17:50:26,741 - june.simulator - INFO - number of deaths =  98\n",
      "2020-06-05 17:50:26,819 - june.simulator - INFO - number of deaths =  100\n",
      "2020-06-05 17:50:26,897 - june.simulator - INFO - number of deaths =  100\n",
      "2020-06-05 17:50:26,995 - june.simulator - INFO - number of deaths =  101\n",
      "2020-06-05 17:50:27,094 - june.simulator - INFO - number of deaths =  101\n",
      "2020-06-05 17:50:27,175 - june.simulator - INFO - number of deaths =  101\n",
      "2020-06-05 17:50:27,258 - june.simulator - INFO - number of deaths =  101\n",
      "2020-06-05 17:50:27,334 - june.simulator - INFO - number of deaths =  102\n",
      "2020-06-05 17:50:27,420 - june.simulator - INFO - number of deaths =  102\n",
      "2020-06-05 17:50:27,493 - june.simulator - INFO - number of deaths =  102\n",
      "2020-06-05 17:50:27,575 - june.simulator - INFO - number of deaths =  103\n",
      "2020-06-05 17:50:27,648 - june.simulator - INFO - number of deaths =  106\n",
      "2020-06-05 17:50:27,735 - june.simulator - INFO - number of deaths =  106\n",
      "2020-06-05 17:50:27,877 - june.simulator - INFO - number of deaths =  107\n",
      "2020-06-05 17:50:27,955 - june.simulator - INFO - number of deaths =  107\n",
      "2020-06-05 17:50:28,070 - june.simulator - INFO - number of deaths =  107\n",
      "2020-06-05 17:50:28,130 - june.simulator - INFO - number of deaths =  107\n",
      "2020-06-05 17:50:28,205 - june.simulator - INFO - number of deaths =  107\n",
      "2020-06-05 17:50:28,281 - june.simulator - INFO - number of deaths =  107\n",
      "2020-06-05 17:50:28,356 - june.simulator - INFO - number of deaths =  107\n",
      "2020-06-05 17:50:28,433 - june.simulator - INFO - number of deaths =  108\n",
      "2020-06-05 17:50:28,505 - june.simulator - INFO - number of deaths =  108\n",
      "2020-06-05 17:50:28,579 - june.simulator - INFO - number of deaths =  108\n",
      "2020-06-05 17:50:28,659 - june.simulator - INFO - number of deaths =  108\n",
      "2020-06-05 17:50:28,735 - june.simulator - INFO - number of deaths =  108\n",
      "2020-06-05 17:50:28,824 - june.simulator - INFO - number of deaths =  108\n",
      "2020-06-05 17:50:28,915 - june.simulator - INFO - number of deaths =  108\n",
      "2020-06-05 17:50:28,998 - june.simulator - INFO - number of deaths =  108\n",
      "2020-06-05 17:50:29,090 - june.simulator - INFO - number of deaths =  108\n",
      "2020-06-05 17:50:29,180 - june.simulator - INFO - number of deaths =  108\n",
      "2020-06-05 17:50:29,264 - june.simulator - INFO - number of deaths =  108\n",
      "2020-06-05 17:50:29,351 - june.simulator - INFO - number of deaths =  108\n",
      "2020-06-05 17:50:29,479 - june.simulator - INFO - number of deaths =  108\n",
      "2020-06-05 17:50:29,549 - june.simulator - INFO - number of deaths =  108\n",
      "2020-06-05 17:50:29,672 - june.simulator - INFO - number of deaths =  108\n",
      "2020-06-05 17:50:29,730 - june.simulator - INFO - number of deaths =  108\n",
      "2020-06-05 17:50:29,800 - june.simulator - INFO - number of deaths =  109\n",
      "2020-06-05 17:50:29,872 - june.simulator - INFO - number of deaths =  109\n",
      "2020-06-05 17:50:29,941 - june.simulator - INFO - number of deaths =  109\n",
      "2020-06-05 17:50:30,012 - june.simulator - INFO - number of deaths =  109\n",
      "2020-06-05 17:50:30,085 - june.simulator - INFO - number of deaths =  109\n",
      "2020-06-05 17:50:30,159 - june.simulator - INFO - number of deaths =  109\n",
      "2020-06-05 17:50:30,231 - june.simulator - INFO - number of deaths =  109\n",
      "2020-06-05 17:50:30,301 - june.simulator - INFO - number of deaths =  109\n",
      "2020-06-05 17:50:30,373 - june.simulator - INFO - number of deaths =  109\n",
      "2020-06-05 17:50:30,453 - june.simulator - INFO - number of deaths =  109\n",
      "2020-06-05 17:50:30,520 - june.simulator - INFO - number of deaths =  109\n",
      "2020-06-05 17:50:30,588 - june.simulator - INFO - number of deaths =  109\n",
      "2020-06-05 17:50:30,657 - june.simulator - INFO - number of deaths =  109\n",
      "2020-06-05 17:50:30,726 - june.simulator - INFO - number of deaths =  109\n",
      "2020-06-05 17:50:30,792 - june.simulator - INFO - number of deaths =  109\n",
      "2020-06-05 17:50:30,892 - june.simulator - INFO - number of deaths =  109\n",
      "2020-06-05 17:50:30,948 - june.simulator - INFO - number of deaths =  109\n",
      "2020-06-05 17:50:31,043 - june.simulator - INFO - number of deaths =  109\n",
      "2020-06-05 17:50:31,096 - june.simulator - INFO - number of deaths =  109\n",
      "2020-06-05 17:50:31,160 - june.simulator - INFO - number of deaths =  109\n",
      "2020-06-05 17:50:31,223 - june.simulator - INFO - number of deaths =  109\n",
      "2020-06-05 17:50:31,296 - june.simulator - INFO - number of deaths =  109\n",
      "2020-06-05 17:50:31,362 - june.simulator - INFO - number of deaths =  109\n",
      "2020-06-05 17:50:31,428 - june.simulator - INFO - number of deaths =  109\n",
      "2020-06-05 17:50:31,499 - june.simulator - INFO - number of deaths =  109\n",
      "2020-06-05 17:50:31,566 - june.simulator - INFO - number of deaths =  109\n",
      "2020-06-05 17:50:31,631 - june.simulator - INFO - number of deaths =  109\n",
      "2020-06-05 17:50:31,701 - june.simulator - INFO - number of deaths =  109\n",
      "2020-06-05 17:50:31,768 - june.simulator - INFO - number of deaths =  109\n",
      "2020-06-05 17:50:31,833 - june.simulator - INFO - number of deaths =  109\n",
      "2020-06-05 17:50:31,912 - june.simulator - INFO - number of deaths =  109\n",
      "2020-06-05 17:50:31,984 - june.simulator - INFO - number of deaths =  109\n",
      "2020-06-05 17:50:32,047 - june.simulator - INFO - number of deaths =  109\n",
      "2020-06-05 17:50:32,113 - june.simulator - INFO - number of deaths =  109\n",
      "2020-06-05 17:50:32,196 - june.simulator - INFO - number of deaths =  109\n",
      "2020-06-05 17:50:32,253 - june.simulator - INFO - number of deaths =  109\n",
      "2020-06-05 17:50:32,341 - june.simulator - INFO - number of deaths =  109\n",
      "2020-06-05 17:50:32,395 - june.simulator - INFO - number of deaths =  109\n",
      "2020-06-05 17:50:32,466 - june.simulator - INFO - number of deaths =  109\n",
      "2020-06-05 17:50:32,532 - june.simulator - INFO - number of deaths =  109\n",
      "2020-06-05 17:50:32,601 - june.simulator - INFO - number of deaths =  109\n",
      "2020-06-05 17:50:32,674 - june.simulator - INFO - number of deaths =  109\n",
      "2020-06-05 17:50:32,739 - june.simulator - INFO - number of deaths =  109\n",
      "2020-06-05 17:50:32,807 - june.simulator - INFO - number of deaths =  109\n",
      "2020-06-05 17:50:32,875 - june.simulator - INFO - number of deaths =  109\n",
      "2020-06-05 17:50:32,939 - june.simulator - INFO - number of deaths =  109\n",
      "2020-06-05 17:50:33,002 - june.simulator - INFO - number of deaths =  109\n",
      "2020-06-05 17:50:33,072 - june.simulator - INFO - number of deaths =  109\n",
      "2020-06-05 17:50:33,133 - june.simulator - INFO - number of deaths =  109\n"
     ]
    },
    {
     "name": "stdout",
     "output_type": "stream",
     "text": [
      "2020-06-05 17:50:33,194 - june.simulator - INFO - number of deaths =  109\n",
      "2020-06-05 17:50:33,263 - june.simulator - INFO - number of deaths =  109\n",
      "2020-06-05 17:50:33,328 - june.simulator - INFO - number of deaths =  109\n",
      "2020-06-05 17:50:33,393 - june.simulator - INFO - number of deaths =  109\n",
      "2020-06-05 17:50:33,478 - june.simulator - INFO - number of deaths =  109\n",
      "2020-06-05 17:50:33,532 - june.simulator - INFO - number of deaths =  109\n",
      "2020-06-05 17:50:33,614 - june.simulator - INFO - number of deaths =  109\n",
      "2020-06-05 17:50:33,670 - june.simulator - INFO - number of deaths =  109\n",
      "2020-06-05 17:50:33,735 - june.simulator - INFO - number of deaths =  109\n",
      "2020-06-05 17:50:33,799 - june.simulator - INFO - number of deaths =  109\n",
      "2020-06-05 17:50:33,868 - june.simulator - INFO - number of deaths =  109\n",
      "2020-06-05 17:50:33,934 - june.simulator - INFO - number of deaths =  109\n",
      "2020-06-05 17:50:33,998 - june.simulator - INFO - number of deaths =  109\n",
      "2020-06-05 17:50:34,066 - june.simulator - INFO - number of deaths =  109\n",
      "2020-06-05 17:50:34,131 - june.simulator - INFO - number of deaths =  109\n",
      "2020-06-05 17:50:34,194 - june.simulator - INFO - number of deaths =  109\n",
      "2020-06-05 17:50:34,262 - june.simulator - INFO - number of deaths =  109\n",
      "2020-06-05 17:50:34,331 - june.simulator - INFO - number of deaths =  109\n",
      "2020-06-05 17:50:34,397 - june.simulator - INFO - number of deaths =  109\n",
      "2020-06-05 17:50:34,469 - june.simulator - INFO - number of deaths =  109\n",
      "2020-06-05 17:50:34,531 - june.simulator - INFO - number of deaths =  109\n",
      "2020-06-05 17:50:34,596 - june.simulator - INFO - number of deaths =  109\n",
      "2020-06-05 17:50:34,663 - june.simulator - INFO - number of deaths =  109\n",
      "2020-06-05 17:50:34,753 - june.simulator - INFO - number of deaths =  109\n",
      "2020-06-05 17:50:34,806 - june.simulator - INFO - number of deaths =  109\n",
      "2020-06-05 17:50:34,896 - june.simulator - INFO - number of deaths =  109\n",
      "2020-06-05 17:50:34,950 - june.simulator - INFO - number of deaths =  109\n",
      "2020-06-05 17:50:35,018 - june.simulator - INFO - number of deaths =  109\n",
      "2020-06-05 17:50:35,085 - june.simulator - INFO - number of deaths =  109\n",
      "2020-06-05 17:50:35,149 - june.simulator - INFO - number of deaths =  109\n",
      "2020-06-05 17:50:35,213 - june.simulator - INFO - number of deaths =  109\n",
      "2020-06-05 17:50:35,280 - june.simulator - INFO - number of deaths =  109\n",
      "2020-06-05 17:50:35,350 - june.simulator - INFO - number of deaths =  109\n",
      "2020-06-05 17:50:35,413 - june.simulator - INFO - number of deaths =  109\n",
      "2020-06-05 17:50:35,478 - june.simulator - INFO - number of deaths =  109\n",
      "2020-06-05 17:50:35,545 - june.simulator - INFO - number of deaths =  109\n",
      "2020-06-05 17:50:35,620 - june.simulator - INFO - number of deaths =  109\n",
      "2020-06-05 17:50:35,685 - june.simulator - INFO - number of deaths =  109\n",
      "2020-06-05 17:50:35,752 - june.simulator - INFO - number of deaths =  109\n",
      "2020-06-05 17:50:35,818 - june.simulator - INFO - number of deaths =  109\n",
      "2020-06-05 17:50:35,886 - june.simulator - INFO - number of deaths =  109\n",
      "2020-06-05 17:50:35,955 - june.simulator - INFO - number of deaths =  109\n",
      "2020-06-05 17:50:36,042 - june.simulator - INFO - number of deaths =  109\n",
      "2020-06-05 17:50:36,097 - june.simulator - INFO - number of deaths =  109\n",
      "2020-06-05 17:50:36,179 - june.simulator - INFO - number of deaths =  109\n",
      "2020-06-05 17:50:36,231 - june.simulator - INFO - number of deaths =  109\n",
      "2020-06-05 17:50:36,304 - june.simulator - INFO - number of deaths =  109\n",
      "2020-06-05 17:50:36,368 - june.simulator - INFO - number of deaths =  109\n",
      "2020-06-05 17:50:36,430 - june.simulator - INFO - number of deaths =  109\n",
      "2020-06-05 17:50:36,500 - june.simulator - INFO - number of deaths =  109\n",
      "2020-06-05 17:50:36,566 - june.simulator - INFO - number of deaths =  109\n",
      "2020-06-05 17:50:36,643 - june.simulator - INFO - number of deaths =  109\n",
      "2020-06-05 17:50:36,712 - june.simulator - INFO - number of deaths =  109\n",
      "2020-06-05 17:50:36,775 - june.simulator - INFO - number of deaths =  109\n",
      "2020-06-05 17:50:36,845 - june.simulator - INFO - number of deaths =  109\n",
      "2020-06-05 17:50:36,911 - june.simulator - INFO - number of deaths =  109\n",
      "2020-06-05 17:50:36,975 - june.simulator - INFO - number of deaths =  109\n",
      "2020-06-05 17:50:37,038 - june.simulator - INFO - number of deaths =  109\n",
      "2020-06-05 17:50:37,109 - june.simulator - INFO - number of deaths =  109\n",
      "2020-06-05 17:50:37,173 - june.simulator - INFO - number of deaths =  109\n",
      "2020-06-05 17:50:37,246 - june.simulator - INFO - number of deaths =  109\n",
      "2020-06-05 17:50:37,334 - june.simulator - INFO - number of deaths =  109\n",
      "2020-06-05 17:50:37,389 - june.simulator - INFO - number of deaths =  109\n",
      "2020-06-05 17:50:37,473 - june.simulator - INFO - number of deaths =  109\n",
      "2020-06-05 17:50:37,526 - june.simulator - INFO - number of deaths =  109\n",
      "2020-06-05 17:50:37,593 - june.simulator - INFO - number of deaths =  109\n",
      "2020-06-05 17:50:37,658 - june.simulator - INFO - number of deaths =  109\n",
      "2020-06-05 17:50:37,740 - june.simulator - INFO - number of deaths =  109\n",
      "2020-06-05 17:50:37,811 - june.simulator - INFO - number of deaths =  109\n",
      "2020-06-05 17:50:37,924 - june.simulator - INFO - number of deaths =  109\n",
      "2020-06-05 17:50:38,017 - june.simulator - INFO - number of deaths =  109\n",
      "2020-06-05 17:50:38,107 - june.simulator - INFO - number of deaths =  109\n",
      "2020-06-05 17:50:38,180 - june.simulator - INFO - number of deaths =  109\n",
      "2020-06-05 17:50:38,252 - june.simulator - INFO - number of deaths =  109\n",
      "2020-06-05 17:50:38,329 - june.simulator - INFO - number of deaths =  109\n",
      "2020-06-05 17:50:38,395 - june.simulator - INFO - number of deaths =  109\n",
      "2020-06-05 17:50:38,463 - june.simulator - INFO - number of deaths =  109\n",
      "2020-06-05 17:50:38,538 - june.simulator - INFO - number of deaths =  109\n",
      "2020-06-05 17:50:38,604 - june.simulator - INFO - number of deaths =  109\n",
      "2020-06-05 17:50:38,675 - june.simulator - INFO - number of deaths =  109\n",
      "2020-06-05 17:50:38,766 - june.simulator - INFO - number of deaths =  109\n",
      "2020-06-05 17:50:38,823 - june.simulator - INFO - number of deaths =  109\n",
      "2020-06-05 17:50:38,912 - june.simulator - INFO - number of deaths =  109\n",
      "2020-06-05 17:50:38,971 - june.simulator - INFO - number of deaths =  109\n",
      "2020-06-05 17:50:39,042 - june.simulator - INFO - number of deaths =  109\n",
      "2020-06-05 17:50:39,112 - june.simulator - INFO - number of deaths =  109\n",
      "2020-06-05 17:50:39,183 - june.simulator - INFO - number of deaths =  109\n",
      "2020-06-05 17:50:39,270 - june.simulator - INFO - number of deaths =  109\n",
      "2020-06-05 17:50:39,344 - june.simulator - INFO - number of deaths =  109\n",
      "2020-06-05 17:50:39,424 - june.simulator - INFO - number of deaths =  109\n",
      "2020-06-05 17:50:39,495 - june.simulator - INFO - number of deaths =  109\n",
      "2020-06-05 17:50:39,566 - june.simulator - INFO - number of deaths =  109\n",
      "2020-06-05 17:50:39,643 - june.simulator - INFO - number of deaths =  109\n",
      "2020-06-05 17:50:39,715 - june.simulator - INFO - number of deaths =  109\n",
      "2020-06-05 17:50:39,784 - june.simulator - INFO - number of deaths =  109\n",
      "2020-06-05 17:50:39,863 - june.simulator - INFO - number of deaths =  109\n",
      "2020-06-05 17:50:39,969 - june.simulator - INFO - number of deaths =  109\n",
      "2020-06-05 17:50:40,056 - june.simulator - INFO - number of deaths =  109\n",
      "2020-06-05 17:50:40,157 - june.simulator - INFO - number of deaths =  109\n",
      "2020-06-05 17:50:40,265 - june.simulator - INFO - number of deaths =  109\n",
      "2020-06-05 17:50:40,341 - june.simulator - INFO - number of deaths =  109\n",
      "2020-06-05 17:50:40,474 - june.simulator - INFO - number of deaths =  109\n",
      "CPU times: user 39.3 s, sys: 1.03 s, total: 40.3 s\n",
      "Wall time: 39.7 s\n"
     ]
    }
   ],
   "source": [
    "%%time\n",
    "simulator.run()"
   ]
  },
  {
   "cell_type": "markdown",
   "metadata": {},
   "source": [
    "While the simulation runs (and afterwards) we can launch the visualization webpage by running\n",
    "```python june/visualizer.py path/to/results``` "
   ]
  },
  {
   "cell_type": "markdown",
   "metadata": {},
   "source": [
    "# Getting the results"
   ]
  },
  {
   "cell_type": "markdown",
   "metadata": {},
   "source": [
    "All results are stored in a json file specified in the ``save_path`` variable in the config file. We can also access it from ``world.logger`` directly."
   ]
  },
  {
   "cell_type": "code",
   "execution_count": 42,
   "metadata": {},
   "outputs": [],
   "source": [
    "import pandas as pd"
   ]
  },
  {
   "cell_type": "code",
   "execution_count": 43,
   "metadata": {},
   "outputs": [],
   "source": [
    "read = ReadLogger()"
   ]
  },
  {
   "cell_type": "markdown",
   "metadata": {},
   "source": [
    "## Hospital data and how it changed over time"
   ]
  },
  {
   "cell_type": "code",
   "execution_count": 44,
   "metadata": {},
   "outputs": [],
   "source": [
    "hospitals_df = read.load_hospital_capacity()"
   ]
  },
  {
   "cell_type": "code",
   "execution_count": 45,
   "metadata": {},
   "outputs": [
    {
     "data": {
      "text/html": [
       "<div>\n",
       "<style scoped>\n",
       "    .dataframe tbody tr th:only-of-type {\n",
       "        vertical-align: middle;\n",
       "    }\n",
       "\n",
       "    .dataframe tbody tr th {\n",
       "        vertical-align: top;\n",
       "    }\n",
       "\n",
       "    .dataframe thead th {\n",
       "        text-align: right;\n",
       "    }\n",
       "</style>\n",
       "<table border=\"1\" class=\"dataframe\">\n",
       "  <thead>\n",
       "    <tr style=\"text-align: right;\">\n",
       "      <th></th>\n",
       "      <th>time_stamp</th>\n",
       "      <th>id</th>\n",
       "      <th>n_patients</th>\n",
       "      <th>n_patients_icu</th>\n",
       "    </tr>\n",
       "  </thead>\n",
       "  <tbody>\n",
       "    <tr>\n",
       "      <th>0</th>\n",
       "      <td>2020-03-07T12:00:00.000000</td>\n",
       "      <td>0</td>\n",
       "      <td>0</td>\n",
       "      <td>0</td>\n",
       "    </tr>\n",
       "    <tr>\n",
       "      <th>1</th>\n",
       "      <td>2020-03-08T00:00:00.000000</td>\n",
       "      <td>0</td>\n",
       "      <td>0</td>\n",
       "      <td>0</td>\n",
       "    </tr>\n",
       "    <tr>\n",
       "      <th>2</th>\n",
       "      <td>2020-03-08T12:00:00.000000</td>\n",
       "      <td>0</td>\n",
       "      <td>0</td>\n",
       "      <td>0</td>\n",
       "    </tr>\n",
       "  </tbody>\n",
       "</table>\n",
       "</div>"
      ],
      "text/plain": [
       "                   time_stamp id n_patients n_patients_icu\n",
       "0  2020-03-07T12:00:00.000000  0          0              0\n",
       "1  2020-03-08T00:00:00.000000  0          0              0\n",
       "2  2020-03-08T12:00:00.000000  0          0              0"
      ]
     },
     "execution_count": 45,
     "metadata": {},
     "output_type": "execute_result"
    }
   ],
   "source": [
    "hospitals_df.head(3)"
   ]
  },
  {
   "cell_type": "code",
   "execution_count": 46,
   "metadata": {},
   "outputs": [],
   "source": [
    "hospitals_characteristics_df = read.load_hospital_characteristics()"
   ]
  },
  {
   "cell_type": "code",
   "execution_count": 47,
   "metadata": {},
   "outputs": [
    {
     "data": {
      "text/html": [
       "<div>\n",
       "<style scoped>\n",
       "    .dataframe tbody tr th:only-of-type {\n",
       "        vertical-align: middle;\n",
       "    }\n",
       "\n",
       "    .dataframe tbody tr th {\n",
       "        vertical-align: top;\n",
       "    }\n",
       "\n",
       "    .dataframe thead th {\n",
       "        text-align: right;\n",
       "    }\n",
       "</style>\n",
       "<table border=\"1\" class=\"dataframe\">\n",
       "  <thead>\n",
       "    <tr style=\"text-align: right;\">\n",
       "      <th></th>\n",
       "      <th>longitude</th>\n",
       "      <th>latitude</th>\n",
       "      <th>n_beds</th>\n",
       "      <th>n_icu_beds</th>\n",
       "    </tr>\n",
       "  </thead>\n",
       "  <tbody>\n",
       "    <tr>\n",
       "      <th>0</th>\n",
       "      <td>-1.580765</td>\n",
       "      <td>54.939384</td>\n",
       "      <td>485</td>\n",
       "      <td>21</td>\n",
       "    </tr>\n",
       "  </tbody>\n",
       "</table>\n",
       "</div>"
      ],
      "text/plain": [
       "   longitude   latitude  n_beds  n_icu_beds\n",
       "0  -1.580765  54.939384     485          21"
      ]
     },
     "execution_count": 47,
     "metadata": {},
     "output_type": "execute_result"
    }
   ],
   "source": [
    "hospitals_characteristics_df"
   ]
  },
  {
   "cell_type": "markdown",
   "metadata": {},
   "source": [
    "## where did infections happen?"
   ]
  },
  {
   "cell_type": "code",
   "execution_count": 48,
   "metadata": {},
   "outputs": [],
   "source": [
    "loc_df = read.get_locations_infections()"
   ]
  },
  {
   "cell_type": "code",
   "execution_count": 49,
   "metadata": {},
   "outputs": [
    {
     "data": {
      "text/plain": [
       "Text(0.5, 0, 'location')"
      ]
     },
     "execution_count": 49,
     "metadata": {},
     "output_type": "execute_result"
    },
    {
     "data": {
      "image/png": "[encoded data removed]",
      "text/plain": [
       "<Figure size 432x288 with 1 Axes>"
      ]
     },
     "metadata": {
      "needs_background": "light"
     },
     "output_type": "display_data"
    }
   ],
   "source": [
    "import matplotlib.ticker as mtick\n",
    "\n",
    "ax = loc_df['percentage_infections'].sort_values().plot.bar()\n",
    "ax.yaxis.set_major_formatter(mtick.PercentFormatter())\n",
    "plt.ylabel('Percentage of infections at location')\n",
    "plt.xlabel('location')"
   ]
  },
  {
   "cell_type": "markdown",
   "metadata": {},
   "source": [
    "## rate of infection"
   ]
  },
  {
   "cell_type": "code",
   "execution_count": 51,
   "metadata": {},
   "outputs": [],
   "source": [
    "r_df = read.get_r()"
   ]
  },
  {
   "cell_type": "code",
   "execution_count": 52,
   "metadata": {},
   "outputs": [
    {
     "data": {
      "text/html": [
       "<div>\n",
       "<style scoped>\n",
       "    .dataframe tbody tr th:only-of-type {\n",
       "        vertical-align: middle;\n",
       "    }\n",
       "\n",
       "    .dataframe tbody tr th {\n",
       "        vertical-align: top;\n",
       "    }\n",
       "\n",
       "    .dataframe thead th {\n",
       "        text-align: right;\n",
       "    }\n",
       "</style>\n",
       "<table border=\"1\" class=\"dataframe\">\n",
       "  <thead>\n",
       "    <tr style=\"text-align: right;\">\n",
       "      <th></th>\n",
       "      <th>value</th>\n",
       "    </tr>\n",
       "    <tr>\n",
       "      <th>time_stamp</th>\n",
       "      <th></th>\n",
       "    </tr>\n",
       "  </thead>\n",
       "  <tbody>\n",
       "    <tr>\n",
       "      <th>2020-03-07 12:00:00</th>\n",
       "      <td>NaN</td>\n",
       "    </tr>\n",
       "    <tr>\n",
       "      <th>2020-03-08 00:00:00</th>\n",
       "      <td>NaN</td>\n",
       "    </tr>\n",
       "    <tr>\n",
       "      <th>2020-03-08 12:00:00</th>\n",
       "      <td>NaN</td>\n",
       "    </tr>\n",
       "    <tr>\n",
       "      <th>2020-03-09 00:00:00</th>\n",
       "      <td>NaN</td>\n",
       "    </tr>\n",
       "    <tr>\n",
       "      <th>2020-03-09 10:00:00</th>\n",
       "      <td>NaN</td>\n",
       "    </tr>\n",
       "    <tr>\n",
       "      <th>...</th>\n",
       "      <td>...</td>\n",
       "    </tr>\n",
       "    <tr>\n",
       "      <th>2020-07-03 10:00:00</th>\n",
       "      <td>0.0</td>\n",
       "    </tr>\n",
       "    <tr>\n",
       "      <th>2020-07-03 12:00:00</th>\n",
       "      <td>0.0</td>\n",
       "    </tr>\n",
       "    <tr>\n",
       "      <th>2020-07-04 00:00:00</th>\n",
       "      <td>0.0</td>\n",
       "    </tr>\n",
       "    <tr>\n",
       "      <th>2020-07-04 12:00:00</th>\n",
       "      <td>0.0</td>\n",
       "    </tr>\n",
       "    <tr>\n",
       "      <th>2020-07-05 00:00:00</th>\n",
       "      <td>0.0</td>\n",
       "    </tr>\n",
       "  </tbody>\n",
       "</table>\n",
       "<p>325 rows × 1 columns</p>\n",
       "</div>"
      ],
      "text/plain": [
       "                     value\n",
       "time_stamp                \n",
       "2020-03-07 12:00:00    NaN\n",
       "2020-03-08 00:00:00    NaN\n",
       "2020-03-08 12:00:00    NaN\n",
       "2020-03-09 00:00:00    NaN\n",
       "2020-03-09 10:00:00    NaN\n",
       "...                    ...\n",
       "2020-07-03 10:00:00    0.0\n",
       "2020-07-03 12:00:00    0.0\n",
       "2020-07-04 00:00:00    0.0\n",
       "2020-07-04 12:00:00    0.0\n",
       "2020-07-05 00:00:00    0.0\n",
       "\n",
       "[325 rows x 1 columns]"
      ]
     },
     "execution_count": 52,
     "metadata": {},
     "output_type": "execute_result"
    }
   ],
   "source": [
    "r_df"
   ]
  },
  {
   "cell_type": "code",
   "execution_count": 53,
   "metadata": {},
   "outputs": [
    {
     "data": {
      "text/plain": [
       "Text(0, 0.5, 'R')"
      ]
     },
     "execution_count": 53,
     "metadata": {},
     "output_type": "execute_result"
    },
    {
     "data": {
      "image/png": "[encoded data removed]",
      "text/plain": [
       "<Figure size 432x288 with 1 Axes>"
      ]
     },
     "metadata": {
      "needs_background": "light"
     },
     "output_type": "display_data"
    }
   ],
   "source": [
    "r_df.plot()\n",
    "plt.axhline(y=1, linestyle='dashed', color='gray')\n",
    "plt.xlabel('Date')\n",
    "plt.ylabel('R')"
   ]
  },
  {
   "cell_type": "markdown",
   "metadata": {},
   "source": [
    "## World infection curves, and by super area"
   ]
  },
  {
   "cell_type": "code",
   "execution_count": 54,
   "metadata": {},
   "outputs": [],
   "source": [
    "world_df = read.world_summary()"
   ]
  },
  {
   "cell_type": "code",
   "execution_count": 55,
   "metadata": {},
   "outputs": [
    {
     "data": {
      "text/plain": [
       "<matplotlib.legend.Legend at 0x7f7e976e3a30>"
      ]
     },
     "execution_count": 55,
     "metadata": {},
     "output_type": "execute_result"
    },
    {
     "data": {
      "image/png": "[encoded data removed]",
      "text/plain": [
       "<Figure size 432x288 with 1 Axes>"
      ]
     },
     "metadata": {
      "needs_background": "light"
     },
     "output_type": "display_data"
    }
   ],
   "source": [
    "world_df.plot()\n",
    "plt.legend()"
   ]
  },
  {
   "cell_type": "code",
   "execution_count": 58,
   "metadata": {},
   "outputs": [
    {
     "data": {
      "text/plain": [
       "<matplotlib.axes._subplots.AxesSubplot at 0x7f7eb69fd100>"
      ]
     },
     "execution_count": 58,
     "metadata": {},
     "output_type": "execute_result"
    },
    {
     "data": {
      "image/png": "[encoded data removed]",
      "text/plain": [
       "<Figure size 432x288 with 1 Axes>"
      ]
     },
     "metadata": {
      "needs_background": "light"
     },
     "output_type": "display_data"
    }
   ],
   "source": [
    "world_df['dead'].cumsum().plot()\n",
    "read.get_time_series_region('London').cumsum().plot()"
   ]
  },
  {
   "cell_type": "code",
   "execution_count": 38,
   "metadata": {},
   "outputs": [],
   "source": [
    "area_df = read.super_area_summary()"
   ]
  },
  {
   "cell_type": "code",
   "execution_count": 39,
   "metadata": {},
   "outputs": [
    {
     "data": {
      "text/plain": [
       "<matplotlib.legend.Legend at 0x7ff55cf90eb0>"
      ]
     },
     "execution_count": 39,
     "metadata": {},
     "output_type": "execute_result"
    },
    {
     "data": {
      "image/png": "[encoded data removed]",
      "text/plain": [
       "<Figure size 432x288 with 1 Axes>"
      ]
     },
     "metadata": {
      "needs_background": "light"
     },
     "output_type": "display_data"
    }
   ],
   "source": [
    "area_df[area_df.super_area == 'E02002560'].plot()\n",
    "plt.legend()"
   ]
  },
  {
   "cell_type": "code",
   "execution_count": 40,
   "metadata": {},
   "outputs": [
    {
     "data": {
      "text/plain": [
       "<matplotlib.legend.Legend at 0x7ff55cd50760>"
      ]
     },
     "execution_count": 40,
     "metadata": {},
     "output_type": "execute_result"
    },
    {
     "data": {
      "image/png": "[encoded data removed]",
      "text/plain": [
       "<Figure size 432x288 with 1 Axes>"
      ]
     },
     "metadata": {
      "needs_background": "light"
     },
     "output_type": "display_data"
    }
   ],
   "source": [
    "area_df[area_df.super_area == 'E02001720'].plot()\n",
    "plt.legend()"
   ]
  },
  {
   "cell_type": "markdown",
   "metadata": {},
   "source": [
    "## World infection curves per age group"
   ]
  },
  {
   "cell_type": "code",
   "execution_count": 41,
   "metadata": {},
   "outputs": [],
   "source": [
    "ages_df = read.age_summary([0,10,20,30,40,\n",
    "                  50,60,70,80,90,100])"
   ]
  },
  {
   "cell_type": "code",
   "execution_count": 42,
   "metadata": {},
   "outputs": [
    {
     "data": {
      "text/plain": [
       "<matplotlib.legend.Legend at 0x7ff55ccc4b80>"
      ]
     },
     "execution_count": 42,
     "metadata": {},
     "output_type": "execute_result"
    },
    {
     "data": {
      "image/png": "[encoded data removed]",
      "text/plain": [
       "<Figure size 432x288 with 1 Axes>"
      ]
     },
     "metadata": {
      "needs_background": "light"
     },
     "output_type": "display_data"
    }
   ],
   "source": [
    "for name, group in ages_df.groupby('age_range'):\n",
    "    group['infected'].plot(label=name)\n",
    "plt.legend()"
   ]
  },
  {
   "cell_type": "markdown",
   "metadata": {},
   "source": [
    "## Draw some of the symptoms trajectories"
   ]
  },
  {
   "cell_type": "code",
   "execution_count": 43,
   "metadata": {},
   "outputs": [],
   "source": [
    "random_trajectories = read.draw_symptom_trajectories(window_length=100,\n",
    "                                        n_people=5)"
   ]
  },
  {
   "cell_type": "code",
   "execution_count": 46,
   "metadata": {},
   "outputs": [],
   "source": [
    "from june.infection import SymptomTag"
   ]
  },
  {
   "cell_type": "code",
   "execution_count": 47,
   "metadata": {},
   "outputs": [],
   "source": [
    "symptoms_values = [tag.value for tag in SymptomTag]\n",
    "symptoms_names = [tag.name for tag in SymptomTag]\n"
   ]
  },
  {
   "cell_type": "code",
   "execution_count": 48,
   "metadata": {},
   "outputs": [
    {
     "data": {
      "text/plain": [
       "Text(0.5, 0, 'Date')"
      ]
     },
     "execution_count": 48,
     "metadata": {},
     "output_type": "execute_result"
    },
    {
     "data": {
      "image/png": "[encoded data removed]",
      "text/plain": [
       "<Figure size 432x288 with 1 Axes>"
      ]
     },
     "metadata": {
      "needs_background": "light"
     },
     "output_type": "display_data"
    }
   ],
   "source": [
    "for df_person in random_trajectories:\n",
    "    df_person['symptoms'].plot()\n",
    "plt.ylabel('Symptoms Trajectory')\n",
    "_ = plt.yticks(symptoms_values, symptoms_names)\n",
    "plt.xlabel('Date')"
   ]
  },
  {
   "cell_type": "code",
   "execution_count": 49,
   "metadata": {},
   "outputs": [
    {
     "data": {
      "text/plain": [
       "Text(0.5, 0, 'Date')"
      ]
     },
     "execution_count": 49,
     "metadata": {},
     "output_type": "execute_result"
    },
    {
     "data": {
      "image/png": "[encoded data removed]",
      "text/plain": [
       "<Figure size 432x288 with 1 Axes>"
      ]
     },
     "metadata": {
      "needs_background": "light"
     },
     "output_type": "display_data"
    }
   ],
   "source": [
    "for df_person in random_trajectories:\n",
    "    df_person['n_secondary_infections'].plot()\n",
    "plt.ylabel('Number of secondary infections')\n",
    "\n",
    "plt.xlabel('Date')"
   ]
  },
  {
   "cell_type": "code",
   "execution_count": null,
   "metadata": {},
   "outputs": [],
   "source": []
  },
  {
   "cell_type": "code",
   "execution_count": null,
   "metadata": {},
   "outputs": [],
   "source": []
  },
  {
   "cell_type": "code",
   "execution_count": null,
   "metadata": {},
   "outputs": [],
   "source": []
  }
 ],
 "metadata": {
  "kernelspec": {
   "display_name": "Python 3",
   "language": "python",
   "name": "python3"
  },
  "language_info": {
   "codemirror_mode": {
    "name": "ipython",
    "version": 3
   },
   "file_extension": ".py",
   "mimetype": "text/x-python",
   "name": "python",
   "nbconvert_exporter": "python",
   "pygments_lexer": "ipython3",
   "version": "3.8.3"
  }
 },
 "nbformat": 4,
 "nbformat_minor": 4
}
