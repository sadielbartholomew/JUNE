{
 "cells": [
  {
   "cell_type": "code",
   "execution_count": 24,
   "metadata": {},
   "outputs": [],
   "source": [
    "%load_ext autoreload\n",
    "%autoreload 2"
   ]
  },
  {
   "cell_type": "code",
   "execution_count": 1,
   "metadata": {},
   "outputs": [],
   "source": [
    "import numpy as np\n",
    "import time\n",
    "from datetime import datetime\n",
    "import matplotlib.pyplot as plt\n",
    "import seaborn as sns\n",
    "sns.set_context('notebook')"
   ]
  },
  {
   "cell_type": "code",
   "execution_count": 2,
   "metadata": {},
   "outputs": [
    {
     "name": "stderr",
     "output_type": "stream",
     "text": [
      "No --data argument given - defaulting to:\n",
      "/home/arnau/code/JUNE/data\n",
      "No --configs argument given - defaulting to:\n",
      "/home/arnau/code/JUNE/configs\n"
     ]
    }
   ],
   "source": [
    "from june import World \n",
    "from june.demography.geography import Geography\n",
    "from june.demography import Demography\n",
    "from june.interaction import ContactAveraging\n",
    "from june.infection import Infection\n",
    "from june.infection.transmission import TransmissionConstant\n",
    "from june.groups import Hospitals, Schools, Companies, Households, CareHomes, Cemeteries, Universities\n",
    "from june.groups.leisure import leisure, Cinemas, Pubs, Groceries\n",
    "from june.simulator import Simulator\n",
    "from june.seed import Seed\n",
    "from june.policy import Policy, Policies\n",
    "from june import paths\n",
    "from june.logger.read_logger import ReadLogger\n",
    "from june.infection.infection import InfectionSelector\n",
    "from june.world import generate_world_from_hdf5, generate_world_from_geography"
   ]
  },
  {
   "cell_type": "markdown",
   "metadata": {},
   "source": [
    "# Initialize world\n",
    "\n",
    "To initialize a certain world, we need to add the different components we want to have in it. First we specify what super areas (msoa) we want to create. We have included these ones, because they are known to contain hospitals, schools, care homes, and companies.\n",
    "\n",
    "After creating the geography, we create the different components the worlds need to have such as care homes, companies ..."
   ]
  },
  {
   "cell_type": "code",
   "execution_count": 3,
   "metadata": {},
   "outputs": [
    {
     "name": "stdout",
     "output_type": "stream",
     "text": [
      "2020-06-24 11:19:31,707 - june.demography.geography - INFO - There are 129 areas and 5 super_areas in the world.\n",
      "2020-06-24 11:19:31,712 - june.groups.hospital - INFO - There are 1 hospitals in this geography.\n",
      "2020-06-24 11:19:31,754 - june.groups.school - INFO - There are 19 schools in this geography.\n",
      "2020-06-24 11:19:31,774 - june.groups.school - INFO - No school for the age 0 in this world.\n",
      "2020-06-24 11:19:31,776 - june.groups.school - INFO - No school for the age 1 in this world.\n",
      "2020-06-24 11:19:31,780 - june.groups.school - INFO - No school for the age 2 in this world.\n",
      "2020-06-24 11:19:32,007 - june.groups.carehome - INFO - There are 9 care_homes in this geography.\n",
      "2020-06-24 11:19:39,844 - june.distributors.worker_distributor - INFO - There are 0 who had to be told to stay real\n",
      "CPU times: user 31.9 s, sys: 978 ms, total: 32.9 s\n",
      "Wall time: 33.2 s\n"
     ]
    }
   ],
   "source": [
    "%%time \n",
    "\n",
    "geography = Geography.from_file(\n",
    "        {\n",
    "            \"super_area\": [\n",
    "                \"E02003282\",\n",
    "                \"E02001720\",\n",
    "                \"E00088544\",\n",
    "                \"E02002560\",\n",
    "                \"E02002559\",\n",
    "                \"E02004314\",\n",
    "            ]\n",
    "        }\n",
    ")\n",
    "\n",
    "geography.hospitals = Hospitals.for_geography(geography)\n",
    "geography.schools = Schools.for_geography(geography)\n",
    "geography.companies = Companies.for_geography(geography)\n",
    "geography.care_homes = CareHomes.for_geography(geography)\n",
    "geography.universities = Universities.for_super_areas(geography.super_areas)\n",
    "world = generate_world_from_geography(geography, include_households=True, include_commute=True)\n"
   ]
  },
  {
   "cell_type": "code",
   "execution_count": null,
   "metadata": {},
   "outputs": [],
   "source": []
  },
  {
   "cell_type": "code",
   "execution_count": 4,
   "metadata": {},
   "outputs": [
    {
     "data": {
      "text/plain": [
       "46784"
      ]
     },
     "execution_count": 4,
     "metadata": {},
     "output_type": "execute_result"
    }
   ],
   "source": [
    "len(world.people)"
   ]
  },
  {
   "cell_type": "markdown",
   "metadata": {},
   "source": [
    "### If it took a long time to run the previous command, it might be a good idea to save the world to reuse it later."
   ]
  },
  {
   "cell_type": "code",
   "execution_count": 5,
   "metadata": {},
   "outputs": [],
   "source": [
    "world.to_hdf5(\"world.hdf5\")"
   ]
  },
  {
   "cell_type": "markdown",
   "metadata": {},
   "source": [
    "If we would like to load the world we saved, we just do"
   ]
  },
  {
   "cell_type": "code",
   "execution_count": 6,
   "metadata": {},
   "outputs": [
    {
     "name": "stdout",
     "output_type": "stream",
     "text": [
      "Loaded chunk 0 of 1\n",
      "Loaded chunk 0 of 1\n"
     ]
    },
    {
     "name": "stderr",
     "output_type": "stream",
     "text": [
      "100%|██████████| 46784/46784 [00:00<00:00, 98491.81it/s] \n"
     ]
    }
   ],
   "source": [
    "world = generate_world_from_hdf5(\"world.hdf5\")"
   ]
  },
  {
   "cell_type": "markdown",
   "metadata": {},
   "source": [
    "you have now a beautiful pre-pandemic world. "
   ]
  },
  {
   "cell_type": "markdown",
   "metadata": {},
   "source": [
    "## Commute, travel and leisure"
   ]
  },
  {
   "cell_type": "markdown",
   "metadata": {},
   "source": [
    "We can add cinemas, pubs, groceries, etc. as well as commute in major cities with"
   ]
  },
  {
   "cell_type": "code",
   "execution_count": 7,
   "metadata": {},
   "outputs": [],
   "source": [
    "# leisure\n",
    "world.cinemas = Cinemas.for_geography(geography)\n",
    "world.pubs = Pubs.for_geography(geography)\n",
    "world.groceries = Groceries.for_super_areas(world.super_areas,\n",
    "                                            venues_per_capita=1/500)"
   ]
  },
  {
   "cell_type": "markdown",
   "metadata": {},
   "source": [
    "We are also going to need some cemeteries...geography.cemeteries = Cemeteries()\n"
   ]
  },
  {
   "cell_type": "code",
   "execution_count": 8,
   "metadata": {},
   "outputs": [],
   "source": [
    "world.cemeteries = Cemeteries()"
   ]
  },
  {
   "cell_type": "markdown",
   "metadata": {},
   "source": [
    "# Adding the infection"
   ]
  },
  {
   "cell_type": "markdown",
   "metadata": {},
   "source": [
    "Now, you can play around with different models of infections. The building blocks for an infection are: Transmission and Symptoms. For now, only SymptomsConstant and TransmissionConstant are in a state to be used."
   ]
  },
  {
   "cell_type": "code",
   "execution_count": 9,
   "metadata": {},
   "outputs": [],
   "source": [
    "selector = InfectionSelector.from_file()"
   ]
  },
  {
   "cell_type": "markdown",
   "metadata": {},
   "source": [
    "# Adding the interaction"
   ]
  },
  {
   "cell_type": "code",
   "execution_count": 10,
   "metadata": {},
   "outputs": [],
   "source": [
    "interaction = ContactAveraging.from_file(selector=selector)"
   ]
  },
  {
   "cell_type": "markdown",
   "metadata": {},
   "source": [
    "Beta are the intensities of the interaction taking place at the different groups"
   ]
  },
  {
   "cell_type": "code",
   "execution_count": 11,
   "metadata": {},
   "outputs": [
    {
     "data": {
      "text/plain": [
       "{'box': 1,\n",
       " 'pub': 1,\n",
       " 'grocery': 1,\n",
       " 'cinema': 1,\n",
       " 'commute_unit': 1.0,\n",
       " 'commute_city_unit': 1.0,\n",
       " 'hospital': 1.0,\n",
       " 'care_home': 1.0,\n",
       " 'company': 1.0,\n",
       " 'school': 1.0,\n",
       " 'household': 1.0,\n",
       " 'university': 1.0}"
      ]
     },
     "execution_count": 11,
     "metadata": {},
     "output_type": "execute_result"
    }
   ],
   "source": [
    "interaction.beta"
   ]
  },
  {
   "cell_type": "markdown",
   "metadata": {},
   "source": [
    "to modify these, simply do"
   ]
  },
  {
   "cell_type": "code",
   "execution_count": 12,
   "metadata": {},
   "outputs": [],
   "source": [
    "interaction.beta['household'] *= 2"
   ]
  },
  {
   "cell_type": "code",
   "execution_count": 13,
   "metadata": {},
   "outputs": [
    {
     "data": {
      "text/plain": [
       "{'box': 1,\n",
       " 'pub': 1,\n",
       " 'grocery': 1,\n",
       " 'cinema': 1,\n",
       " 'commute_unit': 1.0,\n",
       " 'commute_city_unit': 1.0,\n",
       " 'hospital': 1.0,\n",
       " 'care_home': 1.0,\n",
       " 'company': 1.0,\n",
       " 'school': 1.0,\n",
       " 'household': 2.0,\n",
       " 'university': 1.0}"
      ]
     },
     "execution_count": 13,
     "metadata": {},
     "output_type": "execute_result"
    }
   ],
   "source": [
    "interaction.beta"
   ]
  },
  {
   "cell_type": "markdown",
   "metadata": {},
   "source": [
    "moreover this interaction module uses contact matrices, that are different for different groups. These contact matrices shouldnt be modified for now. However they are a combination of conversational contact matrices, and physical contact matrices (see the BBC pandemic paper, from where these matrices are extracted https://www.medrxiv.org/content/10.1101/2020.02.16.20023754v2)\n",
    "\n",
    "There is a parameter, ``alpha`` ($\\alpha$), that combines these two matrices in the following way,\n",
    "\n",
    "\n",
    "$\\beta M \\left(1 + (\\alpha -1) \\right) P$\n",
    "\n",
    "where $\\beta$ is the intensity of the interaction, and $P$ the physical contact matrix. A larger $\\alpha$ produces more physical contacts. It is an overall number, non dependent of the particular group.\n"
   ]
  },
  {
   "cell_type": "code",
   "execution_count": 14,
   "metadata": {},
   "outputs": [
    {
     "data": {
      "text/plain": [
       "2.0"
      ]
     },
     "execution_count": 14,
     "metadata": {},
     "output_type": "execute_result"
    }
   ],
   "source": [
    "interaction.alpha_physical"
   ]
  },
  {
   "cell_type": "code",
   "execution_count": 15,
   "metadata": {},
   "outputs": [],
   "source": [
    "interaction.alpha_physical /= 2"
   ]
  },
  {
   "cell_type": "code",
   "execution_count": 16,
   "metadata": {},
   "outputs": [
    {
     "data": {
      "text/plain": [
       "1.0"
      ]
     },
     "execution_count": 16,
     "metadata": {},
     "output_type": "execute_result"
    }
   ],
   "source": [
    "interaction.alpha_physical"
   ]
  },
  {
   "cell_type": "markdown",
   "metadata": {},
   "source": [
    "# Seed the disease"
   ]
  },
  {
   "cell_type": "markdown",
   "metadata": {},
   "source": [
    "There are two options implemented in the seed at the moment, either you specify the number of cases and these are then homogeneously distributed by population to the different areas, or you use UK data on cases per region. For now use the first case."
   ]
  },
  {
   "cell_type": "code",
   "execution_count": 17,
   "metadata": {},
   "outputs": [],
   "source": [
    "seed = Seed(world.super_areas, selector,)"
   ]
  },
  {
   "cell_type": "code",
   "execution_count": 18,
   "metadata": {},
   "outputs": [],
   "source": [
    "n_cases = 50\n",
    "seed.unleash_virus(n_cases) # play around with the initial number of cases"
   ]
  },
  {
   "cell_type": "markdown",
   "metadata": {},
   "source": [
    "# Set policies"
   ]
  },
  {
   "cell_type": "code",
   "execution_count": 19,
   "metadata": {},
   "outputs": [],
   "source": [
    "\n",
    "social_distance = Policy(policy=\"social_distance\",\n",
    "                         start_time=datetime(2020, 3, 25), \n",
    "                         end_time=datetime(2020, 4, 1))\n",
    "policies = Policies.from_file([social_distance])\n"
   ]
  },
  {
   "cell_type": "markdown",
   "metadata": {},
   "source": [
    "# Run the simulation"
   ]
  },
  {
   "cell_type": "markdown",
   "metadata": {},
   "source": [
    "Since the timer configuration is a bit cumbersome, it is read from the config file at ``configs/config_example.yaml``"
   ]
  },
  {
   "cell_type": "code",
   "execution_count": 20,
   "metadata": {},
   "outputs": [],
   "source": [
    "CONFIG_PATH = \"../configs/config_example.yaml\"\n",
    "\n",
    "leisure_instance = leisure.generate_leisure_for_config(\n",
    "world=world, config_filename = CONFIG_PATH\n",
    ")\n",
    "simulator = Simulator.from_file(\n",
    "     world, interaction, selector, \n",
    "    config_filename = CONFIG_PATH,\n",
    "    leisure = leisure_instance,\n",
    "    policies = policies\n",
    ")"
   ]
  },
  {
   "cell_type": "code",
   "execution_count": 21,
   "metadata": {
    "scrolled": true
   },
   "outputs": [
    {
     "name": "stdout",
     "output_type": "stream",
     "text": [
      "2020-06-24 11:20:09,121 - june.simulator - INFO - Starting group_dynamics for 70 days at day 0\n",
      "2020-06-24 11:20:09,123 - june.simulator - INFO - starting the loop ..., at 0 days, to run for 70 days\n",
      "2020-06-24 11:20:13,461 - june.simulator - INFO - Date = 2020-03-07 04:00:00, number of deaths =  0, number of infected = 50\n",
      "2020-06-24 11:20:17,195 - june.simulator - INFO - Date = 2020-03-07 08:00:00, number of deaths =  0, number of infected = 50\n",
      "2020-06-24 11:20:17,731 - june.simulator - INFO - Date = 2020-03-07 12:00:00, number of deaths =  0, number of infected = 50\n",
      "2020-06-24 11:20:21,231 - june.simulator - INFO - Date = 2020-03-08 00:00:00, number of deaths =  0, number of infected = 50\n",
      "2020-06-24 11:20:24,761 - june.simulator - INFO - Date = 2020-03-08 04:00:00, number of deaths =  0, number of infected = 50\n",
      "2020-06-24 11:20:28,162 - june.simulator - INFO - Date = 2020-03-08 08:00:00, number of deaths =  0, number of infected = 50\n",
      "2020-06-24 11:20:28,766 - june.simulator - INFO - Date = 2020-03-08 12:00:00, number of deaths =  0, number of infected = 50\n",
      "2020-06-24 11:20:29,435 - june.simulator - INFO - Date = 2020-03-09 00:00:00, number of deaths =  0, number of infected = 50\n",
      "2020-06-24 11:20:30,482 - june.simulator - INFO - Date = 2020-03-09 01:00:00, number of deaths =  0, number of infected = 50\n",
      "2020-06-24 11:20:31,375 - june.simulator - INFO - Date = 2020-03-09 05:00:00, number of deaths =  0, number of infected = 50\n",
      "2020-06-24 11:20:31,831 - june.simulator - INFO - Date = 2020-03-09 09:00:00, number of deaths =  0, number of infected = 50\n",
      "2020-06-24 11:20:34,764 - june.simulator - INFO - Date = 2020-03-09 10:00:00, number of deaths =  0, number of infected = 50\n",
      "2020-06-24 11:20:35,339 - june.simulator - INFO - Date = 2020-03-09 13:00:00, number of deaths =  0, number of infected = 50\n",
      "2020-06-24 11:20:35,945 - june.simulator - INFO - Date = 2020-03-10 00:00:00, number of deaths =  0, number of infected = 50\n",
      "2020-06-24 11:20:36,980 - june.simulator - INFO - Date = 2020-03-10 01:00:00, number of deaths =  0, number of infected = 50\n",
      "2020-06-24 11:20:37,954 - june.simulator - INFO - Date = 2020-03-10 05:00:00, number of deaths =  0, number of infected = 50\n",
      "2020-06-24 11:20:38,466 - june.simulator - INFO - Date = 2020-03-10 09:00:00, number of deaths =  0, number of infected = 50\n",
      "2020-06-24 11:20:41,581 - june.simulator - INFO - Date = 2020-03-10 10:00:00, number of deaths =  0, number of infected = 50\n",
      "2020-06-24 11:20:42,167 - june.simulator - INFO - Date = 2020-03-10 13:00:00, number of deaths =  0, number of infected = 50\n",
      "2020-06-24 11:20:42,935 - june.simulator - INFO - Date = 2020-03-11 00:00:00, number of deaths =  0, number of infected = 50\n",
      "2020-06-24 11:20:43,967 - june.simulator - INFO - Date = 2020-03-11 01:00:00, number of deaths =  0, number of infected = 52\n",
      "2020-06-24 11:20:44,893 - june.simulator - INFO - Date = 2020-03-11 05:00:00, number of deaths =  0, number of infected = 70\n",
      "2020-06-24 11:20:45,605 - june.simulator - INFO - Date = 2020-03-11 09:00:00, number of deaths =  0, number of infected = 107\n",
      "2020-06-24 11:20:48,698 - june.simulator - INFO - Date = 2020-03-11 10:00:00, number of deaths =  0, number of infected = 119\n",
      "2020-06-24 11:20:49,319 - june.simulator - INFO - Date = 2020-03-11 13:00:00, number of deaths =  0, number of infected = 136\n",
      "2020-06-24 11:20:49,995 - june.simulator - INFO - Date = 2020-03-12 00:00:00, number of deaths =  0, number of infected = 176\n",
      "2020-06-24 11:20:51,088 - june.simulator - INFO - Date = 2020-03-12 01:00:00, number of deaths =  0, number of infected = 180\n",
      "2020-06-24 11:20:52,010 - june.simulator - INFO - Date = 2020-03-12 05:00:00, number of deaths =  0, number of infected = 225\n",
      "2020-06-24 11:20:52,532 - june.simulator - INFO - Date = 2020-03-12 09:00:00, number of deaths =  0, number of infected = 273\n",
      "2020-06-24 11:20:55,550 - june.simulator - INFO - Date = 2020-03-12 10:00:00, number of deaths =  0, number of infected = 275\n",
      "2020-06-24 11:20:56,178 - june.simulator - INFO - Date = 2020-03-12 13:00:00, number of deaths =  0, number of infected = 297\n",
      "2020-06-24 11:20:56,853 - june.simulator - INFO - Date = 2020-03-13 00:00:00, number of deaths =  0, number of infected = 331\n",
      "2020-06-24 11:20:57,942 - june.simulator - INFO - Date = 2020-03-13 01:00:00, number of deaths =  0, number of infected = 336\n",
      "2020-06-24 11:20:58,929 - june.simulator - INFO - Date = 2020-03-13 05:00:00, number of deaths =  0, number of infected = 413\n",
      "2020-06-24 11:20:59,480 - june.simulator - INFO - Date = 2020-03-13 09:00:00, number of deaths =  0, number of infected = 476\n",
      "2020-06-24 11:21:02,433 - june.simulator - INFO - Date = 2020-03-13 10:00:00, number of deaths =  0, number of infected = 478\n",
      "2020-06-24 11:21:03,031 - june.simulator - INFO - Date = 2020-03-13 13:00:00, number of deaths =  0, number of infected = 488\n",
      "2020-06-24 11:21:06,717 - june.simulator - INFO - Date = 2020-03-14 00:00:00, number of deaths =  0, number of infected = 514\n",
      "2020-06-24 11:21:10,988 - june.simulator - INFO - Date = 2020-03-14 04:00:00, number of deaths =  0, number of infected = 580\n",
      "2020-06-24 11:21:15,497 - june.simulator - INFO - Date = 2020-03-14 08:00:00, number of deaths =  0, number of infected = 637\n",
      "2020-06-24 11:21:16,294 - june.simulator - INFO - Date = 2020-03-14 12:00:00, number of deaths =  0, number of infected = 735\n",
      "2020-06-24 11:21:21,004 - june.simulator - INFO - Date = 2020-03-15 00:00:00, number of deaths =  0, number of infected = 818\n",
      "2020-06-24 11:21:25,632 - june.simulator - INFO - Date = 2020-03-15 04:00:00, number of deaths =  0, number of infected = 952\n",
      "2020-06-24 11:21:29,942 - june.simulator - INFO - Date = 2020-03-15 08:00:00, number of deaths =  0, number of infected = 1130\n",
      "2020-06-24 11:21:30,703 - june.simulator - INFO - Date = 2020-03-15 12:00:00, number of deaths =  0, number of infected = 1311\n",
      "2020-06-24 11:21:31,510 - june.simulator - INFO - Date = 2020-03-16 00:00:00, number of deaths =  0, number of infected = 1488\n",
      "2020-06-24 11:21:32,692 - june.simulator - INFO - Date = 2020-03-16 01:00:00, number of deaths =  0, number of infected = 1513\n",
      "2020-06-24 11:21:34,147 - june.simulator - INFO - Date = 2020-03-16 05:00:00, number of deaths =  0, number of infected = 1932\n",
      "2020-06-24 11:21:35,452 - june.simulator - INFO - Date = 2020-03-16 09:00:00, number of deaths =  0, number of infected = 2400\n",
      "2020-06-24 11:21:39,314 - june.simulator - INFO - Date = 2020-03-16 10:00:00, number of deaths =  0, number of infected = 2435\n",
      "2020-06-24 11:21:40,166 - june.simulator - INFO - Date = 2020-03-16 13:00:00, number of deaths =  0, number of infected = 2651\n",
      "2020-06-24 11:21:41,063 - june.simulator - INFO - Date = 2020-03-17 00:00:00, number of deaths =  0, number of infected = 2938\n",
      "2020-06-24 11:21:42,522 - june.simulator - INFO - Date = 2020-03-17 01:00:00, number of deaths =  0, number of infected = 2975\n",
      "2020-06-24 11:21:45,094 - june.simulator - INFO - Date = 2020-03-17 05:00:00, number of deaths =  0, number of infected = 3559\n",
      "2020-06-24 11:21:47,320 - june.simulator - INFO - Date = 2020-03-17 09:00:00, number of deaths =  0, number of infected = 4221\n",
      "2020-06-24 11:21:50,823 - june.simulator - INFO - Date = 2020-03-17 10:00:00, number of deaths =  0, number of infected = 4286\n",
      "2020-06-24 11:21:51,644 - june.simulator - INFO - Date = 2020-03-17 13:00:00, number of deaths =  0, number of infected = 4593\n",
      "2020-06-24 11:21:52,374 - june.simulator - INFO - Date = 2020-03-18 00:00:00, number of deaths =  0, number of infected = 4969\n",
      "2020-06-24 11:21:53,488 - june.simulator - INFO - Date = 2020-03-18 01:00:00, number of deaths =  0, number of infected = 5042\n",
      "2020-06-24 11:21:56,158 - june.simulator - INFO - Date = 2020-03-18 05:00:00, number of deaths =  0, number of infected = 6296\n",
      "2020-06-24 11:21:58,824 - june.simulator - INFO - Date = 2020-03-18 09:00:00, number of deaths =  0, number of infected = 7326\n",
      "2020-06-24 11:22:01,460 - june.simulator - INFO - Date = 2020-03-18 10:00:00, number of deaths =  0, number of infected = 7418\n",
      "2020-06-24 11:22:02,211 - june.simulator - INFO - Date = 2020-03-18 13:00:00, number of deaths =  0, number of infected = 7841\n",
      "2020-06-24 11:22:03,006 - june.simulator - INFO - Date = 2020-03-19 00:00:00, number of deaths =  0, number of infected = 8406\n",
      "2020-06-24 11:22:04,174 - june.simulator - INFO - Date = 2020-03-19 01:00:00, number of deaths =  0, number of infected = 8507\n",
      "2020-06-24 11:22:09,492 - june.simulator - INFO - Date = 2020-03-19 05:00:00, number of deaths =  0, number of infected = 10091\n",
      "2020-06-24 11:22:14,989 - june.simulator - INFO - Date = 2020-03-19 09:00:00, number of deaths =  0, number of infected = 11694\n",
      "2020-06-24 11:22:17,402 - june.simulator - INFO - Date = 2020-03-19 10:00:00, number of deaths =  0, number of infected = 11848\n",
      "2020-06-24 11:22:18,287 - june.simulator - INFO - Date = 2020-03-19 13:00:00, number of deaths =  0, number of infected = 12606\n",
      "2020-06-24 11:22:19,148 - june.simulator - INFO - Date = 2020-03-20 00:00:00, number of deaths =  0, number of infected = 13566\n",
      "2020-06-24 11:22:20,289 - june.simulator - INFO - Date = 2020-03-20 01:00:00, number of deaths =  0, number of infected = 13718\n",
      "2020-06-24 11:22:29,971 - june.simulator - INFO - Date = 2020-03-20 05:00:00, number of deaths =  0, number of infected = 15753\n",
      "2020-06-24 11:22:41,758 - june.simulator - INFO - Date = 2020-03-20 09:00:00, number of deaths =  0, number of infected = 17691\n",
      "2020-06-24 11:22:45,264 - june.simulator - INFO - Date = 2020-03-20 10:00:00, number of deaths =  0, number of infected = 17877\n",
      "2020-06-24 11:22:46,337 - june.simulator - INFO - Date = 2020-03-20 13:00:00, number of deaths =  0, number of infected = 18756\n",
      "2020-06-24 11:22:50,782 - june.simulator - INFO - Date = 2020-03-21 00:00:00, number of deaths =  0, number of infected = 19772\n",
      "2020-06-24 11:22:55,378 - june.simulator - INFO - Date = 2020-03-21 04:00:00, number of deaths =  0, number of infected = 21401\n",
      "2020-06-24 11:22:59,808 - june.simulator - INFO - Date = 2020-03-21 08:00:00, number of deaths =  0, number of infected = 23092\n",
      "2020-06-24 11:23:01,514 - june.simulator - INFO - Date = 2020-03-21 12:00:00, number of deaths =  0, number of infected = 24622\n",
      "2020-06-24 11:23:07,568 - june.simulator - INFO - Date = 2020-03-22 00:00:00, number of deaths =  0, number of infected = 25749\n",
      "2020-06-24 11:23:13,300 - june.simulator - INFO - Date = 2020-03-22 04:00:00, number of deaths =  0, number of infected = 27465\n",
      "2020-06-24 11:23:17,222 - june.simulator - INFO - Date = 2020-03-22 08:00:00, number of deaths =  0, number of infected = 29133\n",
      "2020-06-24 11:23:18,214 - june.simulator - INFO - Date = 2020-03-22 12:00:00, number of deaths =  0, number of infected = 30699\n",
      "2020-06-24 11:23:19,945 - june.simulator - INFO - Date = 2020-03-23 00:00:00, number of deaths =  0, number of infected = 31586\n",
      "2020-06-24 11:23:22,459 - june.simulator - INFO - Date = 2020-03-23 01:00:00, number of deaths =  0, number of infected = 31740\n",
      "2020-06-24 11:23:30,158 - june.simulator - INFO - Date = 2020-03-23 05:00:00, number of deaths =  0, number of infected = 33913\n",
      "2020-06-24 11:23:32,365 - june.simulator - INFO - Date = 2020-03-23 09:00:00, number of deaths =  0, number of infected = 35316\n",
      "2020-06-24 11:23:35,181 - june.simulator - INFO - Date = 2020-03-23 10:00:00, number of deaths =  0, number of infected = 35433\n",
      "2020-06-24 11:23:36,098 - june.simulator - INFO - Date = 2020-03-23 13:00:00, number of deaths =  0, number of infected = 36326\n",
      "2020-06-24 11:23:36,961 - june.simulator - INFO - Date = 2020-03-24 00:00:00, number of deaths =  0, number of infected = 36922\n",
      "2020-06-24 11:23:37,963 - june.simulator - INFO - Date = 2020-03-24 01:00:00, number of deaths =  0, number of infected = 36993\n",
      "2020-06-24 11:23:39,505 - june.simulator - INFO - Date = 2020-03-24 05:00:00, number of deaths =  0, number of infected = 38427\n",
      "2020-06-24 11:23:40,737 - june.simulator - INFO - Date = 2020-03-24 09:00:00, number of deaths =  0, number of infected = 39490\n",
      "2020-06-24 11:23:43,232 - june.simulator - INFO - Date = 2020-03-24 10:00:00, number of deaths =  0, number of infected = 39583\n",
      "2020-06-24 11:23:44,233 - june.simulator - INFO - Date = 2020-03-24 13:00:00, number of deaths =  0, number of infected = 40261\n",
      "2020-06-24 11:23:45,103 - june.simulator - INFO - Date = 2020-03-25 00:00:00, number of deaths =  0, number of infected = 40680\n",
      "2020-06-24 11:23:46,103 - june.simulator - INFO - Date = 2020-03-25 01:00:00, number of deaths =  0, number of infected = 40749\n",
      "2020-06-24 11:23:47,289 - june.simulator - INFO - Date = 2020-03-25 05:00:00, number of deaths =  0, number of infected = 41395\n",
      "2020-06-24 11:23:48,319 - june.simulator - INFO - Date = 2020-03-25 09:00:00, number of deaths =  0, number of infected = 41929\n",
      "2020-06-24 11:23:50,718 - june.simulator - INFO - Date = 2020-03-25 10:00:00, number of deaths =  0, number of infected = 42014\n",
      "2020-06-24 11:23:51,567 - june.simulator - INFO - Date = 2020-03-25 13:00:00, number of deaths =  0, number of infected = 42409\n",
      "2020-06-24 11:23:52,373 - june.simulator - INFO - Date = 2020-03-26 00:00:00, number of deaths =  0, number of infected = 42777\n",
      "2020-06-24 11:23:53,443 - june.simulator - INFO - Date = 2020-03-26 01:00:00, number of deaths =  0, number of infected = 42836\n",
      "2020-06-24 11:23:54,750 - june.simulator - INFO - Date = 2020-03-26 05:00:00, number of deaths =  0, number of infected = 43277\n",
      "2020-06-24 11:23:55,730 - june.simulator - INFO - Date = 2020-03-26 09:00:00, number of deaths =  0, number of infected = 43664\n",
      "2020-06-24 11:23:57,697 - june.simulator - INFO - Date = 2020-03-26 10:00:00, number of deaths =  1, number of infected = 43736\n",
      "2020-06-24 11:23:58,598 - june.simulator - INFO - Date = 2020-03-26 13:00:00, number of deaths =  1, number of infected = 44057\n",
      "2020-06-24 11:23:59,448 - june.simulator - INFO - Date = 2020-03-27 00:00:00, number of deaths =  2, number of infected = 44316\n",
      "2020-06-24 11:24:00,415 - june.simulator - INFO - Date = 2020-03-27 01:00:00, number of deaths =  2, number of infected = 44354\n",
      "2020-06-24 11:24:01,596 - june.simulator - INFO - Date = 2020-03-27 05:00:00, number of deaths =  2, number of infected = 44597\n",
      "2020-06-24 11:24:02,393 - june.simulator - INFO - Date = 2020-03-27 09:00:00, number of deaths =  2, number of infected = 44823\n",
      "2020-06-24 11:24:04,535 - june.simulator - INFO - Date = 2020-03-27 10:00:00, number of deaths =  2, number of infected = 44865\n",
      "2020-06-24 11:24:05,293 - june.simulator - INFO - Date = 2020-03-27 13:00:00, number of deaths =  3, number of infected = 45090\n",
      "2020-06-24 11:24:07,602 - june.simulator - INFO - Date = 2020-03-28 00:00:00, number of deaths =  3, number of infected = 45240\n",
      "2020-06-24 11:24:09,554 - june.simulator - INFO - Date = 2020-03-28 04:00:00, number of deaths =  3, number of infected = 45452\n",
      "2020-06-24 11:24:11,849 - june.simulator - INFO - Date = 2020-03-28 08:00:00, number of deaths =  4, number of infected = 45642\n",
      "2020-06-24 11:24:12,647 - june.simulator - INFO - Date = 2020-03-28 12:00:00, number of deaths =  4, number of infected = 45797\n",
      "2020-06-24 11:24:14,521 - june.simulator - INFO - Date = 2020-03-29 00:00:00, number of deaths =  7, number of infected = 45827\n",
      "2020-06-24 11:24:16,563 - june.simulator - INFO - Date = 2020-03-29 04:00:00, number of deaths =  7, number of infected = 45962\n",
      "2020-06-24 11:24:19,199 - june.simulator - INFO - Date = 2020-03-29 08:00:00, number of deaths =  7, number of infected = 46084\n",
      "2020-06-24 11:24:20,263 - june.simulator - INFO - Date = 2020-03-29 12:00:00, number of deaths =  8, number of infected = 46163\n",
      "2020-06-24 11:24:21,305 - june.simulator - INFO - Date = 2020-03-30 00:00:00, number of deaths =  8, number of infected = 46166\n",
      "2020-06-24 11:24:22,413 - june.simulator - INFO - Date = 2020-03-30 01:00:00, number of deaths =  8, number of infected = 46170\n",
      "2020-06-24 11:24:23,422 - june.simulator - INFO - Date = 2020-03-30 05:00:00, number of deaths =  9, number of infected = 46222\n",
      "2020-06-24 11:24:24,284 - june.simulator - INFO - Date = 2020-03-30 09:00:00, number of deaths =  10, number of infected = 46257\n",
      "2020-06-24 11:24:25,949 - june.simulator - INFO - Date = 2020-03-30 10:00:00, number of deaths =  12, number of infected = 46249\n",
      "2020-06-24 11:24:26,623 - june.simulator - INFO - Date = 2020-03-30 13:00:00, number of deaths =  15, number of infected = 46277\n",
      "2020-06-24 11:24:27,328 - june.simulator - INFO - Date = 2020-03-31 00:00:00, number of deaths =  16, number of infected = 46225\n",
      "2020-06-24 11:24:28,183 - june.simulator - INFO - Date = 2020-03-31 01:00:00, number of deaths =  18, number of infected = 46224\n",
      "2020-06-24 11:24:29,225 - june.simulator - INFO - Date = 2020-03-31 05:00:00, number of deaths =  20, number of infected = 46229\n",
      "2020-06-24 11:24:30,011 - june.simulator - INFO - Date = 2020-03-31 09:00:00, number of deaths =  21, number of infected = 46238\n",
      "2020-06-24 11:24:31,699 - june.simulator - INFO - Date = 2020-03-31 10:00:00, number of deaths =  21, number of infected = 46228\n",
      "2020-06-24 11:24:32,392 - june.simulator - INFO - Date = 2020-03-31 13:00:00, number of deaths =  22, number of infected = 46237\n",
      "2020-06-24 11:24:33,124 - june.simulator - INFO - Date = 2020-04-01 00:00:00, number of deaths =  23, number of infected = 46131\n",
      "2020-06-24 11:24:34,030 - june.simulator - INFO - Date = 2020-04-01 01:00:00, number of deaths =  23, number of infected = 46120\n",
      "2020-06-24 11:24:34,890 - june.simulator - INFO - Date = 2020-04-01 05:00:00, number of deaths =  24, number of infected = 46113\n",
      "2020-06-24 11:24:35,618 - june.simulator - INFO - Date = 2020-04-01 09:00:00, number of deaths =  24, number of infected = 46099\n",
      "2020-06-24 11:24:37,151 - june.simulator - INFO - Date = 2020-04-01 10:00:00, number of deaths =  24, number of infected = 46085\n",
      "2020-06-24 11:24:37,805 - june.simulator - INFO - Date = 2020-04-01 13:00:00, number of deaths =  26, number of infected = 46063\n",
      "2020-06-24 11:24:38,532 - june.simulator - INFO - Date = 2020-04-02 00:00:00, number of deaths =  29, number of infected = 45887\n",
      "2020-06-24 11:24:39,384 - june.simulator - INFO - Date = 2020-04-02 01:00:00, number of deaths =  29, number of infected = 45882\n",
      "2020-06-24 11:24:40,363 - june.simulator - INFO - Date = 2020-04-02 05:00:00, number of deaths =  30, number of infected = 45838\n",
      "2020-06-24 11:24:41,199 - june.simulator - INFO - Date = 2020-04-02 09:00:00, number of deaths =  31, number of infected = 45774\n",
      "2020-06-24 11:24:43,344 - june.simulator - INFO - Date = 2020-04-02 10:00:00, number of deaths =  31, number of infected = 45756\n",
      "2020-06-24 11:24:44,190 - june.simulator - INFO - Date = 2020-04-02 13:00:00, number of deaths =  32, number of infected = 45697\n",
      "2020-06-24 11:24:45,072 - june.simulator - INFO - Date = 2020-04-03 00:00:00, number of deaths =  35, number of infected = 45460\n",
      "2020-06-24 11:24:46,228 - june.simulator - INFO - Date = 2020-04-03 01:00:00, number of deaths =  35, number of infected = 45441\n",
      "2020-06-24 11:24:47,919 - june.simulator - INFO - Date = 2020-04-03 05:00:00, number of deaths =  38, number of infected = 45325\n",
      "2020-06-24 11:24:48,858 - june.simulator - INFO - Date = 2020-04-03 09:00:00, number of deaths =  38, number of infected = 45195\n",
      "2020-06-24 11:24:51,550 - june.simulator - INFO - Date = 2020-04-03 10:00:00, number of deaths =  38, number of infected = 45176\n",
      "2020-06-24 11:24:52,816 - june.simulator - INFO - Date = 2020-04-03 13:00:00, number of deaths =  39, number of infected = 45086\n",
      "2020-06-24 11:24:55,177 - june.simulator - INFO - Date = 2020-04-04 00:00:00, number of deaths =  44, number of infected = 44676\n",
      "2020-06-24 11:24:57,346 - june.simulator - INFO - Date = 2020-04-04 04:00:00, number of deaths =  44, number of infected = 44510\n",
      "2020-06-24 11:24:59,400 - june.simulator - INFO - Date = 2020-04-04 08:00:00, number of deaths =  45, number of infected = 44321\n",
      "2020-06-24 11:25:00,417 - june.simulator - INFO - Date = 2020-04-04 12:00:00, number of deaths =  47, number of infected = 44110\n",
      "2020-06-24 11:25:03,663 - june.simulator - INFO - Date = 2020-04-05 00:00:00, number of deaths =  52, number of infected = 43480\n",
      "2020-06-24 11:25:06,008 - june.simulator - INFO - Date = 2020-04-05 04:00:00, number of deaths =  53, number of infected = 43253\n",
      "2020-06-24 11:25:08,348 - june.simulator - INFO - Date = 2020-04-05 08:00:00, number of deaths =  59, number of infected = 42992\n",
      "2020-06-24 11:25:09,302 - june.simulator - INFO - Date = 2020-04-05 12:00:00, number of deaths =  60, number of infected = 42730\n",
      "2020-06-24 11:25:10,325 - june.simulator - INFO - Date = 2020-04-06 00:00:00, number of deaths =  63, number of infected = 41902\n",
      "2020-06-24 11:25:11,515 - june.simulator - INFO - Date = 2020-04-06 01:00:00, number of deaths =  63, number of infected = 41825\n",
      "2020-06-24 11:25:12,547 - june.simulator - INFO - Date = 2020-04-06 05:00:00, number of deaths =  63, number of infected = 41510\n",
      "2020-06-24 11:25:13,482 - june.simulator - INFO - Date = 2020-04-06 09:00:00, number of deaths =  65, number of infected = 41172\n",
      "2020-06-24 11:25:15,853 - june.simulator - INFO - Date = 2020-04-06 10:00:00, number of deaths =  65, number of infected = 41083\n",
      "2020-06-24 11:25:17,155 - june.simulator - INFO - Date = 2020-04-06 13:00:00, number of deaths =  65, number of infected = 40843\n",
      "2020-06-24 11:25:18,193 - june.simulator - INFO - Date = 2020-04-07 00:00:00, number of deaths =  66, number of infected = 39954\n",
      "2020-06-24 11:25:19,138 - june.simulator - INFO - Date = 2020-04-07 01:00:00, number of deaths =  67, number of infected = 39858\n",
      "2020-06-24 11:25:20,248 - june.simulator - INFO - Date = 2020-04-07 05:00:00, number of deaths =  70, number of infected = 39504\n",
      "2020-06-24 11:25:21,124 - june.simulator - INFO - Date = 2020-04-07 09:00:00, number of deaths =  73, number of infected = 39159\n",
      "2020-06-24 11:25:23,700 - june.simulator - INFO - Date = 2020-04-07 10:00:00, number of deaths =  73, number of infected = 39056\n",
      "2020-06-24 11:25:24,608 - june.simulator - INFO - Date = 2020-04-07 13:00:00, number of deaths =  75, number of infected = 38762\n",
      "2020-06-24 11:25:25,437 - june.simulator - INFO - Date = 2020-04-08 00:00:00, number of deaths =  80, number of infected = 37677\n",
      "2020-06-24 11:25:26,646 - june.simulator - INFO - Date = 2020-04-08 01:00:00, number of deaths =  80, number of infected = 37578\n",
      "2020-06-24 11:25:27,752 - june.simulator - INFO - Date = 2020-04-08 05:00:00, number of deaths =  83, number of infected = 37193\n",
      "2020-06-24 11:25:28,529 - june.simulator - INFO - Date = 2020-04-08 09:00:00, number of deaths =  85, number of infected = 36783\n",
      "2020-06-24 11:25:30,687 - june.simulator - INFO - Date = 2020-04-08 10:00:00, number of deaths =  85, number of infected = 36680\n",
      "2020-06-24 11:25:31,569 - june.simulator - INFO - Date = 2020-04-08 13:00:00, number of deaths =  86, number of infected = 36362\n",
      "2020-06-24 11:25:32,375 - june.simulator - INFO - Date = 2020-04-09 00:00:00, number of deaths =  93, number of infected = 35178\n",
      "2020-06-24 11:25:33,285 - june.simulator - INFO - Date = 2020-04-09 01:00:00, number of deaths =  95, number of infected = 35073\n",
      "2020-06-24 11:25:34,150 - june.simulator - INFO - Date = 2020-04-09 05:00:00, number of deaths =  97, number of infected = 34632\n",
      "2020-06-24 11:25:34,997 - june.simulator - INFO - Date = 2020-04-09 09:00:00, number of deaths =  99, number of infected = 34198\n",
      "2020-06-24 11:25:37,186 - june.simulator - INFO - Date = 2020-04-09 10:00:00, number of deaths =  99, number of infected = 34103\n",
      "2020-06-24 11:25:38,128 - june.simulator - INFO - Date = 2020-04-09 13:00:00, number of deaths =  99, number of infected = 33796\n",
      "2020-06-24 11:25:38,935 - june.simulator - INFO - Date = 2020-04-10 00:00:00, number of deaths =  110, number of infected = 32617\n",
      "2020-06-24 11:25:40,048 - june.simulator - INFO - Date = 2020-04-10 01:00:00, number of deaths =  110, number of infected = 32507\n",
      "2020-06-24 11:25:41,643 - june.simulator - INFO - Date = 2020-04-10 05:00:00, number of deaths =  111, number of infected = 32078\n",
      "2020-06-24 11:25:42,583 - june.simulator - INFO - Date = 2020-04-10 09:00:00, number of deaths =  113, number of infected = 31639\n",
      "2020-06-24 11:25:45,386 - june.simulator - INFO - Date = 2020-04-10 10:00:00, number of deaths =  114, number of infected = 31538\n",
      "2020-06-24 11:25:46,421 - june.simulator - INFO - Date = 2020-04-10 13:00:00, number of deaths =  117, number of infected = 31215\n",
      "2020-06-24 11:25:49,180 - june.simulator - INFO - Date = 2020-04-11 00:00:00, number of deaths =  121, number of infected = 29989\n",
      "2020-06-24 11:25:51,559 - june.simulator - INFO - Date = 2020-04-11 04:00:00, number of deaths =  121, number of infected = 29571\n",
      "2020-06-24 11:25:53,943 - june.simulator - INFO - Date = 2020-04-11 08:00:00, number of deaths =  123, number of infected = 29136\n",
      "2020-06-24 11:25:54,696 - june.simulator - INFO - Date = 2020-04-11 12:00:00, number of deaths =  126, number of infected = 28695\n",
      "2020-06-24 11:25:57,062 - june.simulator - INFO - Date = 2020-04-12 00:00:00, number of deaths =  138, number of infected = 27371\n",
      "2020-06-24 11:26:00,294 - june.simulator - INFO - Date = 2020-04-12 04:00:00, number of deaths =  139, number of infected = 26900\n",
      "2020-06-24 11:26:03,435 - june.simulator - INFO - Date = 2020-04-12 08:00:00, number of deaths =  142, number of infected = 26429\n",
      "2020-06-24 11:26:04,131 - june.simulator - INFO - Date = 2020-04-12 12:00:00, number of deaths =  143, number of infected = 25976\n",
      "2020-06-24 11:26:04,946 - june.simulator - INFO - Date = 2020-04-13 00:00:00, number of deaths =  147, number of infected = 24634\n",
      "2020-06-24 11:26:05,840 - june.simulator - INFO - Date = 2020-04-13 01:00:00, number of deaths =  147, number of infected = 24512\n",
      "2020-06-24 11:26:06,742 - june.simulator - INFO - Date = 2020-04-13 05:00:00, number of deaths =  148, number of infected = 24035\n",
      "2020-06-24 11:26:07,429 - june.simulator - INFO - Date = 2020-04-13 09:00:00, number of deaths =  149, number of infected = 23577\n",
      "2020-06-24 11:26:09,530 - june.simulator - INFO - Date = 2020-04-13 10:00:00, number of deaths =  151, number of infected = 23463\n",
      "2020-06-24 11:26:10,198 - june.simulator - INFO - Date = 2020-04-13 13:00:00, number of deaths =  151, number of infected = 23125\n",
      "2020-06-24 11:26:11,014 - june.simulator - INFO - Date = 2020-04-14 00:00:00, number of deaths =  153, number of infected = 21875\n",
      "2020-06-24 11:26:11,955 - june.simulator - INFO - Date = 2020-04-14 01:00:00, number of deaths =  153, number of infected = 21728\n",
      "2020-06-24 11:26:13,097 - june.simulator - INFO - Date = 2020-04-14 05:00:00, number of deaths =  154, number of infected = 21296\n",
      "2020-06-24 11:26:13,949 - june.simulator - INFO - Date = 2020-04-14 09:00:00, number of deaths =  156, number of infected = 20827\n",
      "2020-06-24 11:26:16,682 - june.simulator - INFO - Date = 2020-04-14 10:00:00, number of deaths =  157, number of infected = 20723\n",
      "2020-06-24 11:26:17,340 - june.simulator - INFO - Date = 2020-04-14 13:00:00, number of deaths =  157, number of infected = 20387\n",
      "2020-06-24 11:26:17,982 - june.simulator - INFO - Date = 2020-04-15 00:00:00, number of deaths =  160, number of infected = 19084\n",
      "2020-06-24 11:26:18,899 - june.simulator - INFO - Date = 2020-04-15 01:00:00, number of deaths =  160, number of infected = 18979\n",
      "2020-06-24 11:26:19,851 - june.simulator - INFO - Date = 2020-04-15 05:00:00, number of deaths =  161, number of infected = 18512\n",
      "2020-06-24 11:26:20,499 - june.simulator - INFO - Date = 2020-04-15 09:00:00, number of deaths =  163, number of infected = 18072\n",
      "2020-06-24 11:26:22,743 - june.simulator - INFO - Date = 2020-04-15 10:00:00, number of deaths =  163, number of infected = 17951\n",
      "2020-06-24 11:26:23,351 - june.simulator - INFO - Date = 2020-04-15 13:00:00, number of deaths =  166, number of infected = 17607\n",
      "2020-06-24 11:26:23,937 - june.simulator - INFO - Date = 2020-04-16 00:00:00, number of deaths =  170, number of infected = 16425\n",
      "2020-06-24 11:26:24,792 - june.simulator - INFO - Date = 2020-04-16 01:00:00, number of deaths =  171, number of infected = 16310\n",
      "2020-06-24 11:26:25,711 - june.simulator - INFO - Date = 2020-04-16 05:00:00, number of deaths =  173, number of infected = 15878\n",
      "2020-06-24 11:26:26,536 - june.simulator - INFO - Date = 2020-04-16 09:00:00, number of deaths =  174, number of infected = 15459\n",
      "2020-06-24 11:26:29,413 - june.simulator - INFO - Date = 2020-04-16 10:00:00, number of deaths =  174, number of infected = 15353\n",
      "2020-06-24 11:26:29,979 - june.simulator - INFO - Date = 2020-04-16 13:00:00, number of deaths =  175, number of infected = 15033\n",
      "2020-06-24 11:26:30,615 - june.simulator - INFO - Date = 2020-04-17 00:00:00, number of deaths =  179, number of infected = 13874\n",
      "2020-06-24 11:26:31,509 - june.simulator - INFO - Date = 2020-04-17 01:00:00, number of deaths =  180, number of infected = 13766\n",
      "2020-06-24 11:26:32,390 - june.simulator - INFO - Date = 2020-04-17 05:00:00, number of deaths =  181, number of infected = 13349\n",
      "2020-06-24 11:26:32,949 - june.simulator - INFO - Date = 2020-04-17 09:00:00, number of deaths =  185, number of infected = 12908\n",
      "2020-06-24 11:26:35,728 - june.simulator - INFO - Date = 2020-04-17 10:00:00, number of deaths =  185, number of infected = 12813\n",
      "2020-06-24 11:26:36,474 - june.simulator - INFO - Date = 2020-04-17 13:00:00, number of deaths =  186, number of infected = 12512\n",
      "2020-06-24 11:26:39,635 - june.simulator - INFO - Date = 2020-04-18 00:00:00, number of deaths =  190, number of infected = 11387\n",
      "2020-06-24 11:26:43,110 - june.simulator - INFO - Date = 2020-04-18 04:00:00, number of deaths =  190, number of infected = 10990\n",
      "2020-06-24 11:26:46,816 - june.simulator - INFO - Date = 2020-04-18 08:00:00, number of deaths =  193, number of infected = 10588\n",
      "2020-06-24 11:26:47,377 - june.simulator - INFO - Date = 2020-04-18 12:00:00, number of deaths =  194, number of infected = 10179\n",
      "2020-06-24 11:26:50,594 - june.simulator - INFO - Date = 2020-04-19 00:00:00, number of deaths =  203, number of infected = 9071\n",
      "2020-06-24 11:26:53,848 - june.simulator - INFO - Date = 2020-04-19 04:00:00, number of deaths =  205, number of infected = 8723\n",
      "2020-06-24 11:26:57,229 - june.simulator - INFO - Date = 2020-04-19 08:00:00, number of deaths =  206, number of infected = 8373\n",
      "2020-06-24 11:26:57,925 - june.simulator - INFO - Date = 2020-04-19 12:00:00, number of deaths =  207, number of infected = 8024\n",
      "2020-06-24 11:26:58,632 - june.simulator - INFO - Date = 2020-04-20 00:00:00, number of deaths =  210, number of infected = 7059\n",
      "2020-06-24 11:26:59,521 - june.simulator - INFO - Date = 2020-04-20 01:00:00, number of deaths =  210, number of infected = 6982\n",
      "2020-06-24 11:27:00,383 - june.simulator - INFO - Date = 2020-04-20 05:00:00, number of deaths =  210, number of infected = 6678\n",
      "2020-06-24 11:27:00,903 - june.simulator - INFO - Date = 2020-04-20 09:00:00, number of deaths =  210, number of infected = 6387\n",
      "2020-06-24 11:27:03,593 - june.simulator - INFO - Date = 2020-04-20 10:00:00, number of deaths =  210, number of infected = 6308\n",
      "2020-06-24 11:27:04,106 - june.simulator - INFO - Date = 2020-04-20 13:00:00, number of deaths =  211, number of infected = 6075\n",
      "2020-06-24 11:27:04,608 - june.simulator - INFO - Date = 2020-04-21 00:00:00, number of deaths =  215, number of infected = 5363\n",
      "2020-06-24 11:27:05,472 - june.simulator - INFO - Date = 2020-04-21 01:00:00, number of deaths =  215, number of infected = 5295\n",
      "2020-06-24 11:27:06,536 - june.simulator - INFO - Date = 2020-04-21 05:00:00, number of deaths =  216, number of infected = 5023\n",
      "2020-06-24 11:27:06,991 - june.simulator - INFO - Date = 2020-04-21 09:00:00, number of deaths =  216, number of infected = 4762\n",
      "2020-06-24 11:27:09,781 - june.simulator - INFO - Date = 2020-04-21 10:00:00, number of deaths =  216, number of infected = 4698\n",
      "2020-06-24 11:27:10,225 - june.simulator - INFO - Date = 2020-04-21 13:00:00, number of deaths =  216, number of infected = 4523\n",
      "2020-06-24 11:27:10,775 - june.simulator - INFO - Date = 2020-04-22 00:00:00, number of deaths =  219, number of infected = 3956\n",
      "2020-06-24 11:27:11,918 - june.simulator - INFO - Date = 2020-04-22 01:00:00, number of deaths =  219, number of infected = 3917\n",
      "2020-06-24 11:27:13,033 - june.simulator - INFO - Date = 2020-04-22 05:00:00, number of deaths =  221, number of infected = 3717\n",
      "2020-06-24 11:27:13,685 - june.simulator - INFO - Date = 2020-04-22 09:00:00, number of deaths =  221, number of infected = 3504\n",
      "2020-06-24 11:27:16,808 - june.simulator - INFO - Date = 2020-04-22 10:00:00, number of deaths =  221, number of infected = 3461\n",
      "2020-06-24 11:27:17,313 - june.simulator - INFO - Date = 2020-04-22 13:00:00, number of deaths =  221, number of infected = 3311\n",
      "2020-06-24 11:27:17,867 - june.simulator - INFO - Date = 2020-04-23 00:00:00, number of deaths =  223, number of infected = 2813\n",
      "2020-06-24 11:27:18,715 - june.simulator - INFO - Date = 2020-04-23 01:00:00, number of deaths =  223, number of infected = 2783\n",
      "2020-06-24 11:27:19,632 - june.simulator - INFO - Date = 2020-04-23 05:00:00, number of deaths =  224, number of infected = 2639\n",
      "2020-06-24 11:27:20,166 - june.simulator - INFO - Date = 2020-04-23 09:00:00, number of deaths =  225, number of infected = 2486\n",
      "2020-06-24 11:27:22,902 - june.simulator - INFO - Date = 2020-04-23 10:00:00, number of deaths =  225, number of infected = 2450\n",
      "2020-06-24 11:27:23,326 - june.simulator - INFO - Date = 2020-04-23 13:00:00, number of deaths =  225, number of infected = 2342\n",
      "2020-06-24 11:27:23,746 - june.simulator - INFO - Date = 2020-04-24 00:00:00, number of deaths =  226, number of infected = 1985\n",
      "2020-06-24 11:27:24,591 - june.simulator - INFO - Date = 2020-04-24 01:00:00, number of deaths =  226, number of infected = 1959\n",
      "2020-06-24 11:27:25,406 - june.simulator - INFO - Date = 2020-04-24 05:00:00, number of deaths =  228, number of infected = 1832\n",
      "2020-06-24 11:27:25,982 - june.simulator - INFO - Date = 2020-04-24 09:00:00, number of deaths =  229, number of infected = 1711\n",
      "2020-06-24 11:27:29,533 - june.simulator - INFO - Date = 2020-04-24 10:00:00, number of deaths =  229, number of infected = 1677\n",
      "2020-06-24 11:27:29,909 - june.simulator - INFO - Date = 2020-04-24 13:00:00, number of deaths =  229, number of infected = 1596\n",
      "2020-06-24 11:27:33,683 - june.simulator - INFO - Date = 2020-04-25 00:00:00, number of deaths =  231, number of infected = 1350\n",
      "2020-06-24 11:27:36,101 - june.simulator - INFO - Date = 2020-04-25 04:00:00, number of deaths =  231, number of infected = 1269\n",
      "2020-06-24 11:27:38,518 - june.simulator - INFO - Date = 2020-04-25 08:00:00, number of deaths =  231, number of infected = 1179\n",
      "2020-06-24 11:27:38,786 - june.simulator - INFO - Date = 2020-04-25 12:00:00, number of deaths =  231, number of infected = 1109\n",
      "2020-06-24 11:27:41,578 - june.simulator - INFO - Date = 2020-04-26 00:00:00, number of deaths =  231, number of infected = 921\n",
      "2020-06-24 11:27:45,515 - june.simulator - INFO - Date = 2020-04-26 04:00:00, number of deaths =  231, number of infected = 858\n",
      "2020-06-24 11:27:48,167 - june.simulator - INFO - Date = 2020-04-26 08:00:00, number of deaths =  233, number of infected = 790\n",
      "2020-06-24 11:27:48,569 - june.simulator - INFO - Date = 2020-04-26 12:00:00, number of deaths =  234, number of infected = 728\n",
      "2020-06-24 11:27:48,963 - june.simulator - INFO - Date = 2020-04-27 00:00:00, number of deaths =  235, number of infected = 598\n",
      "2020-06-24 11:27:49,822 - june.simulator - INFO - Date = 2020-04-27 01:00:00, number of deaths =  235, number of infected = 590\n",
      "2020-06-24 11:27:50,593 - june.simulator - INFO - Date = 2020-04-27 05:00:00, number of deaths =  235, number of infected = 546\n",
      "2020-06-24 11:27:50,954 - june.simulator - INFO - Date = 2020-04-27 09:00:00, number of deaths =  235, number of infected = 511\n",
      "2020-06-24 11:27:54,093 - june.simulator - INFO - Date = 2020-04-27 10:00:00, number of deaths =  235, number of infected = 501\n",
      "2020-06-24 11:27:54,611 - june.simulator - INFO - Date = 2020-04-27 13:00:00, number of deaths =  236, number of infected = 471\n",
      "2020-06-24 11:27:55,007 - june.simulator - INFO - Date = 2020-04-28 00:00:00, number of deaths =  237, number of infected = 384\n",
      "2020-06-24 11:27:55,797 - june.simulator - INFO - Date = 2020-04-28 01:00:00, number of deaths =  237, number of infected = 378\n",
      "2020-06-24 11:27:56,683 - june.simulator - INFO - Date = 2020-04-28 05:00:00, number of deaths =  237, number of infected = 359\n",
      "2020-06-24 11:27:57,136 - june.simulator - INFO - Date = 2020-04-28 09:00:00, number of deaths =  237, number of infected = 336\n",
      "2020-06-24 11:27:59,962 - june.simulator - INFO - Date = 2020-04-28 10:00:00, number of deaths =  237, number of infected = 326\n",
      "2020-06-24 11:28:00,375 - june.simulator - INFO - Date = 2020-04-28 13:00:00, number of deaths =  237, number of infected = 311\n",
      "2020-06-24 11:28:00,860 - june.simulator - INFO - Date = 2020-04-29 00:00:00, number of deaths =  237, number of infected = 263\n",
      "2020-06-24 11:28:01,724 - june.simulator - INFO - Date = 2020-04-29 01:00:00, number of deaths =  237, number of infected = 254\n",
      "2020-06-24 11:28:02,556 - june.simulator - INFO - Date = 2020-04-29 05:00:00, number of deaths =  237, number of infected = 233\n",
      "2020-06-24 11:28:02,883 - june.simulator - INFO - Date = 2020-04-29 09:00:00, number of deaths =  237, number of infected = 216\n",
      "2020-06-24 11:28:05,354 - june.simulator - INFO - Date = 2020-04-29 10:00:00, number of deaths =  237, number of infected = 212\n",
      "2020-06-24 11:28:05,720 - june.simulator - INFO - Date = 2020-04-29 13:00:00, number of deaths =  238, number of infected = 195\n",
      "2020-06-24 11:28:06,062 - june.simulator - INFO - Date = 2020-04-30 00:00:00, number of deaths =  238, number of infected = 153\n",
      "2020-06-24 11:28:06,692 - june.simulator - INFO - Date = 2020-04-30 01:00:00, number of deaths =  238, number of infected = 151\n",
      "2020-06-24 11:28:07,281 - june.simulator - INFO - Date = 2020-04-30 05:00:00, number of deaths =  238, number of infected = 141\n",
      "2020-06-24 11:28:07,579 - june.simulator - INFO - Date = 2020-04-30 09:00:00, number of deaths =  238, number of infected = 134\n",
      "2020-06-24 11:28:09,656 - june.simulator - INFO - Date = 2020-04-30 10:00:00, number of deaths =  238, number of infected = 131\n",
      "2020-06-24 11:28:09,913 - june.simulator - INFO - Date = 2020-04-30 13:00:00, number of deaths =  238, number of infected = 123\n",
      "2020-06-24 11:28:10,196 - june.simulator - INFO - Date = 2020-05-01 00:00:00, number of deaths =  239, number of infected = 94\n",
      "2020-06-24 11:28:10,794 - june.simulator - INFO - Date = 2020-05-01 01:00:00, number of deaths =  239, number of infected = 91\n",
      "2020-06-24 11:28:11,361 - june.simulator - INFO - Date = 2020-05-01 05:00:00, number of deaths =  239, number of infected = 83\n",
      "2020-06-24 11:28:11,653 - june.simulator - INFO - Date = 2020-05-01 09:00:00, number of deaths =  239, number of infected = 77\n",
      "2020-06-24 11:28:13,742 - june.simulator - INFO - Date = 2020-05-01 10:00:00, number of deaths =  239, number of infected = 75\n",
      "2020-06-24 11:28:14,003 - june.simulator - INFO - Date = 2020-05-01 13:00:00, number of deaths =  239, number of infected = 69\n",
      "2020-06-24 11:28:16,617 - june.simulator - INFO - Date = 2020-05-02 00:00:00, number of deaths =  239, number of infected = 61\n",
      "2020-06-24 11:28:19,149 - june.simulator - INFO - Date = 2020-05-02 04:00:00, number of deaths =  240, number of infected = 53\n",
      "2020-06-24 11:28:21,680 - june.simulator - INFO - Date = 2020-05-02 08:00:00, number of deaths =  240, number of infected = 52\n",
      "2020-06-24 11:28:21,990 - june.simulator - INFO - Date = 2020-05-02 12:00:00, number of deaths =  240, number of infected = 49\n",
      "2020-06-24 11:28:24,465 - june.simulator - INFO - Date = 2020-05-03 00:00:00, number of deaths =  240, number of infected = 33\n",
      "2020-06-24 11:28:26,997 - june.simulator - INFO - Date = 2020-05-03 04:00:00, number of deaths =  240, number of infected = 30\n",
      "2020-06-24 11:28:29,547 - june.simulator - INFO - Date = 2020-05-03 08:00:00, number of deaths =  240, number of infected = 28\n",
      "2020-06-24 11:28:29,810 - june.simulator - INFO - Date = 2020-05-03 12:00:00, number of deaths =  240, number of infected = 27\n",
      "2020-06-24 11:28:30,101 - june.simulator - INFO - Date = 2020-05-04 00:00:00, number of deaths =  240, number of infected = 21\n",
      "2020-06-24 11:28:30,767 - june.simulator - INFO - Date = 2020-05-04 01:00:00, number of deaths =  240, number of infected = 21\n",
      "2020-06-24 11:28:31,378 - june.simulator - INFO - Date = 2020-05-04 05:00:00, number of deaths =  240, number of infected = 19\n",
      "2020-06-24 11:28:31,639 - june.simulator - INFO - Date = 2020-05-04 09:00:00, number of deaths =  240, number of infected = 19\n",
      "2020-06-24 11:28:33,646 - june.simulator - INFO - Date = 2020-05-04 10:00:00, number of deaths =  240, number of infected = 19\n",
      "2020-06-24 11:28:33,899 - june.simulator - INFO - Date = 2020-05-04 13:00:00, number of deaths =  240, number of infected = 18\n",
      "2020-06-24 11:28:34,187 - june.simulator - INFO - Date = 2020-05-05 00:00:00, number of deaths =  240, number of infected = 18\n",
      "2020-06-24 11:28:34,828 - june.simulator - INFO - Date = 2020-05-05 01:00:00, number of deaths =  240, number of infected = 17\n",
      "2020-06-24 11:28:35,400 - june.simulator - INFO - Date = 2020-05-05 05:00:00, number of deaths =  240, number of infected = 16\n",
      "2020-06-24 11:28:35,699 - june.simulator - INFO - Date = 2020-05-05 09:00:00, number of deaths =  240, number of infected = 14\n",
      "2020-06-24 11:28:37,762 - june.simulator - INFO - Date = 2020-05-05 10:00:00, number of deaths =  240, number of infected = 14\n",
      "2020-06-24 11:28:38,043 - june.simulator - INFO - Date = 2020-05-05 13:00:00, number of deaths =  240, number of infected = 14\n",
      "2020-06-24 11:28:38,330 - june.simulator - INFO - Date = 2020-05-06 00:00:00, number of deaths =  240, number of infected = 11\n",
      "2020-06-24 11:28:38,985 - june.simulator - INFO - Date = 2020-05-06 01:00:00, number of deaths =  240, number of infected = 11\n",
      "2020-06-24 11:28:39,655 - june.simulator - INFO - Date = 2020-05-06 05:00:00, number of deaths =  240, number of infected = 10\n",
      "2020-06-24 11:28:39,924 - june.simulator - INFO - Date = 2020-05-06 09:00:00, number of deaths =  240, number of infected = 8\n",
      "2020-06-24 11:28:41,951 - june.simulator - INFO - Date = 2020-05-06 10:00:00, number of deaths =  240, number of infected = 8\n",
      "2020-06-24 11:28:42,207 - june.simulator - INFO - Date = 2020-05-06 13:00:00, number of deaths =  240, number of infected = 8\n",
      "2020-06-24 11:28:42,556 - june.simulator - INFO - Date = 2020-05-07 00:00:00, number of deaths =  240, number of infected = 7\n",
      "2020-06-24 11:28:43,147 - june.simulator - INFO - Date = 2020-05-07 01:00:00, number of deaths =  240, number of infected = 7\n",
      "2020-06-24 11:28:43,733 - june.simulator - INFO - Date = 2020-05-07 05:00:00, number of deaths =  240, number of infected = 5\n",
      "2020-06-24 11:28:43,997 - june.simulator - INFO - Date = 2020-05-07 09:00:00, number of deaths =  240, number of infected = 5\n",
      "2020-06-24 11:28:46,290 - june.simulator - INFO - Date = 2020-05-07 10:00:00, number of deaths =  240, number of infected = 5\n",
      "2020-06-24 11:28:46,623 - june.simulator - INFO - Date = 2020-05-07 13:00:00, number of deaths =  240, number of infected = 5\n",
      "2020-06-24 11:28:46,916 - june.simulator - INFO - Date = 2020-05-08 00:00:00, number of deaths =  240, number of infected = 3\n",
      "2020-06-24 11:28:47,498 - june.simulator - INFO - Date = 2020-05-08 01:00:00, number of deaths =  240, number of infected = 2\n",
      "2020-06-24 11:28:48,105 - june.simulator - INFO - Date = 2020-05-08 05:00:00, number of deaths =  240, number of infected = 2\n",
      "2020-06-24 11:28:48,367 - june.simulator - INFO - Date = 2020-05-08 09:00:00, number of deaths =  240, number of infected = 2\n",
      "2020-06-24 11:28:50,510 - june.simulator - INFO - Date = 2020-05-08 10:00:00, number of deaths =  240, number of infected = 2\n",
      "2020-06-24 11:28:50,822 - june.simulator - INFO - Date = 2020-05-08 13:00:00, number of deaths =  240, number of infected = 2\n",
      "2020-06-24 11:28:53,288 - june.simulator - INFO - Date = 2020-05-09 00:00:00, number of deaths =  240, number of infected = 2\n",
      "2020-06-24 11:28:55,729 - june.simulator - INFO - Date = 2020-05-09 04:00:00, number of deaths =  240, number of infected = 1\n",
      "2020-06-24 11:28:58,135 - june.simulator - INFO - Date = 2020-05-09 08:00:00, number of deaths =  240, number of infected = 1\n",
      "2020-06-24 11:28:58,407 - june.simulator - INFO - Date = 2020-05-09 12:00:00, number of deaths =  240, number of infected = 1\n",
      "2020-06-24 11:29:00,871 - june.simulator - INFO - Date = 2020-05-10 00:00:00, number of deaths =  240, number of infected = 0\n",
      "2020-06-24 11:29:03,275 - june.simulator - INFO - Date = 2020-05-10 04:00:00, number of deaths =  240, number of infected = 0\n",
      "2020-06-24 11:29:05,697 - june.simulator - INFO - Date = 2020-05-10 08:00:00, number of deaths =  240, number of infected = 0\n",
      "2020-06-24 11:29:05,981 - june.simulator - INFO - Date = 2020-05-10 12:00:00, number of deaths =  240, number of infected = 0\n",
      "2020-06-24 11:29:06,276 - june.simulator - INFO - Date = 2020-05-11 00:00:00, number of deaths =  240, number of infected = 0\n",
      "2020-06-24 11:29:06,860 - june.simulator - INFO - Date = 2020-05-11 01:00:00, number of deaths =  240, number of infected = 0\n",
      "2020-06-24 11:29:07,425 - june.simulator - INFO - Date = 2020-05-11 05:00:00, number of deaths =  240, number of infected = 0\n",
      "2020-06-24 11:29:07,692 - june.simulator - INFO - Date = 2020-05-11 09:00:00, number of deaths =  240, number of infected = 0\n",
      "2020-06-24 11:29:09,675 - june.simulator - INFO - Date = 2020-05-11 10:00:00, number of deaths =  240, number of infected = 0\n",
      "2020-06-24 11:29:09,970 - june.simulator - INFO - Date = 2020-05-11 13:00:00, number of deaths =  240, number of infected = 0\n",
      "2020-06-24 11:29:10,249 - june.simulator - INFO - Date = 2020-05-12 00:00:00, number of deaths =  240, number of infected = 0\n",
      "2020-06-24 11:29:10,808 - june.simulator - INFO - Date = 2020-05-12 01:00:00, number of deaths =  240, number of infected = 0\n",
      "2020-06-24 11:29:11,376 - june.simulator - INFO - Date = 2020-05-12 05:00:00, number of deaths =  240, number of infected = 0\n",
      "2020-06-24 11:29:11,653 - june.simulator - INFO - Date = 2020-05-12 09:00:00, number of deaths =  240, number of infected = 0\n",
      "2020-06-24 11:29:13,634 - june.simulator - INFO - Date = 2020-05-12 10:00:00, number of deaths =  240, number of infected = 0\n",
      "2020-06-24 11:29:13,958 - june.simulator - INFO - Date = 2020-05-12 13:00:00, number of deaths =  240, number of infected = 0\n",
      "2020-06-24 11:29:14,286 - june.simulator - INFO - Date = 2020-05-13 00:00:00, number of deaths =  240, number of infected = 0\n",
      "2020-06-24 11:29:14,894 - june.simulator - INFO - Date = 2020-05-13 01:00:00, number of deaths =  240, number of infected = 0\n",
      "2020-06-24 11:29:15,514 - june.simulator - INFO - Date = 2020-05-13 05:00:00, number of deaths =  240, number of infected = 0\n",
      "2020-06-24 11:29:15,781 - june.simulator - INFO - Date = 2020-05-13 09:00:00, number of deaths =  240, number of infected = 0\n",
      "2020-06-24 11:29:17,852 - june.simulator - INFO - Date = 2020-05-13 10:00:00, number of deaths =  240, number of infected = 0\n",
      "2020-06-24 11:29:18,133 - june.simulator - INFO - Date = 2020-05-13 13:00:00, number of deaths =  240, number of infected = 0\n",
      "2020-06-24 11:29:18,410 - june.simulator - INFO - Date = 2020-05-14 00:00:00, number of deaths =  240, number of infected = 0\n",
      "2020-06-24 11:29:19,005 - june.simulator - INFO - Date = 2020-05-14 01:00:00, number of deaths =  240, number of infected = 0\n",
      "2020-06-24 11:29:19,596 - june.simulator - INFO - Date = 2020-05-14 05:00:00, number of deaths =  240, number of infected = 0\n",
      "2020-06-24 11:29:19,866 - june.simulator - INFO - Date = 2020-05-14 09:00:00, number of deaths =  240, number of infected = 0\n",
      "2020-06-24 11:29:21,909 - june.simulator - INFO - Date = 2020-05-14 10:00:00, number of deaths =  240, number of infected = 0\n",
      "2020-06-24 11:29:22,161 - june.simulator - INFO - Date = 2020-05-14 13:00:00, number of deaths =  240, number of infected = 0\n",
      "2020-06-24 11:29:22,440 - june.simulator - INFO - Date = 2020-05-15 00:00:00, number of deaths =  240, number of infected = 0\n",
      "2020-06-24 11:29:23,043 - june.simulator - INFO - Date = 2020-05-15 01:00:00, number of deaths =  240, number of infected = 0\n",
      "2020-06-24 11:29:23,735 - june.simulator - INFO - Date = 2020-05-15 05:00:00, number of deaths =  240, number of infected = 0\n",
      "2020-06-24 11:29:23,998 - june.simulator - INFO - Date = 2020-05-15 09:00:00, number of deaths =  240, number of infected = 0\n",
      "2020-06-24 11:29:26,019 - june.simulator - INFO - Date = 2020-05-15 10:00:00, number of deaths =  240, number of infected = 0\n",
      "2020-06-24 11:29:26,277 - june.simulator - INFO - Date = 2020-05-15 13:00:00, number of deaths =  240, number of infected = 0\n",
      "2020-06-24 11:29:28,714 - june.simulator - INFO - Date = 2020-05-16 00:00:00, number of deaths =  240, number of infected = 0\n",
      "CPU times: user 9min 10s, sys: 1.09 s, total: 9min 11s\n",
      "Wall time: 9min 19s\n"
     ]
    }
   ],
   "source": [
    "%%time\n",
    "simulator.run()"
   ]
  },
  {
   "cell_type": "code",
   "execution_count": 95,
   "metadata": {
    "scrolled": true
   },
   "outputs": [
    {
     "name": "stdout",
     "output_type": "stream",
     "text": [
      "2020-06-24 11:03:43,318 - june.simulator - INFO - Starting group_dynamics for 70 days at day 0\n",
      "2020-06-24 11:03:43,320 - june.simulator - INFO - starting the loop ..., at 0 days, to run for 70 days\n",
      "2020-06-24 11:03:45,212 - june.simulator - INFO - Date = 2020-03-07 04:00:00, number of deaths =  0, number of infected = 50\n",
      "2020-06-24 11:03:47,660 - june.simulator - INFO - Date = 2020-03-07 08:00:00, number of deaths =  0, number of infected = 50\n",
      "2020-06-24 11:03:47,918 - june.simulator - INFO - Date = 2020-03-07 12:00:00, number of deaths =  0, number of infected = 50\n",
      "2020-06-24 11:03:50,191 - june.simulator - INFO - Date = 2020-03-08 00:00:00, number of deaths =  0, number of infected = 50\n",
      "2020-06-24 11:03:52,501 - june.simulator - INFO - Date = 2020-03-08 04:00:00, number of deaths =  0, number of infected = 50\n",
      "2020-06-24 11:03:55,824 - june.simulator - INFO - Date = 2020-03-08 08:00:00, number of deaths =  0, number of infected = 50\n",
      "2020-06-24 11:03:56,043 - june.simulator - INFO - Date = 2020-03-08 12:00:00, number of deaths =  0, number of infected = 50\n",
      "2020-06-24 11:03:56,323 - june.simulator - INFO - Date = 2020-03-09 00:00:00, number of deaths =  0, number of infected = 50\n",
      "2020-06-24 11:03:56,885 - june.simulator - INFO - Date = 2020-03-09 01:00:00, number of deaths =  0, number of infected = 50\n",
      "2020-06-24 11:03:57,427 - june.simulator - INFO - Date = 2020-03-09 05:00:00, number of deaths =  0, number of infected = 50\n",
      "2020-06-24 11:03:57,670 - june.simulator - INFO - Date = 2020-03-09 09:00:00, number of deaths =  0, number of infected = 50\n",
      "2020-06-24 11:03:59,465 - june.simulator - INFO - Date = 2020-03-09 10:00:00, number of deaths =  0, number of infected = 50\n",
      "2020-06-24 11:03:59,682 - june.simulator - INFO - Date = 2020-03-09 13:00:00, number of deaths =  0, number of infected = 50\n",
      "2020-06-24 11:03:59,892 - june.simulator - INFO - Date = 2020-03-10 00:00:00, number of deaths =  0, number of infected = 50\n",
      "2020-06-24 11:04:00,414 - june.simulator - INFO - Date = 2020-03-10 01:00:00, number of deaths =  0, number of infected = 50\n",
      "2020-06-24 11:04:01,055 - june.simulator - INFO - Date = 2020-03-10 05:00:00, number of deaths =  0, number of infected = 50\n",
      "2020-06-24 11:04:01,457 - june.simulator - INFO - Date = 2020-03-10 09:00:00, number of deaths =  0, number of infected = 50\n",
      "2020-06-24 11:04:05,354 - june.simulator - INFO - Date = 2020-03-10 10:00:00, number of deaths =  0, number of infected = 50\n",
      "2020-06-24 11:04:05,836 - june.simulator - INFO - Date = 2020-03-10 13:00:00, number of deaths =  0, number of infected = 50\n",
      "2020-06-24 11:04:06,564 - june.simulator - INFO - Date = 2020-03-11 00:00:00, number of deaths =  0, number of infected = 50\n",
      "2020-06-24 11:04:08,337 - june.simulator - INFO - Date = 2020-03-11 01:00:00, number of deaths =  0, number of infected = 55\n",
      "2020-06-24 11:04:09,787 - june.simulator - INFO - Date = 2020-03-11 05:00:00, number of deaths =  0, number of infected = 88\n",
      "2020-06-24 11:04:10,308 - june.simulator - INFO - Date = 2020-03-11 09:00:00, number of deaths =  0, number of infected = 112\n",
      "2020-06-24 11:04:13,662 - june.simulator - INFO - Date = 2020-03-11 10:00:00, number of deaths =  0, number of infected = 118\n",
      "2020-06-24 11:04:14,081 - june.simulator - INFO - Date = 2020-03-11 13:00:00, number of deaths =  0, number of infected = 149\n",
      "2020-06-24 11:04:14,534 - june.simulator - INFO - Date = 2020-03-12 00:00:00, number of deaths =  0, number of infected = 200\n",
      "2020-06-24 11:04:15,267 - june.simulator - INFO - Date = 2020-03-12 01:00:00, number of deaths =  0, number of infected = 207\n",
      "2020-06-24 11:04:16,338 - june.simulator - INFO - Date = 2020-03-12 05:00:00, number of deaths =  0, number of infected = 254\n",
      "2020-06-24 11:04:16,718 - june.simulator - INFO - Date = 2020-03-12 09:00:00, number of deaths =  0, number of infected = 291\n",
      "2020-06-24 11:04:19,254 - june.simulator - INFO - Date = 2020-03-12 10:00:00, number of deaths =  0, number of infected = 297\n",
      "2020-06-24 11:04:19,616 - june.simulator - INFO - Date = 2020-03-12 13:00:00, number of deaths =  0, number of infected = 319\n",
      "2020-06-24 11:04:19,950 - june.simulator - INFO - Date = 2020-03-13 00:00:00, number of deaths =  0, number of infected = 349\n",
      "2020-06-24 11:04:20,755 - june.simulator - INFO - Date = 2020-03-13 01:00:00, number of deaths =  0, number of infected = 350\n",
      "2020-06-24 11:04:21,547 - june.simulator - INFO - Date = 2020-03-13 05:00:00, number of deaths =  0, number of infected = 407\n",
      "2020-06-24 11:04:21,927 - june.simulator - INFO - Date = 2020-03-13 09:00:00, number of deaths =  0, number of infected = 464\n",
      "2020-06-24 11:04:24,450 - june.simulator - INFO - Date = 2020-03-13 10:00:00, number of deaths =  0, number of infected = 469\n",
      "2020-06-24 11:04:24,735 - june.simulator - INFO - Date = 2020-03-13 13:00:00, number of deaths =  0, number of infected = 495\n",
      "2020-06-24 11:04:27,350 - june.simulator - INFO - Date = 2020-03-14 00:00:00, number of deaths =  0, number of infected = 520\n",
      "2020-06-24 11:04:30,200 - june.simulator - INFO - Date = 2020-03-14 04:00:00, number of deaths =  0, number of infected = 610\n",
      "2020-06-24 11:04:33,710 - june.simulator - INFO - Date = 2020-03-14 08:00:00, number of deaths =  0, number of infected = 679\n",
      "2020-06-24 11:04:34,049 - june.simulator - INFO - Date = 2020-03-14 12:00:00, number of deaths =  0, number of infected = 764\n",
      "2020-06-24 11:04:37,347 - june.simulator - INFO - Date = 2020-03-15 00:00:00, number of deaths =  0, number of infected = 853\n",
      "2020-06-24 11:04:40,851 - june.simulator - INFO - Date = 2020-03-15 04:00:00, number of deaths =  0, number of infected = 973\n",
      "2020-06-24 11:04:44,118 - june.simulator - INFO - Date = 2020-03-15 08:00:00, number of deaths =  0, number of infected = 1134\n",
      "2020-06-24 11:04:44,410 - june.simulator - INFO - Date = 2020-03-15 12:00:00, number of deaths =  0, number of infected = 1296\n",
      "2020-06-24 11:04:44,727 - june.simulator - INFO - Date = 2020-03-16 00:00:00, number of deaths =  0, number of infected = 1500\n",
      "2020-06-24 11:04:45,330 - june.simulator - INFO - Date = 2020-03-16 01:00:00, number of deaths =  0, number of infected = 1524\n",
      "2020-06-24 11:04:46,127 - june.simulator - INFO - Date = 2020-03-16 05:00:00, number of deaths =  0, number of infected = 2046\n",
      "2020-06-24 11:04:46,688 - june.simulator - INFO - Date = 2020-03-16 09:00:00, number of deaths =  0, number of infected = 2469\n",
      "2020-06-24 11:04:50,168 - june.simulator - INFO - Date = 2020-03-16 10:00:00, number of deaths =  0, number of infected = 2513\n",
      "2020-06-24 11:04:51,224 - june.simulator - INFO - Date = 2020-03-16 13:00:00, number of deaths =  0, number of infected = 2717\n",
      "2020-06-24 11:04:51,861 - june.simulator - INFO - Date = 2020-03-17 00:00:00, number of deaths =  0, number of infected = 2979\n",
      "2020-06-24 11:04:52,936 - june.simulator - INFO - Date = 2020-03-17 01:00:00, number of deaths =  0, number of infected = 3030\n",
      "2020-06-24 11:04:54,623 - june.simulator - INFO - Date = 2020-03-17 05:00:00, number of deaths =  0, number of infected = 3661\n",
      "2020-06-24 11:04:56,050 - june.simulator - INFO - Date = 2020-03-17 09:00:00, number of deaths =  0, number of infected = 4435\n",
      "2020-06-24 11:04:58,293 - june.simulator - INFO - Date = 2020-03-17 10:00:00, number of deaths =  0, number of infected = 4483\n",
      "2020-06-24 11:04:58,731 - june.simulator - INFO - Date = 2020-03-17 13:00:00, number of deaths =  0, number of infected = 4759\n",
      "2020-06-24 11:04:59,216 - june.simulator - INFO - Date = 2020-03-18 00:00:00, number of deaths =  0, number of infected = 5131\n",
      "2020-06-24 11:05:00,018 - june.simulator - INFO - Date = 2020-03-18 01:00:00, number of deaths =  0, number of infected = 5177\n",
      "2020-06-24 11:05:02,218 - june.simulator - INFO - Date = 2020-03-18 05:00:00, number of deaths =  0, number of infected = 6076\n",
      "2020-06-24 11:05:04,403 - june.simulator - INFO - Date = 2020-03-18 09:00:00, number of deaths =  0, number of infected = 7081\n",
      "2020-06-24 11:05:06,595 - june.simulator - INFO - Date = 2020-03-18 10:00:00, number of deaths =  0, number of infected = 7159\n",
      "2020-06-24 11:05:07,031 - june.simulator - INFO - Date = 2020-03-18 13:00:00, number of deaths =  0, number of infected = 7614\n",
      "2020-06-24 11:05:07,533 - june.simulator - INFO - Date = 2020-03-19 00:00:00, number of deaths =  0, number of infected = 8120\n",
      "2020-06-24 11:05:08,355 - june.simulator - INFO - Date = 2020-03-19 01:00:00, number of deaths =  0, number of infected = 8243\n",
      "2020-06-24 11:05:13,351 - june.simulator - INFO - Date = 2020-03-19 05:00:00, number of deaths =  0, number of infected = 10006\n",
      "2020-06-24 11:05:18,510 - june.simulator - INFO - Date = 2020-03-19 09:00:00, number of deaths =  0, number of infected = 11609\n",
      "2020-06-24 11:05:20,684 - june.simulator - INFO - Date = 2020-03-19 10:00:00, number of deaths =  0, number of infected = 11742\n",
      "2020-06-24 11:05:21,255 - june.simulator - INFO - Date = 2020-03-19 13:00:00, number of deaths =  0, number of infected = 12489\n",
      "2020-06-24 11:05:21,892 - june.simulator - INFO - Date = 2020-03-20 00:00:00, number of deaths =  0, number of infected = 13518\n",
      "2020-06-24 11:05:22,875 - june.simulator - INFO - Date = 2020-03-20 01:00:00, number of deaths =  0, number of infected = 13666\n",
      "2020-06-24 11:05:33,652 - june.simulator - INFO - Date = 2020-03-20 05:00:00, number of deaths =  0, number of infected = 15863\n",
      "2020-06-24 11:05:43,018 - june.simulator - INFO - Date = 2020-03-20 09:00:00, number of deaths =  0, number of infected = 17794\n",
      "2020-06-24 11:05:45,201 - june.simulator - INFO - Date = 2020-03-20 10:00:00, number of deaths =  0, number of infected = 17991\n",
      "2020-06-24 11:05:45,854 - june.simulator - INFO - Date = 2020-03-20 13:00:00, number of deaths =  0, number of infected = 18929\n",
      "2020-06-24 11:05:48,612 - june.simulator - INFO - Date = 2020-03-21 00:00:00, number of deaths =  0, number of infected = 20044\n",
      "2020-06-24 11:05:51,409 - june.simulator - INFO - Date = 2020-03-21 04:00:00, number of deaths =  0, number of infected = 21554\n",
      "2020-06-24 11:05:54,209 - june.simulator - INFO - Date = 2020-03-21 08:00:00, number of deaths =  0, number of infected = 23014\n",
      "2020-06-24 11:05:54,968 - june.simulator - INFO - Date = 2020-03-21 12:00:00, number of deaths =  0, number of infected = 24540\n",
      "2020-06-24 11:05:58,077 - june.simulator - INFO - Date = 2020-03-22 00:00:00, number of deaths =  0, number of infected = 25501\n",
      "2020-06-24 11:06:00,898 - june.simulator - INFO - Date = 2020-03-22 04:00:00, number of deaths =  0, number of infected = 27123\n",
      "2020-06-24 11:06:03,748 - june.simulator - INFO - Date = 2020-03-22 08:00:00, number of deaths =  0, number of infected = 28710\n",
      "2020-06-24 11:06:04,600 - june.simulator - INFO - Date = 2020-03-22 12:00:00, number of deaths =  0, number of infected = 30210\n",
      "2020-06-24 11:06:05,352 - june.simulator - INFO - Date = 2020-03-23 00:00:00, number of deaths =  0, number of infected = 31151\n",
      "2020-06-24 11:06:06,333 - june.simulator - INFO - Date = 2020-03-23 01:00:00, number of deaths =  0, number of infected = 31317\n",
      "2020-06-24 11:06:13,518 - june.simulator - INFO - Date = 2020-03-23 05:00:00, number of deaths =  0, number of infected = 33546\n",
      "2020-06-24 11:06:15,931 - june.simulator - INFO - Date = 2020-03-23 09:00:00, number of deaths =  0, number of infected = 34931\n",
      "2020-06-24 11:06:18,093 - june.simulator - INFO - Date = 2020-03-23 10:00:00, number of deaths =  0, number of infected = 35104\n",
      "2020-06-24 11:06:18,884 - june.simulator - INFO - Date = 2020-03-23 13:00:00, number of deaths =  0, number of infected = 35977\n",
      "2020-06-24 11:06:19,669 - june.simulator - INFO - Date = 2020-03-24 00:00:00, number of deaths =  0, number of infected = 36680\n",
      "2020-06-24 11:06:20,658 - june.simulator - INFO - Date = 2020-03-24 01:00:00, number of deaths =  0, number of infected = 36782\n",
      "2020-06-24 11:06:22,037 - june.simulator - INFO - Date = 2020-03-24 05:00:00, number of deaths =  0, number of infected = 38128\n",
      "2020-06-24 11:06:22,920 - june.simulator - INFO - Date = 2020-03-24 09:00:00, number of deaths =  0, number of infected = 39174\n",
      "2020-06-24 11:06:25,000 - june.simulator - INFO - Date = 2020-03-24 10:00:00, number of deaths =  0, number of infected = 39280\n",
      "2020-06-24 11:06:25,763 - june.simulator - INFO - Date = 2020-03-24 13:00:00, number of deaths =  0, number of infected = 40007\n",
      "2020-06-24 11:06:26,500 - june.simulator - INFO - Date = 2020-03-25 00:00:00, number of deaths =  0, number of infected = 40384\n",
      "2020-06-24 11:06:27,491 - june.simulator - INFO - Date = 2020-03-25 01:00:00, number of deaths =  0, number of infected = 40450\n",
      "2020-06-24 11:06:28,862 - june.simulator - INFO - Date = 2020-03-25 05:00:00, number of deaths =  0, number of infected = 41045\n",
      "2020-06-24 11:06:30,153 - june.simulator - INFO - Date = 2020-03-25 09:00:00, number of deaths =  0, number of infected = 41616\n",
      "2020-06-24 11:06:32,773 - june.simulator - INFO - Date = 2020-03-25 10:00:00, number of deaths =  0, number of infected = 41706\n",
      "2020-06-24 11:06:33,666 - june.simulator - INFO - Date = 2020-03-25 13:00:00, number of deaths =  0, number of infected = 42111\n",
      "2020-06-24 11:06:34,355 - june.simulator - INFO - Date = 2020-03-26 00:00:00, number of deaths =  3, number of infected = 42464\n",
      "2020-06-24 11:06:35,351 - june.simulator - INFO - Date = 2020-03-26 01:00:00, number of deaths =  3, number of infected = 42512\n",
      "2020-06-24 11:06:36,495 - june.simulator - INFO - Date = 2020-03-26 05:00:00, number of deaths =  3, number of infected = 43019\n",
      "2020-06-24 11:06:37,411 - june.simulator - INFO - Date = 2020-03-26 09:00:00, number of deaths =  3, number of infected = 43401\n",
      "2020-06-24 11:06:39,924 - june.simulator - INFO - Date = 2020-03-26 10:00:00, number of deaths =  3, number of infected = 43477\n",
      "2020-06-24 11:06:40,664 - june.simulator - INFO - Date = 2020-03-26 13:00:00, number of deaths =  3, number of infected = 43805\n",
      "2020-06-24 11:06:41,422 - june.simulator - INFO - Date = 2020-03-27 00:00:00, number of deaths =  3, number of infected = 44055\n",
      "2020-06-24 11:06:42,387 - june.simulator - INFO - Date = 2020-03-27 01:00:00, number of deaths =  3, number of infected = 44097\n",
      "2020-06-24 11:06:43,907 - june.simulator - INFO - Date = 2020-03-27 05:00:00, number of deaths =  3, number of infected = 44367\n",
      "2020-06-24 11:06:45,705 - june.simulator - INFO - Date = 2020-03-27 09:00:00, number of deaths =  3, number of infected = 44606\n",
      "2020-06-24 11:06:48,640 - june.simulator - INFO - Date = 2020-03-27 10:00:00, number of deaths =  3, number of infected = 44633\n",
      "2020-06-24 11:06:49,753 - june.simulator - INFO - Date = 2020-03-27 13:00:00, number of deaths =  3, number of infected = 44843\n",
      "2020-06-24 11:06:52,357 - june.simulator - INFO - Date = 2020-03-28 00:00:00, number of deaths =  3, number of infected = 44974\n",
      "2020-06-24 11:06:54,753 - june.simulator - INFO - Date = 2020-03-28 04:00:00, number of deaths =  3, number of infected = 45218\n",
      "2020-06-24 11:06:57,891 - june.simulator - INFO - Date = 2020-03-28 08:00:00, number of deaths =  3, number of infected = 45390\n",
      "2020-06-24 11:06:58,886 - june.simulator - INFO - Date = 2020-03-28 12:00:00, number of deaths =  3, number of infected = 45584\n",
      "2020-06-24 11:07:02,165 - june.simulator - INFO - Date = 2020-03-29 00:00:00, number of deaths =  4, number of infected = 45617\n",
      "2020-06-24 11:07:06,227 - june.simulator - INFO - Date = 2020-03-29 04:00:00, number of deaths =  5, number of infected = 45760\n",
      "2020-06-24 11:07:09,192 - june.simulator - INFO - Date = 2020-03-29 08:00:00, number of deaths =  5, number of infected = 45875\n",
      "2020-06-24 11:07:10,143 - june.simulator - INFO - Date = 2020-03-29 12:00:00, number of deaths =  5, number of infected = 45975\n",
      "2020-06-24 11:07:11,064 - june.simulator - INFO - Date = 2020-03-30 00:00:00, number of deaths =  5, number of infected = 45974\n",
      "2020-06-24 11:07:12,302 - june.simulator - INFO - Date = 2020-03-30 01:00:00, number of deaths =  5, number of infected = 45974\n",
      "2020-06-24 11:07:13,696 - june.simulator - INFO - Date = 2020-03-30 05:00:00, number of deaths =  5, number of infected = 46033\n",
      "2020-06-24 11:07:14,698 - june.simulator - INFO - Date = 2020-03-30 09:00:00, number of deaths =  5, number of infected = 46077\n",
      "2020-06-24 11:07:17,166 - june.simulator - INFO - Date = 2020-03-30 10:00:00, number of deaths =  6, number of infected = 46077\n",
      "2020-06-24 11:07:18,454 - june.simulator - INFO - Date = 2020-03-30 13:00:00, number of deaths =  7, number of infected = 46119\n",
      "2020-06-24 11:07:19,701 - june.simulator - INFO - Date = 2020-03-31 00:00:00, number of deaths =  9, number of infected = 46074\n",
      "2020-06-24 11:07:21,184 - june.simulator - INFO - Date = 2020-03-31 01:00:00, number of deaths =  9, number of infected = 46072\n",
      "2020-06-24 11:07:22,498 - june.simulator - INFO - Date = 2020-03-31 05:00:00, number of deaths =  9, number of infected = 46104\n",
      "2020-06-24 11:07:23,397 - june.simulator - INFO - Date = 2020-03-31 09:00:00, number of deaths =  9, number of infected = 46124\n",
      "2020-06-24 11:07:25,535 - june.simulator - INFO - Date = 2020-03-31 10:00:00, number of deaths =  9, number of infected = 46119\n",
      "2020-06-24 11:07:26,551 - june.simulator - INFO - Date = 2020-03-31 13:00:00, number of deaths =  9, number of infected = 46127\n",
      "2020-06-24 11:07:27,577 - june.simulator - INFO - Date = 2020-04-01 00:00:00, number of deaths =  9, number of infected = 46063\n",
      "2020-06-24 11:07:28,903 - june.simulator - INFO - Date = 2020-04-01 01:00:00, number of deaths =  9, number of infected = 46051\n",
      "2020-06-24 11:07:30,386 - june.simulator - INFO - Date = 2020-04-01 05:00:00, number of deaths =  9, number of infected = 46069\n",
      "2020-06-24 11:07:31,364 - june.simulator - INFO - Date = 2020-04-01 09:00:00, number of deaths =  10, number of infected = 46040\n",
      "2020-06-24 11:07:33,530 - june.simulator - INFO - Date = 2020-04-01 10:00:00, number of deaths =  10, number of infected = 46029\n",
      "2020-06-24 11:07:34,466 - june.simulator - INFO - Date = 2020-04-01 13:00:00, number of deaths =  12, number of infected = 46021\n",
      "2020-06-24 11:07:35,351 - june.simulator - INFO - Date = 2020-04-02 00:00:00, number of deaths =  15, number of infected = 45870\n",
      "2020-06-24 11:07:36,570 - june.simulator - INFO - Date = 2020-04-02 01:00:00, number of deaths =  15, number of infected = 45855\n",
      "2020-06-24 11:07:37,763 - june.simulator - INFO - Date = 2020-04-02 05:00:00, number of deaths =  15, number of infected = 45811\n",
      "2020-06-24 11:07:38,731 - june.simulator - INFO - Date = 2020-04-02 09:00:00, number of deaths =  15, number of infected = 45759\n",
      "2020-06-24 11:07:40,879 - june.simulator - INFO - Date = 2020-04-02 10:00:00, number of deaths =  15, number of infected = 45743\n",
      "2020-06-24 11:07:41,800 - june.simulator - INFO - Date = 2020-04-02 13:00:00, number of deaths =  17, number of infected = 45686\n",
      "2020-06-24 11:07:42,706 - june.simulator - INFO - Date = 2020-04-03 00:00:00, number of deaths =  19, number of infected = 45415\n",
      "2020-06-24 11:07:44,060 - june.simulator - INFO - Date = 2020-04-03 01:00:00, number of deaths =  19, number of infected = 45383\n",
      "2020-06-24 11:07:45,253 - june.simulator - INFO - Date = 2020-04-03 05:00:00, number of deaths =  20, number of infected = 45271\n",
      "2020-06-24 11:07:46,199 - june.simulator - INFO - Date = 2020-04-03 09:00:00, number of deaths =  22, number of infected = 45159\n",
      "2020-06-24 11:07:48,434 - june.simulator - INFO - Date = 2020-04-03 10:00:00, number of deaths =  22, number of infected = 45136\n",
      "2020-06-24 11:07:49,378 - june.simulator - INFO - Date = 2020-04-03 13:00:00, number of deaths =  23, number of infected = 45052\n",
      "2020-06-24 11:07:51,963 - june.simulator - INFO - Date = 2020-04-04 00:00:00, number of deaths =  29, number of infected = 44601\n",
      "2020-06-24 11:07:54,263 - june.simulator - INFO - Date = 2020-04-04 04:00:00, number of deaths =  30, number of infected = 44449\n",
      "2020-06-24 11:07:56,574 - june.simulator - INFO - Date = 2020-04-04 08:00:00, number of deaths =  31, number of infected = 44290\n",
      "2020-06-24 11:07:57,452 - june.simulator - INFO - Date = 2020-04-04 12:00:00, number of deaths =  35, number of infected = 44108\n",
      "2020-06-24 11:07:59,792 - june.simulator - INFO - Date = 2020-04-05 00:00:00, number of deaths =  40, number of infected = 43463\n",
      "2020-06-24 11:08:02,082 - june.simulator - INFO - Date = 2020-04-05 04:00:00, number of deaths =  41, number of infected = 43237\n",
      "2020-06-24 11:08:04,485 - june.simulator - INFO - Date = 2020-04-05 08:00:00, number of deaths =  41, number of infected = 42961\n",
      "2020-06-24 11:08:05,313 - june.simulator - INFO - Date = 2020-04-05 12:00:00, number of deaths =  42, number of infected = 42701\n",
      "2020-06-24 11:08:06,197 - june.simulator - INFO - Date = 2020-04-06 00:00:00, number of deaths =  43, number of infected = 41891\n",
      "2020-06-24 11:08:07,268 - june.simulator - INFO - Date = 2020-04-06 01:00:00, number of deaths =  44, number of infected = 41827\n",
      "2020-06-24 11:08:08,377 - june.simulator - INFO - Date = 2020-04-06 05:00:00, number of deaths =  44, number of infected = 41542\n",
      "2020-06-24 11:08:09,412 - june.simulator - INFO - Date = 2020-04-06 09:00:00, number of deaths =  47, number of infected = 41215\n",
      "2020-06-24 11:08:11,463 - june.simulator - INFO - Date = 2020-04-06 10:00:00, number of deaths =  47, number of infected = 41144\n",
      "2020-06-24 11:08:12,335 - june.simulator - INFO - Date = 2020-04-06 13:00:00, number of deaths =  49, number of infected = 40918\n",
      "2020-06-24 11:08:13,162 - june.simulator - INFO - Date = 2020-04-07 00:00:00, number of deaths =  56, number of infected = 39947\n",
      "2020-06-24 11:08:14,244 - june.simulator - INFO - Date = 2020-04-07 01:00:00, number of deaths =  56, number of infected = 39873\n",
      "2020-06-24 11:08:15,327 - june.simulator - INFO - Date = 2020-04-07 05:00:00, number of deaths =  56, number of infected = 39502\n",
      "2020-06-24 11:08:16,163 - june.simulator - INFO - Date = 2020-04-07 09:00:00, number of deaths =  56, number of infected = 39158\n",
      "2020-06-24 11:08:18,147 - june.simulator - INFO - Date = 2020-04-07 10:00:00, number of deaths =  58, number of infected = 39055\n",
      "2020-06-24 11:08:18,931 - june.simulator - INFO - Date = 2020-04-07 13:00:00, number of deaths =  59, number of infected = 38752\n",
      "2020-06-24 11:08:19,700 - june.simulator - INFO - Date = 2020-04-08 00:00:00, number of deaths =  63, number of infected = 37696\n",
      "2020-06-24 11:08:20,726 - june.simulator - INFO - Date = 2020-04-08 01:00:00, number of deaths =  63, number of infected = 37611\n",
      "2020-06-24 11:08:21,818 - june.simulator - INFO - Date = 2020-04-08 05:00:00, number of deaths =  64, number of infected = 37240\n",
      "2020-06-24 11:08:22,566 - june.simulator - INFO - Date = 2020-04-08 09:00:00, number of deaths =  64, number of infected = 36851\n",
      "2020-06-24 11:08:24,382 - june.simulator - INFO - Date = 2020-04-08 10:00:00, number of deaths =  64, number of infected = 36749\n",
      "2020-06-24 11:08:25,140 - june.simulator - INFO - Date = 2020-04-08 13:00:00, number of deaths =  65, number of infected = 36440\n",
      "2020-06-24 11:08:25,894 - june.simulator - INFO - Date = 2020-04-09 00:00:00, number of deaths =  69, number of infected = 35287\n",
      "2020-06-24 11:08:26,829 - june.simulator - INFO - Date = 2020-04-09 01:00:00, number of deaths =  71, number of infected = 35182\n",
      "2020-06-24 11:08:27,795 - june.simulator - INFO - Date = 2020-04-09 05:00:00, number of deaths =  74, number of infected = 34755\n",
      "2020-06-24 11:08:28,532 - june.simulator - INFO - Date = 2020-04-09 09:00:00, number of deaths =  77, number of infected = 34338\n",
      "2020-06-24 11:08:30,406 - june.simulator - INFO - Date = 2020-04-09 10:00:00, number of deaths =  77, number of infected = 34225\n",
      "2020-06-24 11:08:31,164 - june.simulator - INFO - Date = 2020-04-09 13:00:00, number of deaths =  77, number of infected = 33924\n",
      "2020-06-24 11:08:31,917 - june.simulator - INFO - Date = 2020-04-10 00:00:00, number of deaths =  84, number of infected = 32789\n",
      "2020-06-24 11:08:32,851 - june.simulator - INFO - Date = 2020-04-10 01:00:00, number of deaths =  84, number of infected = 32669\n",
      "2020-06-24 11:08:33,812 - june.simulator - INFO - Date = 2020-04-10 05:00:00, number of deaths =  84, number of infected = 32235\n",
      "2020-06-24 11:08:34,487 - june.simulator - INFO - Date = 2020-04-10 09:00:00, number of deaths =  86, number of infected = 31821\n",
      "2020-06-24 11:08:36,298 - june.simulator - INFO - Date = 2020-04-10 10:00:00, number of deaths =  87, number of infected = 31715\n",
      "2020-06-24 11:08:37,014 - june.simulator - INFO - Date = 2020-04-10 13:00:00, number of deaths =  89, number of infected = 31369\n",
      "2020-06-24 11:08:39,211 - june.simulator - INFO - Date = 2020-04-11 00:00:00, number of deaths =  93, number of infected = 30167\n",
      "2020-06-24 11:08:41,544 - june.simulator - INFO - Date = 2020-04-11 04:00:00, number of deaths =  94, number of infected = 29732\n",
      "2020-06-24 11:08:43,847 - june.simulator - INFO - Date = 2020-04-11 08:00:00, number of deaths =  94, number of infected = 29310\n",
      "2020-06-24 11:08:44,478 - june.simulator - INFO - Date = 2020-04-11 12:00:00, number of deaths =  96, number of infected = 28868\n",
      "2020-06-24 11:08:46,726 - june.simulator - INFO - Date = 2020-04-12 00:00:00, number of deaths =  100, number of infected = 27554\n",
      "2020-06-24 11:08:49,054 - june.simulator - INFO - Date = 2020-04-12 04:00:00, number of deaths =  101, number of infected = 27132\n",
      "2020-06-24 11:08:51,440 - june.simulator - INFO - Date = 2020-04-12 08:00:00, number of deaths =  105, number of infected = 26658\n",
      "2020-06-24 11:08:52,076 - june.simulator - INFO - Date = 2020-04-12 12:00:00, number of deaths =  106, number of infected = 26205\n",
      "2020-06-24 11:08:52,746 - june.simulator - INFO - Date = 2020-04-13 00:00:00, number of deaths =  111, number of infected = 24884\n",
      "2020-06-24 11:08:53,688 - june.simulator - INFO - Date = 2020-04-13 01:00:00, number of deaths =  111, number of infected = 24778\n",
      "2020-06-24 11:08:54,562 - june.simulator - INFO - Date = 2020-04-13 05:00:00, number of deaths =  111, number of infected = 24307\n",
      "2020-06-24 11:08:55,165 - june.simulator - INFO - Date = 2020-04-13 09:00:00, number of deaths =  111, number of infected = 23851\n",
      "2020-06-24 11:08:57,036 - june.simulator - INFO - Date = 2020-04-13 10:00:00, number of deaths =  111, number of infected = 23720\n",
      "2020-06-24 11:08:57,678 - june.simulator - INFO - Date = 2020-04-13 13:00:00, number of deaths =  113, number of infected = 23380\n",
      "2020-06-24 11:08:58,386 - june.simulator - INFO - Date = 2020-04-14 00:00:00, number of deaths =  116, number of infected = 22102\n",
      "2020-06-24 11:08:59,257 - june.simulator - INFO - Date = 2020-04-14 01:00:00, number of deaths =  116, number of infected = 21993\n",
      "2020-06-24 11:09:00,160 - june.simulator - INFO - Date = 2020-04-14 05:00:00, number of deaths =  116, number of infected = 21512\n",
      "2020-06-24 11:09:00,781 - june.simulator - INFO - Date = 2020-04-14 09:00:00, number of deaths =  117, number of infected = 21054\n",
      "2020-06-24 11:09:02,795 - june.simulator - INFO - Date = 2020-04-14 10:00:00, number of deaths =  117, number of infected = 20941\n",
      "2020-06-24 11:09:03,346 - june.simulator - INFO - Date = 2020-04-14 13:00:00, number of deaths =  117, number of infected = 20594\n",
      "2020-06-24 11:09:03,898 - june.simulator - INFO - Date = 2020-04-15 00:00:00, number of deaths =  120, number of infected = 19358\n",
      "2020-06-24 11:09:04,677 - june.simulator - INFO - Date = 2020-04-15 01:00:00, number of deaths =  120, number of infected = 19283\n",
      "2020-06-24 11:09:05,512 - june.simulator - INFO - Date = 2020-04-15 05:00:00, number of deaths =  123, number of infected = 18803\n",
      "2020-06-24 11:09:06,044 - june.simulator - INFO - Date = 2020-04-15 09:00:00, number of deaths =  126, number of infected = 18338\n",
      "2020-06-24 11:09:08,237 - june.simulator - INFO - Date = 2020-04-15 10:00:00, number of deaths =  127, number of infected = 18216\n",
      "2020-06-24 11:09:08,781 - june.simulator - INFO - Date = 2020-04-15 13:00:00, number of deaths =  129, number of infected = 17876\n",
      "2020-06-24 11:09:09,327 - june.simulator - INFO - Date = 2020-04-16 00:00:00, number of deaths =  131, number of infected = 16591\n",
      "2020-06-24 11:09:10,095 - june.simulator - INFO - Date = 2020-04-16 01:00:00, number of deaths =  131, number of infected = 16479\n",
      "2020-06-24 11:09:10,826 - june.simulator - INFO - Date = 2020-04-16 05:00:00, number of deaths =  134, number of infected = 16034\n",
      "2020-06-24 11:09:11,329 - june.simulator - INFO - Date = 2020-04-16 09:00:00, number of deaths =  136, number of infected = 15616\n",
      "2020-06-24 11:09:13,438 - june.simulator - INFO - Date = 2020-04-16 10:00:00, number of deaths =  136, number of infected = 15507\n",
      "2020-06-24 11:09:13,891 - june.simulator - INFO - Date = 2020-04-16 13:00:00, number of deaths =  138, number of infected = 15180\n",
      "2020-06-24 11:09:14,377 - june.simulator - INFO - Date = 2020-04-17 00:00:00, number of deaths =  146, number of infected = 13984\n",
      "2020-06-24 11:09:15,192 - june.simulator - INFO - Date = 2020-04-17 01:00:00, number of deaths =  146, number of infected = 13893\n",
      "2020-06-24 11:09:15,970 - june.simulator - INFO - Date = 2020-04-17 05:00:00, number of deaths =  147, number of infected = 13500\n",
      "2020-06-24 11:09:16,435 - june.simulator - INFO - Date = 2020-04-17 09:00:00, number of deaths =  148, number of infected = 13029\n",
      "2020-06-24 11:09:18,581 - june.simulator - INFO - Date = 2020-04-17 10:00:00, number of deaths =  149, number of infected = 12929\n",
      "2020-06-24 11:09:18,987 - june.simulator - INFO - Date = 2020-04-17 13:00:00, number of deaths =  151, number of infected = 12634\n",
      "2020-06-24 11:09:21,569 - june.simulator - INFO - Date = 2020-04-18 00:00:00, number of deaths =  152, number of infected = 11538\n",
      "2020-06-24 11:09:24,246 - june.simulator - INFO - Date = 2020-04-18 04:00:00, number of deaths =  153, number of infected = 11160\n",
      "2020-06-24 11:09:27,041 - june.simulator - INFO - Date = 2020-04-18 08:00:00, number of deaths =  154, number of infected = 10798\n",
      "2020-06-24 11:09:27,446 - june.simulator - INFO - Date = 2020-04-18 12:00:00, number of deaths =  154, number of infected = 10435\n",
      "2020-06-24 11:09:30,306 - june.simulator - INFO - Date = 2020-04-19 00:00:00, number of deaths =  155, number of infected = 9351\n",
      "2020-06-24 11:09:33,213 - june.simulator - INFO - Date = 2020-04-19 04:00:00, number of deaths =  156, number of infected = 8988\n",
      "2020-06-24 11:09:36,204 - june.simulator - INFO - Date = 2020-04-19 08:00:00, number of deaths =  157, number of infected = 8629\n",
      "2020-06-24 11:09:36,551 - june.simulator - INFO - Date = 2020-04-19 12:00:00, number of deaths =  157, number of infected = 8316\n",
      "2020-06-24 11:09:36,995 - june.simulator - INFO - Date = 2020-04-20 00:00:00, number of deaths =  159, number of infected = 7339\n",
      "2020-06-24 11:09:37,753 - june.simulator - INFO - Date = 2020-04-20 01:00:00, number of deaths =  159, number of infected = 7251\n",
      "2020-06-24 11:09:38,533 - june.simulator - INFO - Date = 2020-04-20 05:00:00, number of deaths =  159, number of infected = 6941\n",
      "2020-06-24 11:09:38,940 - june.simulator - INFO - Date = 2020-04-20 09:00:00, number of deaths =  159, number of infected = 6641\n",
      "2020-06-24 11:09:41,458 - june.simulator - INFO - Date = 2020-04-20 10:00:00, number of deaths =  160, number of infected = 6568\n",
      "2020-06-24 11:09:41,819 - june.simulator - INFO - Date = 2020-04-20 13:00:00, number of deaths =  161, number of infected = 6371\n",
      "2020-06-24 11:09:42,212 - june.simulator - INFO - Date = 2020-04-21 00:00:00, number of deaths =  162, number of infected = 5562\n",
      "2020-06-24 11:09:42,920 - june.simulator - INFO - Date = 2020-04-21 01:00:00, number of deaths =  162, number of infected = 5500\n",
      "2020-06-24 11:09:43,643 - june.simulator - INFO - Date = 2020-04-21 05:00:00, number of deaths =  164, number of infected = 5238\n",
      "2020-06-24 11:09:44,013 - june.simulator - INFO - Date = 2020-04-21 09:00:00, number of deaths =  164, number of infected = 5005\n",
      "2020-06-24 11:09:46,420 - june.simulator - INFO - Date = 2020-04-21 10:00:00, number of deaths =  164, number of infected = 4948\n",
      "2020-06-24 11:09:46,720 - june.simulator - INFO - Date = 2020-04-21 13:00:00, number of deaths =  164, number of infected = 4797\n",
      "2020-06-24 11:09:47,048 - june.simulator - INFO - Date = 2020-04-22 00:00:00, number of deaths =  166, number of infected = 4153\n",
      "2020-06-24 11:09:47,696 - june.simulator - INFO - Date = 2020-04-22 01:00:00, number of deaths =  166, number of infected = 4099\n",
      "2020-06-24 11:09:48,396 - june.simulator - INFO - Date = 2020-04-22 05:00:00, number of deaths =  166, number of infected = 3866\n",
      "2020-06-24 11:09:48,713 - june.simulator - INFO - Date = 2020-04-22 09:00:00, number of deaths =  168, number of infected = 3670\n",
      "2020-06-24 11:09:51,380 - june.simulator - INFO - Date = 2020-04-22 10:00:00, number of deaths =  168, number of infected = 3619\n",
      "2020-06-24 11:09:51,663 - june.simulator - INFO - Date = 2020-04-22 13:00:00, number of deaths =  168, number of infected = 3457\n",
      "2020-06-24 11:09:51,971 - june.simulator - INFO - Date = 2020-04-23 00:00:00, number of deaths =  169, number of infected = 3001\n",
      "2020-06-24 11:09:52,675 - june.simulator - INFO - Date = 2020-04-23 01:00:00, number of deaths =  169, number of infected = 2955\n",
      "2020-06-24 11:09:53,370 - june.simulator - INFO - Date = 2020-04-23 05:00:00, number of deaths =  169, number of infected = 2805\n",
      "2020-06-24 11:09:53,697 - june.simulator - INFO - Date = 2020-04-23 09:00:00, number of deaths =  169, number of infected = 2668\n",
      "2020-06-24 11:09:56,178 - june.simulator - INFO - Date = 2020-04-23 10:00:00, number of deaths =  169, number of infected = 2636\n",
      "2020-06-24 11:09:56,442 - june.simulator - INFO - Date = 2020-04-23 13:00:00, number of deaths =  169, number of infected = 2519\n",
      "2020-06-24 11:09:56,749 - june.simulator - INFO - Date = 2020-04-24 00:00:00, number of deaths =  173, number of infected = 2133\n",
      "2020-06-24 11:09:57,367 - june.simulator - INFO - Date = 2020-04-24 01:00:00, number of deaths =  173, number of infected = 2109\n",
      "2020-06-24 11:09:58,114 - june.simulator - INFO - Date = 2020-04-24 05:00:00, number of deaths =  173, number of infected = 2008\n",
      "2020-06-24 11:09:58,451 - june.simulator - INFO - Date = 2020-04-24 09:00:00, number of deaths =  173, number of infected = 1893\n",
      "2020-06-24 11:10:01,108 - june.simulator - INFO - Date = 2020-04-24 10:00:00, number of deaths =  173, number of infected = 1865\n",
      "2020-06-24 11:10:01,369 - june.simulator - INFO - Date = 2020-04-24 13:00:00, number of deaths =  174, number of infected = 1785\n",
      "2020-06-24 11:10:04,661 - june.simulator - INFO - Date = 2020-04-25 00:00:00, number of deaths =  175, number of infected = 1519\n",
      "2020-06-24 11:10:07,618 - june.simulator - INFO - Date = 2020-04-25 04:00:00, number of deaths =  175, number of infected = 1414\n",
      "2020-06-24 11:10:10,714 - june.simulator - INFO - Date = 2020-04-25 08:00:00, number of deaths =  176, number of infected = 1336\n",
      "2020-06-24 11:10:10,970 - june.simulator - INFO - Date = 2020-04-25 12:00:00, number of deaths =  177, number of infected = 1248\n",
      "2020-06-24 11:10:14,068 - june.simulator - INFO - Date = 2020-04-26 00:00:00, number of deaths =  177, number of infected = 1003\n",
      "2020-06-24 11:10:17,197 - june.simulator - INFO - Date = 2020-04-26 04:00:00, number of deaths =  177, number of infected = 933\n",
      "2020-06-24 11:10:20,331 - june.simulator - INFO - Date = 2020-04-26 08:00:00, number of deaths =  177, number of infected = 895\n",
      "2020-06-24 11:10:20,578 - june.simulator - INFO - Date = 2020-04-26 12:00:00, number of deaths =  177, number of infected = 839\n",
      "2020-06-24 11:10:20,833 - june.simulator - INFO - Date = 2020-04-27 00:00:00, number of deaths =  179, number of infected = 692\n",
      "2020-06-24 11:10:21,488 - june.simulator - INFO - Date = 2020-04-27 01:00:00, number of deaths =  179, number of infected = 675\n",
      "2020-06-24 11:10:22,140 - june.simulator - INFO - Date = 2020-04-27 05:00:00, number of deaths =  179, number of infected = 630\n",
      "2020-06-24 11:10:22,413 - june.simulator - INFO - Date = 2020-04-27 09:00:00, number of deaths =  179, number of infected = 594\n",
      "2020-06-24 11:10:24,978 - june.simulator - INFO - Date = 2020-04-27 10:00:00, number of deaths =  179, number of infected = 583\n",
      "2020-06-24 11:10:25,234 - june.simulator - INFO - Date = 2020-04-27 13:00:00, number of deaths =  179, number of infected = 561\n",
      "2020-06-24 11:10:25,505 - june.simulator - INFO - Date = 2020-04-28 00:00:00, number of deaths =  181, number of infected = 455\n",
      "2020-06-24 11:10:26,170 - june.simulator - INFO - Date = 2020-04-28 01:00:00, number of deaths =  181, number of infected = 450\n",
      "2020-06-24 11:10:26,829 - june.simulator - INFO - Date = 2020-04-28 05:00:00, number of deaths =  181, number of infected = 420\n",
      "2020-06-24 11:10:27,100 - june.simulator - INFO - Date = 2020-04-28 09:00:00, number of deaths =  181, number of infected = 387\n",
      "2020-06-24 11:10:29,594 - june.simulator - INFO - Date = 2020-04-28 10:00:00, number of deaths =  181, number of infected = 382\n",
      "2020-06-24 11:10:29,818 - june.simulator - INFO - Date = 2020-04-28 13:00:00, number of deaths =  181, number of infected = 360\n",
      "2020-06-24 11:10:30,069 - june.simulator - INFO - Date = 2020-04-29 00:00:00, number of deaths =  183, number of infected = 286\n",
      "2020-06-24 11:10:30,741 - june.simulator - INFO - Date = 2020-04-29 01:00:00, number of deaths =  183, number of infected = 284\n",
      "2020-06-24 11:10:31,401 - june.simulator - INFO - Date = 2020-04-29 05:00:00, number of deaths =  185, number of infected = 266\n",
      "2020-06-24 11:10:31,666 - june.simulator - INFO - Date = 2020-04-29 09:00:00, number of deaths =  185, number of infected = 252\n",
      "2020-06-24 11:10:34,262 - june.simulator - INFO - Date = 2020-04-29 10:00:00, number of deaths =  185, number of infected = 245\n",
      "2020-06-24 11:10:34,528 - june.simulator - INFO - Date = 2020-04-29 13:00:00, number of deaths =  185, number of infected = 233\n",
      "2020-06-24 11:10:34,786 - june.simulator - INFO - Date = 2020-04-30 00:00:00, number of deaths =  185, number of infected = 190\n",
      "2020-06-24 11:10:35,448 - june.simulator - INFO - Date = 2020-04-30 01:00:00, number of deaths =  185, number of infected = 188\n",
      "2020-06-24 11:10:36,253 - june.simulator - INFO - Date = 2020-04-30 05:00:00, number of deaths =  186, number of infected = 176\n",
      "2020-06-24 11:10:36,566 - june.simulator - INFO - Date = 2020-04-30 09:00:00, number of deaths =  186, number of infected = 153\n",
      "2020-06-24 11:10:39,106 - june.simulator - INFO - Date = 2020-04-30 10:00:00, number of deaths =  186, number of infected = 146\n",
      "2020-06-24 11:10:39,336 - june.simulator - INFO - Date = 2020-04-30 13:00:00, number of deaths =  186, number of infected = 145\n",
      "2020-06-24 11:10:39,599 - june.simulator - INFO - Date = 2020-05-01 00:00:00, number of deaths =  186, number of infected = 117\n",
      "2020-06-24 11:10:40,246 - june.simulator - INFO - Date = 2020-05-01 01:00:00, number of deaths =  186, number of infected = 115\n",
      "2020-06-24 11:10:40,948 - june.simulator - INFO - Date = 2020-05-01 05:00:00, number of deaths =  186, number of infected = 110\n",
      "2020-06-24 11:10:41,217 - june.simulator - INFO - Date = 2020-05-01 09:00:00, number of deaths =  186, number of infected = 100\n",
      "2020-06-24 11:10:43,759 - june.simulator - INFO - Date = 2020-05-01 10:00:00, number of deaths =  186, number of infected = 99\n",
      "2020-06-24 11:10:44,002 - june.simulator - INFO - Date = 2020-05-01 13:00:00, number of deaths =  186, number of infected = 97\n",
      "2020-06-24 11:10:47,248 - june.simulator - INFO - Date = 2020-05-02 00:00:00, number of deaths =  186, number of infected = 81\n",
      "2020-06-24 11:10:50,318 - june.simulator - INFO - Date = 2020-05-02 04:00:00, number of deaths =  187, number of infected = 79\n",
      "2020-06-24 11:10:53,398 - june.simulator - INFO - Date = 2020-05-02 08:00:00, number of deaths =  187, number of infected = 75\n",
      "2020-06-24 11:10:53,624 - june.simulator - INFO - Date = 2020-05-02 12:00:00, number of deaths =  187, number of infected = 72\n",
      "2020-06-24 11:10:56,629 - june.simulator - INFO - Date = 2020-05-03 00:00:00, number of deaths =  187, number of infected = 54\n",
      "2020-06-24 11:10:59,700 - june.simulator - INFO - Date = 2020-05-03 04:00:00, number of deaths =  187, number of infected = 50\n",
      "2020-06-24 11:11:02,970 - june.simulator - INFO - Date = 2020-05-03 08:00:00, number of deaths =  187, number of infected = 47\n",
      "2020-06-24 11:11:03,224 - june.simulator - INFO - Date = 2020-05-03 12:00:00, number of deaths =  187, number of infected = 45\n",
      "2020-06-24 11:11:03,490 - june.simulator - INFO - Date = 2020-05-04 00:00:00, number of deaths =  187, number of infected = 39\n",
      "2020-06-24 11:11:04,171 - june.simulator - INFO - Date = 2020-05-04 01:00:00, number of deaths =  187, number of infected = 39\n",
      "2020-06-24 11:11:04,814 - june.simulator - INFO - Date = 2020-05-04 05:00:00, number of deaths =  187, number of infected = 37\n",
      "2020-06-24 11:11:05,093 - june.simulator - INFO - Date = 2020-05-04 09:00:00, number of deaths =  187, number of infected = 36\n",
      "2020-06-24 11:11:07,612 - june.simulator - INFO - Date = 2020-05-04 10:00:00, number of deaths =  187, number of infected = 36\n",
      "2020-06-24 11:11:07,835 - june.simulator - INFO - Date = 2020-05-04 13:00:00, number of deaths =  187, number of infected = 36\n",
      "2020-06-24 11:11:08,087 - june.simulator - INFO - Date = 2020-05-05 00:00:00, number of deaths =  189, number of infected = 30\n",
      "2020-06-24 11:11:08,756 - june.simulator - INFO - Date = 2020-05-05 01:00:00, number of deaths =  189, number of infected = 30\n",
      "2020-06-24 11:11:09,464 - june.simulator - INFO - Date = 2020-05-05 05:00:00, number of deaths =  189, number of infected = 26\n",
      "2020-06-24 11:11:09,734 - june.simulator - INFO - Date = 2020-05-05 09:00:00, number of deaths =  189, number of infected = 26\n",
      "2020-06-24 11:11:12,984 - june.simulator - INFO - Date = 2020-05-05 10:00:00, number of deaths =  189, number of infected = 25\n",
      "2020-06-24 11:11:13,309 - june.simulator - INFO - Date = 2020-05-05 13:00:00, number of deaths =  189, number of infected = 23\n",
      "2020-06-24 11:11:13,784 - june.simulator - INFO - Date = 2020-05-06 00:00:00, number of deaths =  189, number of infected = 17\n",
      "2020-06-24 11:11:14,506 - june.simulator - INFO - Date = 2020-05-06 01:00:00, number of deaths =  189, number of infected = 17\n",
      "2020-06-24 11:11:15,248 - june.simulator - INFO - Date = 2020-05-06 05:00:00, number of deaths =  189, number of infected = 17\n",
      "2020-06-24 11:11:15,561 - june.simulator - INFO - Date = 2020-05-06 09:00:00, number of deaths =  189, number of infected = 16\n",
      "2020-06-24 11:11:18,432 - june.simulator - INFO - Date = 2020-05-06 10:00:00, number of deaths =  189, number of infected = 15\n",
      "2020-06-24 11:11:18,686 - june.simulator - INFO - Date = 2020-05-06 13:00:00, number of deaths =  189, number of infected = 14\n",
      "2020-06-24 11:11:18,942 - june.simulator - INFO - Date = 2020-05-07 00:00:00, number of deaths =  189, number of infected = 10\n",
      "2020-06-24 11:11:19,705 - june.simulator - INFO - Date = 2020-05-07 01:00:00, number of deaths =  189, number of infected = 10\n",
      "2020-06-24 11:11:20,541 - june.simulator - INFO - Date = 2020-05-07 05:00:00, number of deaths =  189, number of infected = 10\n",
      "2020-06-24 11:11:20,888 - june.simulator - INFO - Date = 2020-05-07 09:00:00, number of deaths =  189, number of infected = 10\n",
      "2020-06-24 11:11:23,548 - june.simulator - INFO - Date = 2020-05-07 10:00:00, number of deaths =  189, number of infected = 10\n",
      "2020-06-24 11:11:23,869 - june.simulator - INFO - Date = 2020-05-07 13:00:00, number of deaths =  189, number of infected = 10\n",
      "2020-06-24 11:11:24,164 - june.simulator - INFO - Date = 2020-05-08 00:00:00, number of deaths =  189, number of infected = 7\n",
      "2020-06-24 11:11:24,893 - june.simulator - INFO - Date = 2020-05-08 01:00:00, number of deaths =  189, number of infected = 7\n",
      "2020-06-24 11:11:25,693 - june.simulator - INFO - Date = 2020-05-08 05:00:00, number of deaths =  189, number of infected = 7\n",
      "2020-06-24 11:11:26,020 - june.simulator - INFO - Date = 2020-05-08 09:00:00, number of deaths =  190, number of infected = 6\n",
      "2020-06-24 11:11:29,584 - june.simulator - INFO - Date = 2020-05-08 10:00:00, number of deaths =  190, number of infected = 6\n",
      "2020-06-24 11:11:29,838 - june.simulator - INFO - Date = 2020-05-08 13:00:00, number of deaths =  190, number of infected = 5\n",
      "2020-06-24 11:11:32,845 - june.simulator - INFO - Date = 2020-05-09 00:00:00, number of deaths =  190, number of infected = 4\n",
      "2020-06-24 11:11:35,946 - june.simulator - INFO - Date = 2020-05-09 04:00:00, number of deaths =  190, number of infected = 4\n",
      "2020-06-24 11:11:39,204 - june.simulator - INFO - Date = 2020-05-09 08:00:00, number of deaths =  190, number of infected = 4\n",
      "2020-06-24 11:11:39,499 - june.simulator - INFO - Date = 2020-05-09 12:00:00, number of deaths =  190, number of infected = 4\n",
      "2020-06-24 11:11:42,643 - june.simulator - INFO - Date = 2020-05-10 00:00:00, number of deaths =  191, number of infected = 3\n",
      "2020-06-24 11:11:45,697 - june.simulator - INFO - Date = 2020-05-10 04:00:00, number of deaths =  191, number of infected = 3\n",
      "2020-06-24 11:11:48,878 - june.simulator - INFO - Date = 2020-05-10 08:00:00, number of deaths =  191, number of infected = 3\n",
      "2020-06-24 11:11:49,117 - june.simulator - INFO - Date = 2020-05-10 12:00:00, number of deaths =  191, number of infected = 3\n",
      "2020-06-24 11:11:49,399 - june.simulator - INFO - Date = 2020-05-11 00:00:00, number of deaths =  191, number of infected = 2\n",
      "2020-06-24 11:11:50,077 - june.simulator - INFO - Date = 2020-05-11 01:00:00, number of deaths =  191, number of infected = 2\n",
      "2020-06-24 11:11:50,792 - june.simulator - INFO - Date = 2020-05-11 05:00:00, number of deaths =  191, number of infected = 2\n",
      "2020-06-24 11:11:51,092 - june.simulator - INFO - Date = 2020-05-11 09:00:00, number of deaths =  191, number of infected = 2\n",
      "2020-06-24 11:11:53,852 - june.simulator - INFO - Date = 2020-05-11 10:00:00, number of deaths =  191, number of infected = 2\n",
      "2020-06-24 11:11:54,116 - june.simulator - INFO - Date = 2020-05-11 13:00:00, number of deaths =  191, number of infected = 2\n",
      "2020-06-24 11:11:54,399 - june.simulator - INFO - Date = 2020-05-12 00:00:00, number of deaths =  191, number of infected = 2\n",
      "2020-06-24 11:11:55,133 - june.simulator - INFO - Date = 2020-05-12 01:00:00, number of deaths =  191, number of infected = 2\n",
      "2020-06-24 11:11:55,831 - june.simulator - INFO - Date = 2020-05-12 05:00:00, number of deaths =  191, number of infected = 2\n",
      "2020-06-24 11:11:56,145 - june.simulator - INFO - Date = 2020-05-12 09:00:00, number of deaths =  191, number of infected = 2\n",
      "2020-06-24 11:11:58,810 - june.simulator - INFO - Date = 2020-05-12 10:00:00, number of deaths =  191, number of infected = 2\n",
      "2020-06-24 11:11:59,047 - june.simulator - INFO - Date = 2020-05-12 13:00:00, number of deaths =  191, number of infected = 2\n",
      "2020-06-24 11:11:59,304 - june.simulator - INFO - Date = 2020-05-13 00:00:00, number of deaths =  192, number of infected = 0\n",
      "2020-06-24 11:12:00,018 - june.simulator - INFO - Date = 2020-05-13 01:00:00, number of deaths =  192, number of infected = 0\n",
      "2020-06-24 11:12:00,819 - june.simulator - INFO - Date = 2020-05-13 05:00:00, number of deaths =  192, number of infected = 0\n",
      "2020-06-24 11:12:01,114 - june.simulator - INFO - Date = 2020-05-13 09:00:00, number of deaths =  192, number of infected = 0\n",
      "2020-06-24 11:12:03,765 - june.simulator - INFO - Date = 2020-05-13 10:00:00, number of deaths =  192, number of infected = 0\n",
      "2020-06-24 11:12:04,011 - june.simulator - INFO - Date = 2020-05-13 13:00:00, number of deaths =  192, number of infected = 0\n",
      "2020-06-24 11:12:04,273 - june.simulator - INFO - Date = 2020-05-14 00:00:00, number of deaths =  192, number of infected = 0\n",
      "2020-06-24 11:12:04,979 - june.simulator - INFO - Date = 2020-05-14 01:00:00, number of deaths =  192, number of infected = 0\n",
      "2020-06-24 11:12:05,631 - june.simulator - INFO - Date = 2020-05-14 05:00:00, number of deaths =  192, number of infected = 0\n",
      "2020-06-24 11:12:05,897 - june.simulator - INFO - Date = 2020-05-14 09:00:00, number of deaths =  192, number of infected = 0\n",
      "2020-06-24 11:12:08,421 - june.simulator - INFO - Date = 2020-05-14 10:00:00, number of deaths =  192, number of infected = 0\n",
      "2020-06-24 11:12:08,660 - june.simulator - INFO - Date = 2020-05-14 13:00:00, number of deaths =  192, number of infected = 0\n",
      "2020-06-24 11:12:08,904 - june.simulator - INFO - Date = 2020-05-15 00:00:00, number of deaths =  192, number of infected = 0\n",
      "2020-06-24 11:12:09,585 - june.simulator - INFO - Date = 2020-05-15 01:00:00, number of deaths =  192, number of infected = 0\n",
      "2020-06-24 11:12:10,263 - june.simulator - INFO - Date = 2020-05-15 05:00:00, number of deaths =  192, number of infected = 0\n",
      "2020-06-24 11:12:10,532 - june.simulator - INFO - Date = 2020-05-15 09:00:00, number of deaths =  192, number of infected = 0\n",
      "2020-06-24 11:12:13,169 - june.simulator - INFO - Date = 2020-05-15 10:00:00, number of deaths =  192, number of infected = 0\n",
      "2020-06-24 11:12:13,440 - june.simulator - INFO - Date = 2020-05-15 13:00:00, number of deaths =  192, number of infected = 0\n",
      "2020-06-24 11:12:16,736 - june.simulator - INFO - Date = 2020-05-16 00:00:00, number of deaths =  192, number of infected = 0\n",
      "CPU times: user 8min 25s, sys: 942 ms, total: 8min 25s\n",
      "Wall time: 8min 33s\n"
     ]
    }
   ],
   "source": [
    "%%time\n",
    "simulator.run()"
   ]
  },
  {
   "cell_type": "code",
   "execution_count": 96,
   "metadata": {},
   "outputs": [],
   "source": [
    "ss = 0\n",
    "for group in simulator.need_interaction_groups:\n",
    "    ss += group.size"
   ]
  },
  {
   "cell_type": "markdown",
   "metadata": {},
   "source": [
    "While the simulation runs (and afterwards) we can launch the visualization webpage by running\n",
    "```python june/visualizer.py path/to/results``` "
   ]
  },
  {
   "cell_type": "markdown",
   "metadata": {},
   "source": [
    "# Getting the results"
   ]
  },
  {
   "cell_type": "markdown",
   "metadata": {},
   "source": [
    "All results are stored in a json file specified in the ``save_path`` variable in the config file. We can also access it from ``world.logger`` directly."
   ]
  },
  {
   "cell_type": "code",
   "execution_count": 97,
   "metadata": {},
   "outputs": [],
   "source": [
    "import pandas as pd"
   ]
  },
  {
   "cell_type": "code",
   "execution_count": 98,
   "metadata": {},
   "outputs": [],
   "source": [
    "read = ReadLogger()"
   ]
  },
  {
   "cell_type": "markdown",
   "metadata": {},
   "source": [
    "## Hospital data and how it changed over time"
   ]
  },
  {
   "cell_type": "code",
   "execution_count": 99,
   "metadata": {},
   "outputs": [],
   "source": [
    "hospitals_df = read.load_hospital_capacity()"
   ]
  },
  {
   "cell_type": "code",
   "execution_count": 100,
   "metadata": {},
   "outputs": [
    {
     "data": {
      "text/html": [
       "<div>\n",
       "<style scoped>\n",
       "    .dataframe tbody tr th:only-of-type {\n",
       "        vertical-align: middle;\n",
       "    }\n",
       "\n",
       "    .dataframe tbody tr th {\n",
       "        vertical-align: top;\n",
       "    }\n",
       "\n",
       "    .dataframe thead th {\n",
       "        text-align: right;\n",
       "    }\n",
       "</style>\n",
       "<table border=\"1\" class=\"dataframe\">\n",
       "  <thead>\n",
       "    <tr style=\"text-align: right;\">\n",
       "      <th></th>\n",
       "      <th>time_stamp</th>\n",
       "      <th>id</th>\n",
       "      <th>n_patients</th>\n",
       "      <th>n_patients_icu</th>\n",
       "    </tr>\n",
       "  </thead>\n",
       "  <tbody>\n",
       "    <tr>\n",
       "      <th>0</th>\n",
       "      <td>2020-03-07T04:00:00.000000</td>\n",
       "      <td>1</td>\n",
       "      <td>0</td>\n",
       "      <td>0</td>\n",
       "    </tr>\n",
       "    <tr>\n",
       "      <th>1</th>\n",
       "      <td>2020-03-07T08:00:00.000000</td>\n",
       "      <td>1</td>\n",
       "      <td>0</td>\n",
       "      <td>0</td>\n",
       "    </tr>\n",
       "    <tr>\n",
       "      <th>2</th>\n",
       "      <td>2020-03-07T12:00:00.000000</td>\n",
       "      <td>1</td>\n",
       "      <td>0</td>\n",
       "      <td>0</td>\n",
       "    </tr>\n",
       "  </tbody>\n",
       "</table>\n",
       "</div>"
      ],
      "text/plain": [
       "                   time_stamp id n_patients n_patients_icu\n",
       "0  2020-03-07T04:00:00.000000  1          0              0\n",
       "1  2020-03-07T08:00:00.000000  1          0              0\n",
       "2  2020-03-07T12:00:00.000000  1          0              0"
      ]
     },
     "execution_count": 100,
     "metadata": {},
     "output_type": "execute_result"
    }
   ],
   "source": [
    "hospitals_df.head(3)"
   ]
  },
  {
   "cell_type": "code",
   "execution_count": 101,
   "metadata": {},
   "outputs": [],
   "source": [
    "hospitals_characteristics_df = read.load_hospital_characteristics()"
   ]
  },
  {
   "cell_type": "code",
   "execution_count": 102,
   "metadata": {},
   "outputs": [
    {
     "data": {
      "text/html": [
       "<div>\n",
       "<style scoped>\n",
       "    .dataframe tbody tr th:only-of-type {\n",
       "        vertical-align: middle;\n",
       "    }\n",
       "\n",
       "    .dataframe tbody tr th {\n",
       "        vertical-align: top;\n",
       "    }\n",
       "\n",
       "    .dataframe thead th {\n",
       "        text-align: right;\n",
       "    }\n",
       "</style>\n",
       "<table border=\"1\" class=\"dataframe\">\n",
       "  <thead>\n",
       "    <tr style=\"text-align: right;\">\n",
       "      <th></th>\n",
       "      <th>longitude</th>\n",
       "      <th>latitude</th>\n",
       "      <th>n_beds</th>\n",
       "      <th>n_icu_beds</th>\n",
       "      <th>trust_code</th>\n",
       "    </tr>\n",
       "  </thead>\n",
       "  <tbody>\n",
       "    <tr>\n",
       "      <th>0</th>\n",
       "      <td>0.688477</td>\n",
       "      <td>51.5625</td>\n",
       "      <td>2115</td>\n",
       "      <td>296</td>\n",
       "      <td>RAJ</td>\n",
       "    </tr>\n",
       "  </tbody>\n",
       "</table>\n",
       "</div>"
      ],
      "text/plain": [
       "   longitude  latitude  n_beds  n_icu_beds trust_code\n",
       "0   0.688477   51.5625    2115         296        RAJ"
      ]
     },
     "execution_count": 102,
     "metadata": {},
     "output_type": "execute_result"
    }
   ],
   "source": [
    "hospitals_characteristics_df"
   ]
  },
  {
   "cell_type": "markdown",
   "metadata": {},
   "source": [
    "## where did infections happen?"
   ]
  },
  {
   "cell_type": "code",
   "execution_count": 103,
   "metadata": {},
   "outputs": [],
   "source": [
    "loc_df = read.get_locations_infections()"
   ]
  },
  {
   "cell_type": "code",
   "execution_count": 104,
   "metadata": {},
   "outputs": [],
   "source": [
    "locations_per_day = read.locations_df.groupby(pd.Grouper(freq='D')).sum()"
   ]
  },
  {
   "cell_type": "code",
   "execution_count": 105,
   "metadata": {},
   "outputs": [],
   "source": [
    "all_infection_places = set(locations_per_day.location.sum())"
   ]
  },
  {
   "cell_type": "code",
   "execution_count": 106,
   "metadata": {},
   "outputs": [],
   "source": [
    "def n_infections(row, infection_place):\n",
    "    return sum([row.counts[i] for i, x in enumerate(row.location) if x == infection_place])\n"
   ]
  },
  {
   "cell_type": "code",
   "execution_count": 107,
   "metadata": {},
   "outputs": [],
   "source": [
    "for infection_place in all_infection_places:\n",
    "    locations_per_day[str(infection_place)] = locations_per_day.apply(\n",
    "        lambda x: n_infections(x, infection_place),\n",
    "        axis=1\n",
    "    )"
   ]
  },
  {
   "cell_type": "code",
   "execution_count": 108,
   "metadata": {},
   "outputs": [],
   "source": [
    "locations_per_day = locations_per_day.drop(columns=['location',\n",
    "                                                    'counts'])"
   ]
  },
  {
   "cell_type": "code",
   "execution_count": 109,
   "metadata": {},
   "outputs": [],
   "source": [
    "locations_per_day = locations_per_day.div(\n",
    "    locations_per_day.sum(axis=1), axis=0\n",
    ")\n"
   ]
  },
  {
   "cell_type": "code",
   "execution_count": 110,
   "metadata": {},
   "outputs": [
    {
     "data": {
      "text/plain": [
       "Text(0, 0.5, 'Percent of infections')"
      ]
     },
     "execution_count": 110,
     "metadata": {},
     "output_type": "execute_result"
    },
    {
     "data": {
      "image/png": "[encoded data removed]",
      "text/plain": [
       "<Figure size 432x288 with 1 Axes>"
      ]
     },
     "metadata": {
      "needs_background": "light"
     },
     "output_type": "display_data"
    }
   ],
   "source": [
    "locations_per_day.plot.area( alpha=0.5)\n",
    "plt.legend(bbox_to_anchor=(1,1))\n",
    "plt.ylabel('Percent of infections')"
   ]
  },
  {
   "cell_type": "code",
   "execution_count": 111,
   "metadata": {},
   "outputs": [
    {
     "data": {
      "text/plain": [
       "Text(0.5, 0, 'location')"
      ]
     },
     "execution_count": 111,
     "metadata": {},
     "output_type": "execute_result"
    },
    {
     "data": {
      "image/png": "[encoded data removed]",
      "text/plain": [
       "<Figure size 432x288 with 1 Axes>"
      ]
     },
     "metadata": {
      "needs_background": "light"
     },
     "output_type": "display_data"
    }
   ],
   "source": [
    "import matplotlib.ticker as mtick\n",
    "\n",
    "ax = loc_df['percentage_infections'].sort_values().plot.bar()\n",
    "ax.yaxis.set_major_formatter(mtick.PercentFormatter())\n",
    "plt.ylabel('Percentage of infections at location')\n",
    "plt.xlabel('location')\n",
    "#plt.yscale('log')"
   ]
  },
  {
   "cell_type": "markdown",
   "metadata": {},
   "source": [
    "## rate of infection"
   ]
  },
  {
   "cell_type": "code",
   "execution_count": 112,
   "metadata": {},
   "outputs": [
    {
     "name": "stderr",
     "output_type": "stream",
     "text": [
      "/home/arnau/.local/lib/python3.8/site-packages/numpy/core/fromnumeric.py:3334: RuntimeWarning: Mean of empty slice.\n",
      "  return _methods._mean(a, axis=axis, dtype=dtype,\n",
      "/home/arnau/.local/lib/python3.8/site-packages/numpy/core/_methods.py:161: RuntimeWarning: invalid value encountered in double_scalars\n",
      "  ret = ret.dtype.type(ret / rcount)\n"
     ]
    }
   ],
   "source": [
    "r_df = read.get_r()"
   ]
  },
  {
   "cell_type": "code",
   "execution_count": 113,
   "metadata": {},
   "outputs": [
    {
     "data": {
      "text/plain": [
       "Text(0, 0.5, 'R')"
      ]
     },
     "execution_count": 113,
     "metadata": {},
     "output_type": "execute_result"
    },
    {
     "data": {
      "image/png": "[encoded data removed]",
      "text/plain": [
       "<Figure size 432x288 with 1 Axes>"
      ]
     },
     "metadata": {
      "needs_background": "light"
     },
     "output_type": "display_data"
    }
   ],
   "source": [
    "r_df.plot()\n",
    "plt.axvspan(policies.social_distancing_start, \n",
    "            policies.social_distancing_end,\n",
    "            facecolor='y', alpha=0.2)\n",
    "plt.axhline(y=1, linestyle='dashed', color='gray')\n",
    "plt.xlabel('Date')\n",
    "plt.ylabel('R')"
   ]
  },
  {
   "cell_type": "markdown",
   "metadata": {},
   "source": [
    "## World infection curves, and by super area"
   ]
  },
  {
   "cell_type": "code",
   "execution_count": 114,
   "metadata": {},
   "outputs": [],
   "source": [
    "world_df = read.world_summary()"
   ]
  },
  {
   "cell_type": "code",
   "execution_count": 115,
   "metadata": {},
   "outputs": [
    {
     "data": {
      "text/plain": [
       "Text(0, 0.5, '# Infected')"
      ]
     },
     "execution_count": 115,
     "metadata": {},
     "output_type": "execute_result"
    },
    {
     "data": {
      "image/png": "[encoded data removed]",
      "text/plain": [
       "<Figure size 432x288 with 1 Axes>"
      ]
     },
     "metadata": {
      "needs_background": "light"
     },
     "output_type": "display_data"
    }
   ],
   "source": [
    "world_df['infected'].plot()\n",
    "plt.axvspan(policies.social_distancing_start, \n",
    "            policies.social_distancing_end,\n",
    "            facecolor='y', alpha=0.2)\n",
    "plt.ylabel('# Infected')"
   ]
  },
  {
   "cell_type": "markdown",
   "metadata": {},
   "source": [
    "## Seroprevalence"
   ]
  },
  {
   "cell_type": "code",
   "execution_count": 116,
   "metadata": {},
   "outputs": [
    {
     "data": {
      "text/plain": [
       "Text(0, 0.5, 'Seroprevalence (% infected)')"
      ]
     },
     "execution_count": 116,
     "metadata": {},
     "output_type": "execute_result"
    },
    {
     "data": {
      "image/png": "[encoded data removed]",
      "text/plain": [
       "<Figure size 432x288 with 1 Axes>"
      ]
     },
     "metadata": {
      "needs_background": "light"
     },
     "output_type": "display_data"
    }
   ],
   "source": [
    "(100*world_df['new_infections'].cumsum()/read.n_people).plot()\n",
    "plt.axvspan(policies.social_distancing_start, \n",
    "            policies.social_distancing_end,\n",
    "            facecolor='y', alpha=0.2)\n",
    "plt.axhline(y=20, linestyle='dashed', color='indianred')\n",
    "plt.ylabel('Seroprevalence (% infected)')"
   ]
  },
  {
   "cell_type": "code",
   "execution_count": 117,
   "metadata": {},
   "outputs": [
    {
     "data": {
      "text/plain": [
       "<matplotlib.legend.Legend at 0x7fa3ed191b50>"
      ]
     },
     "execution_count": 117,
     "metadata": {},
     "output_type": "execute_result"
    },
    {
     "data": {
      "image/png": "[encoded data removed]",
      "text/plain": [
       "<Figure size 432x288 with 1 Axes>"
      ]
     },
     "metadata": {
      "needs_background": "light"
     },
     "output_type": "display_data"
    }
   ],
   "source": [
    "world_df.plot()\n",
    "plt.axvspan(policies.social_distancing_start, \n",
    "            policies.social_distancing_end,\n",
    "            facecolor='y', alpha=0.2)\n",
    "plt.legend(bbox_to_anchor=(1,1))\n"
   ]
  },
  {
   "cell_type": "code",
   "execution_count": 118,
   "metadata": {},
   "outputs": [
    {
     "ename": "IndexError",
     "evalue": "index 46787 is out of bounds for axis 0 with size 46784",
     "output_type": "error",
     "traceback": [
      "\u001b[0;31m---------------------------------------------------------------------------\u001b[0m",
      "\u001b[0;31mIndexError\u001b[0m                                Traceback (most recent call last)",
      "\u001b[0;32m<ipython-input-118-1c5f22d7c984>\u001b[0m in \u001b[0;36m<module>\u001b[0;34m\u001b[0m\n\u001b[0;32m----> 1\u001b[0;31m \u001b[0marea_df\u001b[0m \u001b[0;34m=\u001b[0m \u001b[0mread\u001b[0m\u001b[0;34m.\u001b[0m\u001b[0msuper_area_summary\u001b[0m\u001b[0;34m(\u001b[0m\u001b[0;34m)\u001b[0m\u001b[0;34m\u001b[0m\u001b[0;34m\u001b[0m\u001b[0m\n\u001b[0m",
      "\u001b[0;32m~/code/JUNE/june/logger/read_logger.py\u001b[0m in \u001b[0;36msuper_area_summary\u001b[0;34m(self)\u001b[0m\n\u001b[1;32m    182\u001b[0m         \u001b[0mdead\u001b[0m\u001b[0;34m,\u001b[0m \u001b[0minfected\u001b[0m\u001b[0;34m...\u001b[0m\u001b[0;34m\u001b[0m\u001b[0;34m\u001b[0m\u001b[0m\n\u001b[1;32m    183\u001b[0m         \"\"\"\n\u001b[0;32m--> 184\u001b[0;31m         self.infections_df[\"super_areas\"] = self.infections_df.apply(\n\u001b[0m\u001b[1;32m    185\u001b[0m             \u001b[0;32mlambda\u001b[0m \u001b[0mx\u001b[0m\u001b[0;34m:\u001b[0m \u001b[0mself\u001b[0m\u001b[0;34m.\u001b[0m\u001b[0msuper_areas\u001b[0m\u001b[0;34m[\u001b[0m\u001b[0mx\u001b[0m\u001b[0;34m.\u001b[0m\u001b[0minfected_id\u001b[0m\u001b[0;34m]\u001b[0m\u001b[0;34m,\u001b[0m \u001b[0maxis\u001b[0m\u001b[0;34m=\u001b[0m\u001b[0;36m1\u001b[0m\u001b[0;34m\u001b[0m\u001b[0;34m\u001b[0m\u001b[0m\n\u001b[1;32m    186\u001b[0m         )\n",
      "\u001b[0;32m~/.local/lib/python3.8/site-packages/pandas/core/frame.py\u001b[0m in \u001b[0;36mapply\u001b[0;34m(self, func, axis, raw, result_type, args, **kwds)\u001b[0m\n\u001b[1;32m   6876\u001b[0m             \u001b[0mkwds\u001b[0m\u001b[0;34m=\u001b[0m\u001b[0mkwds\u001b[0m\u001b[0;34m,\u001b[0m\u001b[0;34m\u001b[0m\u001b[0;34m\u001b[0m\u001b[0m\n\u001b[1;32m   6877\u001b[0m         )\n\u001b[0;32m-> 6878\u001b[0;31m         \u001b[0;32mreturn\u001b[0m \u001b[0mop\u001b[0m\u001b[0;34m.\u001b[0m\u001b[0mget_result\u001b[0m\u001b[0;34m(\u001b[0m\u001b[0;34m)\u001b[0m\u001b[0;34m\u001b[0m\u001b[0;34m\u001b[0m\u001b[0m\n\u001b[0m\u001b[1;32m   6879\u001b[0m \u001b[0;34m\u001b[0m\u001b[0m\n\u001b[1;32m   6880\u001b[0m     \u001b[0;32mdef\u001b[0m \u001b[0mapplymap\u001b[0m\u001b[0;34m(\u001b[0m\u001b[0mself\u001b[0m\u001b[0;34m,\u001b[0m \u001b[0mfunc\u001b[0m\u001b[0;34m)\u001b[0m \u001b[0;34m->\u001b[0m \u001b[0;34m\"DataFrame\"\u001b[0m\u001b[0;34m:\u001b[0m\u001b[0;34m\u001b[0m\u001b[0;34m\u001b[0m\u001b[0m\n",
      "\u001b[0;32m~/.local/lib/python3.8/site-packages/pandas/core/apply.py\u001b[0m in \u001b[0;36mget_result\u001b[0;34m(self)\u001b[0m\n\u001b[1;32m    184\u001b[0m             \u001b[0;32mreturn\u001b[0m \u001b[0mself\u001b[0m\u001b[0;34m.\u001b[0m\u001b[0mapply_raw\u001b[0m\u001b[0;34m(\u001b[0m\u001b[0;34m)\u001b[0m\u001b[0;34m\u001b[0m\u001b[0;34m\u001b[0m\u001b[0m\n\u001b[1;32m    185\u001b[0m \u001b[0;34m\u001b[0m\u001b[0m\n\u001b[0;32m--> 186\u001b[0;31m         \u001b[0;32mreturn\u001b[0m \u001b[0mself\u001b[0m\u001b[0;34m.\u001b[0m\u001b[0mapply_standard\u001b[0m\u001b[0;34m(\u001b[0m\u001b[0;34m)\u001b[0m\u001b[0;34m\u001b[0m\u001b[0;34m\u001b[0m\u001b[0m\n\u001b[0m\u001b[1;32m    187\u001b[0m \u001b[0;34m\u001b[0m\u001b[0m\n\u001b[1;32m    188\u001b[0m     \u001b[0;32mdef\u001b[0m \u001b[0mapply_empty_result\u001b[0m\u001b[0;34m(\u001b[0m\u001b[0mself\u001b[0m\u001b[0;34m)\u001b[0m\u001b[0;34m:\u001b[0m\u001b[0;34m\u001b[0m\u001b[0;34m\u001b[0m\u001b[0m\n",
      "\u001b[0;32m~/.local/lib/python3.8/site-packages/pandas/core/apply.py\u001b[0m in \u001b[0;36mapply_standard\u001b[0;34m(self)\u001b[0m\n\u001b[1;32m    293\u001b[0m \u001b[0;34m\u001b[0m\u001b[0m\n\u001b[1;32m    294\u001b[0m             \u001b[0;32mtry\u001b[0m\u001b[0;34m:\u001b[0m\u001b[0;34m\u001b[0m\u001b[0;34m\u001b[0m\u001b[0m\n\u001b[0;32m--> 295\u001b[0;31m                 result = libreduction.compute_reduction(\n\u001b[0m\u001b[1;32m    296\u001b[0m                     \u001b[0mvalues\u001b[0m\u001b[0;34m,\u001b[0m \u001b[0mself\u001b[0m\u001b[0;34m.\u001b[0m\u001b[0mf\u001b[0m\u001b[0;34m,\u001b[0m \u001b[0maxis\u001b[0m\u001b[0;34m=\u001b[0m\u001b[0mself\u001b[0m\u001b[0;34m.\u001b[0m\u001b[0maxis\u001b[0m\u001b[0;34m,\u001b[0m \u001b[0mdummy\u001b[0m\u001b[0;34m=\u001b[0m\u001b[0mdummy\u001b[0m\u001b[0;34m,\u001b[0m \u001b[0mlabels\u001b[0m\u001b[0;34m=\u001b[0m\u001b[0mlabels\u001b[0m\u001b[0;34m\u001b[0m\u001b[0;34m\u001b[0m\u001b[0m\n\u001b[1;32m    297\u001b[0m                 )\n",
      "\u001b[0;32mpandas/_libs/reduction.pyx\u001b[0m in \u001b[0;36mpandas._libs.reduction.compute_reduction\u001b[0;34m()\u001b[0m\n",
      "\u001b[0;32mpandas/_libs/reduction.pyx\u001b[0m in \u001b[0;36mpandas._libs.reduction.Reducer.get_result\u001b[0;34m()\u001b[0m\n",
      "\u001b[0;32m~/code/JUNE/june/logger/read_logger.py\u001b[0m in \u001b[0;36m<lambda>\u001b[0;34m(x)\u001b[0m\n\u001b[1;32m    183\u001b[0m         \"\"\"\n\u001b[1;32m    184\u001b[0m         self.infections_df[\"super_areas\"] = self.infections_df.apply(\n\u001b[0;32m--> 185\u001b[0;31m             \u001b[0;32mlambda\u001b[0m \u001b[0mx\u001b[0m\u001b[0;34m:\u001b[0m \u001b[0mself\u001b[0m\u001b[0;34m.\u001b[0m\u001b[0msuper_areas\u001b[0m\u001b[0;34m[\u001b[0m\u001b[0mx\u001b[0m\u001b[0;34m.\u001b[0m\u001b[0minfected_id\u001b[0m\u001b[0;34m]\u001b[0m\u001b[0;34m,\u001b[0m \u001b[0maxis\u001b[0m\u001b[0;34m=\u001b[0m\u001b[0;36m1\u001b[0m\u001b[0;34m\u001b[0m\u001b[0;34m\u001b[0m\u001b[0m\n\u001b[0m\u001b[1;32m    186\u001b[0m         )\n\u001b[1;32m    187\u001b[0m         \u001b[0mareas_df\u001b[0m \u001b[0;34m=\u001b[0m \u001b[0;34m[\u001b[0m\u001b[0;34m]\u001b[0m\u001b[0;34m\u001b[0m\u001b[0;34m\u001b[0m\u001b[0m\n",
      "\u001b[0;31mIndexError\u001b[0m: index 46787 is out of bounds for axis 0 with size 46784"
     ]
    }
   ],
   "source": [
    "area_df = read.super_area_summary()"
   ]
  },
  {
   "cell_type": "code",
   "execution_count": null,
   "metadata": {},
   "outputs": [],
   "source": [
    "area_df[area_df.super_area == \"E02003282\"].plot()\n",
    "plt.legend(bbox_to_anchor=(1,1))\n",
    "\n"
   ]
  },
  {
   "cell_type": "markdown",
   "metadata": {},
   "source": [
    "## World infection curves per age group"
   ]
  },
  {
   "cell_type": "code",
   "execution_count": null,
   "metadata": {},
   "outputs": [],
   "source": [
    "ages_df = read.age_summary([0,10,20,30,40,\n",
    "                  50,60,70,80,90,100])"
   ]
  },
  {
   "cell_type": "code",
   "execution_count": null,
   "metadata": {},
   "outputs": [],
   "source": [
    "for name, group in ages_df.groupby('age_range'):\n",
    "    group['infected'].plot(label=name)\n",
    "plt.axvspan(policies.social_distancing_start, \n",
    "            policies.social_distancing_end,\n",
    "            facecolor='y', alpha=0.2)\n",
    "plt.legend(bbox_to_anchor=(1,1))\n"
   ]
  },
  {
   "cell_type": "code",
   "execution_count": null,
   "metadata": {},
   "outputs": [],
   "source": [
    "for name, group in ages_df.groupby('age_range'):\n",
    "    group['dead'].cumsum().plot(label=name)\n",
    "plt.legend()"
   ]
  },
  {
   "cell_type": "code",
   "execution_count": null,
   "metadata": {},
   "outputs": [],
   "source": [
    "for name, group in ages_df.groupby('age_range'):\n",
    "    group['susceptible'].plot(label=name)\n",
    "plt.legend()"
   ]
  },
  {
   "cell_type": "code",
   "execution_count": null,
   "metadata": {},
   "outputs": [],
   "source": [
    "for name, group in ages_df.groupby('age_range'):\n",
    "    group['hospital_admissions'].cumsum().plot(label=name)\n",
    "plt.legend()"
   ]
  },
  {
   "cell_type": "code",
   "execution_count": null,
   "metadata": {},
   "outputs": [],
   "source": [
    "for name, group in ages_df.groupby('age_range'):\n",
    "    group['intensive_care_admissions'].cumsum().plot(label=name)\n",
    "plt.legend()"
   ]
  },
  {
   "cell_type": "markdown",
   "metadata": {},
   "source": [
    "## Draw some of the symptoms trajectories"
   ]
  },
  {
   "cell_type": "code",
   "execution_count": null,
   "metadata": {},
   "outputs": [],
   "source": [
    "random_trajectories = read.draw_symptom_trajectories(window_length=600,\n",
    "                                        n_people=10)"
   ]
  },
  {
   "cell_type": "code",
   "execution_count": null,
   "metadata": {},
   "outputs": [],
   "source": [
    "from june.infection import SymptomTag"
   ]
  },
  {
   "cell_type": "code",
   "execution_count": null,
   "metadata": {},
   "outputs": [],
   "source": [
    "symptoms_values = [tag.value for tag in SymptomTag]\n",
    "symptoms_names = [tag.name for tag in SymptomTag]\n"
   ]
  },
  {
   "cell_type": "code",
   "execution_count": null,
   "metadata": {},
   "outputs": [],
   "source": [
    "for df_person in random_trajectories:\n",
    "    df_person['symptoms'].plot()\n",
    "plt.ylabel('Symptoms Trajectory')\n",
    "_ = plt.yticks(symptoms_values, symptoms_names)\n",
    "plt.xlabel('Date')"
   ]
  },
  {
   "cell_type": "code",
   "execution_count": null,
   "metadata": {},
   "outputs": [],
   "source": [
    "for df_person in random_trajectories:\n",
    "    df_person['n_secondary_infections'].plot()\n",
    "plt.ylabel('Number of secondary infections')\n",
    "\n",
    "plt.xlabel('Date')"
   ]
  },
  {
   "cell_type": "code",
   "execution_count": null,
   "metadata": {},
   "outputs": [],
   "source": []
  },
  {
   "cell_type": "code",
   "execution_count": null,
   "metadata": {},
   "outputs": [],
   "source": []
  }
 ],
 "metadata": {
  "kernelspec": {
   "display_name": "Python 3",
   "language": "python",
   "name": "python3"
  },
  "language_info": {
   "codemirror_mode": {
    "name": "ipython",
    "version": 3
   },
   "file_extension": ".py",
   "mimetype": "text/x-python",
   "name": "python",
   "nbconvert_exporter": "python",
   "pygments_lexer": "ipython3",
   "version": "3.8.3"
  }
 },
 "nbformat": 4,
 "nbformat_minor": 4
}
